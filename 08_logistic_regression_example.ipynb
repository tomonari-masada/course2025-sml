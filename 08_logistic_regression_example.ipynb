{
  "nbformat": 4,
  "nbformat_minor": 0,
  "metadata": {
    "colab": {
      "provenance": [],
      "mount_file_id": "1UulLWBTCey5uK2R_HfsFvrxL4TwANceW",
      "authorship_tag": "ABX9TyMjmFJKZnv9yi2cV+nayikn",
      "include_colab_link": true
    },
    "kernelspec": {
      "name": "python3",
      "display_name": "Python 3"
    }
  },
  "cells": [
    {
      "cell_type": "markdown",
      "metadata": {
        "id": "view-in-github",
        "colab_type": "text"
      },
      "source": [
        "<a href=\"https://colab.research.google.com/github/tomonari-masada/course2025-sml/blob/main/08_logistic_regression_example.ipynb\" target=\"_parent\"><img src=\"https://colab.research.google.com/assets/colab-badge.svg\" alt=\"Open In Colab\"/></a>"
      ]
    },
    {
      "cell_type": "markdown",
      "metadata": {
        "id": "l4aDsUHDiXoN"
      },
      "source": [
        "# プランナー課題８の実行例\n",
        " * https://www.kaggle.com/uciml/pima-indians-diabetes-database"
      ]
    },
    {
      "cell_type": "code",
      "metadata": {
        "id": "Pd20MbLdBfV5"
      },
      "source": [
        "import numpy as np\n",
        "import pandas as pd\n",
        "import matplotlib.pyplot as plt\n",
        "from sklearn.model_selection import train_test_split, cross_val_score, GridSearchCV\n",
        "from sklearn.linear_model import LogisticRegression\n",
        "from sklearn.preprocessing import MinMaxScaler, PolynomialFeatures\n",
        "from sklearn.impute import SimpleImputer\n",
        "from sklearn.pipeline import Pipeline\n",
        "from sklearn.compose import ColumnTransformer\n",
        "from sklearn.metrics import roc_auc_score, average_precision_score\n",
        "from sklearn.model_selection import RepeatedStratifiedKFold\n",
        "from sklearn.metrics import PrecisionRecallDisplay, RocCurveDisplay\n",
        "\n",
        "%config InlineBackend.figure_format = 'retina'"
      ],
      "execution_count": null,
      "outputs": []
    },
    {
      "cell_type": "code",
      "metadata": {
        "id": "h6Qv7hnyCEjh"
      },
      "source": [
        "diabetes = pd.read_csv('/content/drive/MyDrive/data/diabetes.csv')"
      ],
      "execution_count": null,
      "outputs": []
    },
    {
      "cell_type": "code",
      "metadata": {
        "id": "HgqyPRukDv80"
      },
      "source": [
        "y = diabetes['Outcome']\n",
        "X = diabetes.drop('Outcome', axis=1)"
      ],
      "execution_count": null,
      "outputs": []
    },
    {
      "cell_type": "markdown",
      "source": [
        "* この分割は変えない。"
      ],
      "metadata": {
        "id": "LIyoVHLr5POh"
      }
    },
    {
      "cell_type": "code",
      "metadata": {
        "id": "bLsoxn02B8CR"
      },
      "source": [
        "X_train, X_test, y_train, y_test = train_test_split(X, y, test_size=0.15, random_state=123)"
      ],
      "execution_count": null,
      "outputs": []
    },
    {
      "cell_type": "code",
      "source": [
        "X_train.hist(bins=50, figsize=(9,9));"
      ],
      "metadata": {
        "id": "tNDonMdUp3Ks"
      },
      "execution_count": null,
      "outputs": []
    },
    {
      "cell_type": "markdown",
      "metadata": {
        "id": "2qZ6-JYaB1w1"
      },
      "source": [
        "## ベースライン: チューニングなしのロジスティック回帰をテストデータで評価"
      ]
    },
    {
      "cell_type": "code",
      "metadata": {
        "id": "ZF1Yyo3NocBr"
      },
      "source": [
        "baseline = LogisticRegression(max_iter=1000, random_state=123)\n",
        "baseline.fit(X_train, y_train)\n",
        "print(f'test score: {baseline.score(X_test, y_test):.4f}')\n",
        "y_test_pred_proba = baseline.predict_proba(X_test)\n",
        "print(f'ROC AUC: {roc_auc_score(y_test, y_test_pred_proba[:,1]):.4f}')\n",
        "print(f'Average precision: {average_precision_score(y_test, y_test_pred_proba[:,1]):.4f}')"
      ],
      "execution_count": null,
      "outputs": []
    },
    {
      "cell_type": "code",
      "source": [
        "fig, ax = plt.subplots()\n",
        "RocCurveDisplay.from_estimator(baseline, X_test, y_test, name=\"baseline\", ax=ax)\n",
        "ax.set_title(\"ROC curve\");"
      ],
      "metadata": {
        "id": "HnTw3K8aJIN2"
      },
      "execution_count": null,
      "outputs": []
    },
    {
      "cell_type": "code",
      "source": [
        "fig, ax = plt.subplots()\n",
        "PrecisionRecallDisplay.from_estimator(baseline, X_test, y_test, name=\"baseline\", ax=ax)\n",
        "ax.set_title(\"2-class Precision-Recall curve\");"
      ],
      "metadata": {
        "id": "DUuNgHhfRBGm"
      },
      "execution_count": null,
      "outputs": []
    },
    {
      "cell_type": "markdown",
      "metadata": {
        "id": "sMirEcP0dbaG"
      },
      "source": [
        "* これをベースラインとみなす。\n",
        "* これより良い結果を得るべく、試行錯誤する。\n",
        "* 試行錯誤した結果として辿り着いたモデルで、最後に一回、テストデータ上での評価を行う。"
      ]
    },
    {
      "cell_type": "markdown",
      "source": [
        "## グリッドサーチ＆交差検証 (1)"
      ],
      "metadata": {
        "id": "92Hwu-pib4VO"
      }
    },
    {
      "cell_type": "markdown",
      "source": [
        "* Pregnanciesについては0は意味のある値なのでimputationは行わない。"
      ],
      "metadata": {
        "id": "gcQyjWDHsJA9"
      }
    },
    {
      "cell_type": "code",
      "source": [
        "preprocessor = ColumnTransformer(transformers=[\n",
        "    (\"imputer\", SimpleImputer(missing_values=0, fill_value=0), ['BloodPressure', 'BMI', 'Glucose', 'SkinThickness', 'Insulin']),\n",
        "     (\"polynomial\", PolynomialFeatures(), ['Age']),\n",
        "])"
      ],
      "metadata": {
        "id": "NAdx-q1Aoonz"
      },
      "execution_count": null,
      "outputs": []
    },
    {
      "cell_type": "code",
      "source": [
        "pipeline = Pipeline(steps=[\n",
        "    (\"preprocessor\", preprocessor),\n",
        "     (\"lr\", LogisticRegression(max_iter=1000)),\n",
        "])"
      ],
      "metadata": {
        "id": "W_Zd8BJQME4a"
      },
      "execution_count": null,
      "outputs": []
    },
    {
      "cell_type": "code",
      "source": [
        "param_grid = {\n",
        "    \"preprocessor__imputer__strategy\": [\"median\", \"mean\", \"constant\"],\n",
        "    \"preprocessor__polynomial__degree\": [1, 2],\n",
        "    \"lr__C\": 10.0 ** np.arange(0, 5),\n",
        "    \"lr__penalty\": [None, \"l1\", \"l2\"],\n",
        "    }"
      ],
      "metadata": {
        "id": "nFPlvyzqN-0F"
      },
      "execution_count": null,
      "outputs": []
    },
    {
      "cell_type": "code",
      "source": [
        "rskf = RepeatedStratifiedKFold(n_splits=10, n_repeats=4, random_state=12345)\n",
        "clf = GridSearchCV(pipeline, param_grid, cv=rskf, n_jobs=-1, scoring=\"average_precision\")\n",
        "clf.fit(X_train, y_train)"
      ],
      "metadata": {
        "id": "LO79G6_xQN7L"
      },
      "execution_count": null,
      "outputs": []
    },
    {
      "cell_type": "code",
      "source": [
        "pd.DataFrame.from_dict(clf.cv_results_).sort_values(by=[\"rank_test_score\"]).head(3)"
      ],
      "metadata": {
        "id": "DCgxEbt-PFFY"
      },
      "execution_count": null,
      "outputs": []
    },
    {
      "cell_type": "markdown",
      "metadata": {
        "id": "UNavOCyN2hZr"
      },
      "source": [
        "## テストデータで最終評価"
      ]
    },
    {
      "cell_type": "code",
      "source": [
        "best_pipeline = clf.best_estimator_"
      ],
      "metadata": {
        "id": "kUwX2XofmRlp"
      },
      "execution_count": null,
      "outputs": []
    },
    {
      "cell_type": "code",
      "source": [
        "best_pipeline.fit(X_train, y_train)\n",
        "print(f'test score: {best_pipeline.score(X_test, y_test):.4f}')\n",
        "y_test_pred_proba = best_pipeline.predict_proba(X_test)\n",
        "print(f'ROC AUC: {roc_auc_score(y_test, y_test_pred_proba[:,1]):.4f}')\n",
        "print(f'Average precision: {average_precision_score(y_test, y_test_pred_proba[:,1]):.4f}')"
      ],
      "metadata": {
        "id": "VYLBhq3tmZTy"
      },
      "execution_count": null,
      "outputs": []
    },
    {
      "cell_type": "code",
      "source": [
        "fig, ax = plt.subplots()\n",
        "RocCurveDisplay.from_estimator(baseline, X_test, y_test, name=\"baseline\", ax=ax)\n",
        "RocCurveDisplay.from_estimator(best_pipeline, X_test, y_test, name=\"ours\", ax=ax)\n",
        "ax.set_title(\"ROC curve\");"
      ],
      "metadata": {
        "id": "L-M8CfckhEs3"
      },
      "execution_count": null,
      "outputs": []
    },
    {
      "cell_type": "code",
      "source": [
        "fig, ax = plt.subplots()\n",
        "PrecisionRecallDisplay.from_estimator(baseline, X_test, y_test, name=\"baseline\", ax=ax)\n",
        "PrecisionRecallDisplay.from_estimator(best_pipeline, X_test, y_test, name=\"ours\", ax=ax)\n",
        "ax.set_title(\"2-class Precision-Recall curve\");"
      ],
      "metadata": {
        "id": "LPRdl-nPiq19"
      },
      "execution_count": null,
      "outputs": []
    },
    {
      "cell_type": "code",
      "source": [],
      "metadata": {
        "id": "BRNReKQAs35K"
      },
      "execution_count": null,
      "outputs": []
    }
  ]
}