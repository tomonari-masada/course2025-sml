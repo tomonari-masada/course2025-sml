{
  "nbformat": 4,
  "nbformat_minor": 0,
  "metadata": {
    "colab": {
      "provenance": [],
      "mount_file_id": "1ujlBtP3o8AudV7sym2lmwhWWW3_YGFb4",
      "authorship_tag": "ABX9TyMOnn2iPuMWPHYk5Qk6J7Ue",
      "include_colab_link": true
    },
    "kernelspec": {
      "name": "python3",
      "display_name": "Python 3"
    }
  },
  "cells": [
    {
      "cell_type": "markdown",
      "metadata": {
        "id": "view-in-github",
        "colab_type": "text"
      },
      "source": [
        "<a href=\"https://colab.research.google.com/github/tomonari-masada/course2025-sml/blob/main/07_linear_regression_2.ipynb\" target=\"_parent\"><img src=\"https://colab.research.google.com/assets/colab-badge.svg\" alt=\"Open In Colab\"/></a>"
      ]
    },
    {
      "cell_type": "markdown",
      "metadata": {
        "id": "Qy8AYW1oaHQi"
      },
      "source": [
        "# ケーススタディ: solubility data\n",
        "\n",
        "* 下記の書籍のSection 6.1で紹介されているデータセットを使ってみる。\n",
        "  * Max Kuhn and Kjell Johnson. Applied Predictive Modeling. Springer, 2013.\n",
        "  * http://appliedpredictivemodeling.com/data"
      ]
    },
    {
      "cell_type": "markdown",
      "metadata": {
        "id": "evA6IHCfbBUl"
      },
      "source": [
        "* 説明変数は下記の228個\n",
        "  * **Two hundred and eight** binary “fingerprints” that indicate the presence or absence of a particular chemical substructure.\n",
        "  * **Sixteen** count descriptors, such as the number of bonds or the number of bromine atoms.\n",
        "  * **Four** continuous descriptors, such as molecular weight or surface area.\n",
        "\n",
        "* 目的変数はlog solubility\n",
        "  * 範囲は-11.6から1.6、平均は-2.7"
      ]
    },
    {
      "cell_type": "markdown",
      "metadata": {
        "id": "n9LYrNgfLzRk"
      },
      "source": [
        "## データを読み込む"
      ]
    },
    {
      "cell_type": "code",
      "metadata": {
        "id": "BAs8TdF-Ly5J"
      },
      "source": [
        "import os\n",
        "import numpy as np\n",
        "from scipy import stats\n",
        "import pandas as pd\n",
        "import matplotlib.pyplot as plt\n",
        "import seaborn as sns\n",
        "from sklearn.model_selection import train_test_split\n",
        "from sklearn.linear_model import LinearRegression\n",
        "from sklearn.metrics import root_mean_squared_error\n",
        "\n",
        "%config InlineBackend.figure_format = 'retina'"
      ],
      "execution_count": null,
      "outputs": []
    },
    {
      "cell_type": "code",
      "metadata": {
        "id": "FHmuTZD1L5ka"
      },
      "source": [
        "data_path = '/content/drive/MyDrive/data/'\n",
        "\n",
        "# 訓練データ\n",
        "X = pd.read_csv(os.path.join(data_path, 'solTrainX.csv'))\n",
        "y = pd.read_csv(os.path.join(data_path, 'solTrainY.csv'))['x']\n",
        "\n",
        "# テストデータ\n",
        "X_test = pd.read_csv(os.path.join(data_path, 'solTestX.csv'))\n",
        "y_test = pd.read_csv(os.path.join(data_path, 'solTestY.csv'))['x']"
      ],
      "execution_count": null,
      "outputs": []
    },
    {
      "cell_type": "code",
      "metadata": {
        "id": "LMps3c9vAwoo"
      },
      "source": [
        "X.head()"
      ],
      "execution_count": null,
      "outputs": []
    },
    {
      "cell_type": "code",
      "metadata": {
        "id": "dzq32s2UKx5L"
      },
      "source": [
        "X.info()"
      ],
      "execution_count": null,
      "outputs": []
    },
    {
      "cell_type": "code",
      "metadata": {
        "id": "5KojQ8fBAy89"
      },
      "source": [
        "y.head()"
      ],
      "execution_count": null,
      "outputs": []
    },
    {
      "cell_type": "markdown",
      "metadata": {
        "id": "CvZ4xLTNbKsL"
      },
      "source": [
        "## 訓練データのEDA"
      ]
    },
    {
      "cell_type": "markdown",
      "source": [
        "### 連続値をとる特徴量"
      ],
      "metadata": {
        "id": "UCZ6eXn4kCZp"
      }
    },
    {
      "cell_type": "code",
      "metadata": {
        "id": "mJxFDaWRRh7S"
      },
      "source": [
        "continuous = [s for s in X.columns if s[:3] in ['Num', 'Hyd', 'Mol', 'Sur']]\n",
        "print('There are', len(continuous), 'continuous features.')\n",
        "print(continuous)"
      ],
      "execution_count": null,
      "outputs": []
    },
    {
      "cell_type": "markdown",
      "metadata": {
        "id": "jYa-5b04jTa1"
      },
      "source": [
        "* 目的変数との関連を可視化する。"
      ]
    },
    {
      "cell_type": "code",
      "metadata": {
        "id": "iGz3td24Cc8r"
      },
      "source": [
        "# 図を描くために、一時的にこうしておく\n",
        "X['solubility'] = y\n",
        "\n",
        "sns.set_style(\"whitegrid\")\n",
        "fig = plt.figure(figsize=(21, 18))\n",
        "for i in range(20):\n",
        "  ax = fig.add_subplot(5, 4, i+1)\n",
        "  sns.regplot(x=continuous[i], y='solubility', data=X, ax=ax)\n",
        "  if i % 4 != 0:\n",
        "    ax.set_ylabel('')\n",
        "\n",
        "# 図を描き終えたので、元に戻す\n",
        "X = X.drop('solubility', axis=1)"
      ],
      "execution_count": null,
      "outputs": []
    },
    {
      "cell_type": "markdown",
      "metadata": {
        "id": "pYfSS6TjbZw1"
      },
      "source": [
        "### 0/1の2値をとる特徴量"
      ]
    },
    {
      "cell_type": "code",
      "metadata": {
        "id": "o9ts2bVrDA1B"
      },
      "source": [
        "binary = X.columns[X.columns.str.startswith('FP')]\n",
        "print(len(binary), 'binary features')\n",
        "X[binary].describe()"
      ],
      "execution_count": null,
      "outputs": []
    },
    {
      "cell_type": "markdown",
      "metadata": {
        "id": "v7VGFondIBeM"
      },
      "source": [
        "## そのまま線形回帰を適用"
      ]
    },
    {
      "cell_type": "markdown",
      "metadata": {
        "id": "WZYDcM2SjAws"
      },
      "source": [
        "* 検証データを取り出しておく"
      ]
    },
    {
      "cell_type": "code",
      "metadata": {
        "id": "Usulx84yBkgX"
      },
      "source": [
        "X_train, X_valid, y_train, y_valid = train_test_split(X, y, test_size=0.2, random_state=42)"
      ],
      "execution_count": null,
      "outputs": []
    },
    {
      "cell_type": "markdown",
      "metadata": {
        "id": "r6TdvoWwjGFv"
      },
      "source": [
        "* 線形回帰モデルのパラメータを最小二乗法で推定させる\n"
      ]
    },
    {
      "cell_type": "code",
      "metadata": {
        "id": "C1Xp0YMhH_7J"
      },
      "source": [
        "reg = LinearRegression()\n",
        "reg.fit(X_train, y_train)"
      ],
      "execution_count": null,
      "outputs": []
    },
    {
      "cell_type": "markdown",
      "metadata": {
        "id": "1s5J_iNtjJ27"
      },
      "source": [
        "* 検証データでの予測を評価する\n",
        "  * 評価尺度はRMSE (root-mean-square error) とする。\n",
        "  * RMSEは、小さいほど、良い。\n"
      ]
    },
    {
      "cell_type": "code",
      "metadata": {
        "id": "WWKoE3_lKus1"
      },
      "source": [
        "y_valid_pred = reg.predict(X_valid)\n",
        "print(f'RMSE: {root_mean_squared_error(y_valid, y_valid_pred):.4f}')"
      ],
      "execution_count": null,
      "outputs": []
    },
    {
      "cell_type": "markdown",
      "metadata": {
        "id": "3_GY9HxVGUtY"
      },
      "source": [
        "* このRMSEを改善できるかどうか、いろいろ試行錯誤する。"
      ]
    },
    {
      "cell_type": "markdown",
      "metadata": {
        "id": "Kx95Xo53OFJ4"
      },
      "source": [
        "## 2値の部分だけをPCAで次元圧縮"
      ]
    },
    {
      "cell_type": "code",
      "metadata": {
        "id": "HcK8nI8aXiJx"
      },
      "source": [
        "from sklearn.decomposition import PCA\n",
        "\n",
        "n_components = 100 # 使用する主成分の個数\n",
        "pca = PCA(n_components=n_components, random_state=123)\n",
        "pca.fit(X_train[binary])"
      ],
      "execution_count": null,
      "outputs": []
    },
    {
      "cell_type": "code",
      "metadata": {
        "id": "yVRJFFTkY_y0"
      },
      "source": [
        "plt.plot(np.arange(1, pca.n_components_ + 1), np.cumsum(pca.explained_variance_ratio_));"
      ],
      "execution_count": null,
      "outputs": []
    },
    {
      "cell_type": "code",
      "source": [
        "pca.explained_variance_ratio_.sum()"
      ],
      "metadata": {
        "id": "LRlGIPXDluMH"
      },
      "execution_count": null,
      "outputs": []
    },
    {
      "cell_type": "code",
      "metadata": {
        "id": "_PlxfUa0ZFzF"
      },
      "source": [
        "X_train_binary_embedded = pca.transform(X_train[binary])"
      ],
      "execution_count": null,
      "outputs": []
    },
    {
      "cell_type": "code",
      "source": [
        "X_train_binary_embedded.shape"
      ],
      "metadata": {
        "id": "X8F9eb6lLLtw"
      },
      "execution_count": null,
      "outputs": []
    },
    {
      "cell_type": "code",
      "metadata": {
        "id": "WW2JczbYZsHU"
      },
      "source": [
        "X_train_binary_embedded[0]"
      ],
      "execution_count": null,
      "outputs": []
    },
    {
      "cell_type": "markdown",
      "metadata": {
        "id": "jE8MMFe4jy1X"
      },
      "source": [
        "* 2値変数の部分を次元削減した後のものと、元の連続値の部分とを、くっつける\n"
      ]
    },
    {
      "cell_type": "code",
      "metadata": {
        "id": "H-omTDs9Z_eH"
      },
      "source": [
        "X_train_embedded = np.concatenate([X_train_binary_embedded, X_train[continuous]], 1)"
      ],
      "execution_count": null,
      "outputs": []
    },
    {
      "cell_type": "markdown",
      "metadata": {
        "id": "LweLUzI9j39i"
      },
      "source": [
        "* X_train_embeddedを使って線形回帰モデルのパラメータを決める\n",
        "* そして検証データでの予測スコアを求める\n",
        "  * もちろん、検証データの2値の部分も、次元削減する必要があります。\n"
      ]
    },
    {
      "cell_type": "code",
      "metadata": {
        "id": "msXLlSswQrJq"
      },
      "source": [
        "reg = LinearRegression()\n",
        "reg.fit(X_train_embedded, y_train)\n",
        "\n",
        "X_valid_binary_embedded = pca.transform(X_valid[binary])\n",
        "X_valid_embedded = np.concatenate([X_valid_binary_embedded, X_valid[continuous]], 1)\n",
        "y_valid_pred = reg.predict(X_valid_embedded)\n",
        "print(f'RMSE: {root_mean_squared_error(y_valid, y_valid_pred):.4f}')"
      ],
      "execution_count": null,
      "outputs": []
    },
    {
      "cell_type": "markdown",
      "source": [
        "### 演習問題\n",
        "* 以下のコードで、`n_components=0.99`の部分は、どういう意味だろうか？"
      ],
      "metadata": {
        "id": "f0kC9N2WfWIi"
      }
    },
    {
      "cell_type": "code",
      "source": [
        "pca = PCA(n_components=0.99, random_state=123)\n",
        "X_train_binary_embedded = pca.fit_transform(X_train[binary])\n",
        "\n",
        "X_train_embedded = np.concatenate([X_train_binary_embedded, X_train[continuous]], 1)\n",
        "\n",
        "reg = LinearRegression()\n",
        "reg.fit(X_train_embedded, y_train)\n",
        "\n",
        "X_valid_binary_embedded = pca.transform(X_valid[binary])\n",
        "X_valid_embedded = np.concatenate([X_valid_binary_embedded, X_valid[continuous]], 1)\n",
        "y_valid_pred = reg.predict(X_valid_embedded)\n",
        "print(f'RMSE: {root_mean_squared_error(y_valid, y_valid_pred):.4f}')"
      ],
      "metadata": {
        "id": "A_0JS4C1e_Ql"
      },
      "execution_count": null,
      "outputs": []
    },
    {
      "cell_type": "markdown",
      "metadata": {
        "id": "S3yUNXq3ftaz"
      },
      "source": [
        "## 2値変数のインタラクションを考慮\n",
        "* PolynomialFeaturesを2次の設定で使う\n",
        "* その上で主成分分析を適用"
      ]
    },
    {
      "cell_type": "code",
      "metadata": {
        "id": "SLtUH0BDcvsL"
      },
      "source": [
        "from sklearn.preprocessing import PolynomialFeatures\n",
        "\n",
        "poly = PolynomialFeatures(2, interaction_only=True, include_bias=False)\n",
        "poly.fit(X_train[binary])"
      ],
      "execution_count": null,
      "outputs": []
    },
    {
      "cell_type": "code",
      "metadata": {
        "id": "y3cyvhR2d1I9"
      },
      "source": [
        "X_train_binary_poly = poly.transform(X_train[binary])"
      ],
      "execution_count": null,
      "outputs": []
    },
    {
      "cell_type": "code",
      "metadata": {
        "id": "6I1CzSZWd3pO"
      },
      "source": [
        "pca = PCA(n_components=0.99, random_state=123)\n",
        "pca.fit(X_train_binary_poly)\n",
        "plt.plot(np.arange(1, pca.n_components_ + 1), np.cumsum(pca.explained_variance_ratio_));"
      ],
      "execution_count": null,
      "outputs": []
    },
    {
      "cell_type": "markdown",
      "metadata": {
        "id": "dsQf3GJokWP-"
      },
      "source": [
        "* 2次のインタラクションを含めた2値変数の部分を次元削減した後のものと、元の連続値の部分とを、くっつける\n"
      ]
    },
    {
      "cell_type": "code",
      "metadata": {
        "id": "jAvI14X2eIG6"
      },
      "source": [
        "X_train_embedded = np.concatenate([pca.transform(X_train_binary_poly),\n",
        "                                   X_train[continuous]], 1)"
      ],
      "execution_count": null,
      "outputs": []
    },
    {
      "cell_type": "code",
      "metadata": {
        "id": "ENP4QpRrIPn7"
      },
      "source": [
        "reg = LinearRegression()\n",
        "reg.fit(X_train_embedded, y_train)\n",
        "\n",
        "X_valid_binary_poly_embedded = pca.transform(poly.transform(X_valid[binary]))\n",
        "X_valid_embedded = np.concatenate([X_valid_binary_poly_embedded, X_valid[continuous]], 1)\n",
        "y_valid_pred = reg.predict(X_valid_embedded)\n",
        "print(f'RMSE: {root_mean_squared_error(y_valid, y_valid_pred):.4f}')"
      ],
      "execution_count": null,
      "outputs": []
    },
    {
      "cell_type": "markdown",
      "metadata": {
        "id": "OidlPtsBIhaV"
      },
      "source": [
        "## Ridge回帰\n",
        "* alphaをチューニングする。"
      ]
    },
    {
      "cell_type": "code",
      "metadata": {
        "id": "NFiMllaXIk6K"
      },
      "source": [
        "from sklearn.linear_model import Ridge\n",
        "\n",
        "for alpha in 10. ** np.arange(-5, 6):\n",
        "  reg = Ridge(alpha=alpha)\n",
        "  reg.fit(X_train_embedded, y_train)\n",
        "  y_valid_pred = reg.predict(X_valid_embedded)\n",
        "  print(f'alpha: {alpha:.1e}; RMSE: {root_mean_squared_error(y_valid, y_valid_pred):.4f}')"
      ],
      "execution_count": null,
      "outputs": []
    },
    {
      "cell_type": "markdown",
      "source": [
        "## 交差検証"
      ],
      "metadata": {
        "id": "X8ebISLMzR36"
      }
    },
    {
      "cell_type": "markdown",
      "source": [
        "* ここまで使っていた訓練データと検証データを一つにまとめ直す。"
      ],
      "metadata": {
        "id": "HluTtrjXzXM4"
      }
    },
    {
      "cell_type": "code",
      "source": [
        "X_train_valid = pd.concat([X_train, X_valid], axis=0)\n",
        "y_train_valid = pd.concat([y_train, y_valid], axis=0)"
      ],
      "metadata": {
        "id": "tEhaffJxvk0H"
      },
      "execution_count": null,
      "outputs": []
    },
    {
      "cell_type": "markdown",
      "source": [
        "* 5-fold交差検証をおこなう"
      ],
      "metadata": {
        "id": "wyUgTa2xzbLH"
      }
    },
    {
      "cell_type": "code",
      "source": [
        "from sklearn.model_selection import KFold\n",
        "\n",
        "poly = PolynomialFeatures(2, interaction_only=True, include_bias=False)\n",
        "\n",
        "n_components = 400\n",
        "pca = PCA(n_components=n_components, random_state=123)\n",
        "\n",
        "kf = KFold(n_splits=5, shuffle=True, random_state=123)\n",
        "\n",
        "errors = []\n",
        "for train_index, valid_index in kf.split(X_train_valid):\n",
        "  X_train, X_valid = X_train_valid.iloc[train_index], X_train_valid.iloc[valid_index]\n",
        "  y_train, y_valid = y_train_valid.iloc[train_index], y_train_valid.iloc[valid_index]\n",
        "\n",
        "  X_train_binary_embedded = pca.fit_transform(poly.fit_transform(X_train[binary]))\n",
        "  X_train_embedded = np.concatenate([X_train_binary_embedded, X_train[continuous]], 1)\n",
        "\n",
        "  X_valid_binary_embedded = pca.transform(poly.transform(X_valid[binary]))\n",
        "  X_valid_embedded = np.concatenate([X_valid_binary_embedded, X_valid[continuous]], 1)\n",
        "\n",
        "  split_errors = []\n",
        "  for alpha in 10. ** np.arange(-5, 6):\n",
        "    reg = Ridge(alpha=alpha)\n",
        "    reg.fit(X_train_embedded, y_train)\n",
        "    y_valid_pred = reg.predict(X_valid_embedded)\n",
        "    error = root_mean_squared_error(y_valid, y_valid_pred)\n",
        "    print(f'alpha: {alpha:.1e}; RMSE: {error:.4f}', flush=True)\n",
        "    split_errors.append(error)\n",
        "  errors.append(split_errors)\n",
        "  print('-' * 80)\n",
        "\n",
        "errors = np.array(errors)\n",
        "print(errors)"
      ],
      "metadata": {
        "id": "P8AvqosRvU4C"
      },
      "execution_count": null,
      "outputs": []
    },
    {
      "cell_type": "markdown",
      "source": [
        "* 異なるfoldでRMSEがかなり違う。\n",
        " * もっと前から交差検証をしておくべきだったのかも。"
      ],
      "metadata": {
        "id": "vNf3Evxh10fL"
      }
    },
    {
      "cell_type": "code",
      "source": [
        "for alpha, mean_rmse in zip(10. ** np.arange(-5, 6), errors.mean(0)):\n",
        "  print(f'alpha: {alpha:.1e}; mean RMSE: {mean_rmse:.4f}')"
      ],
      "metadata": {
        "id": "ScxxF6Vhzjhv"
      },
      "execution_count": null,
      "outputs": []
    },
    {
      "cell_type": "markdown",
      "metadata": {
        "id": "_bu10Uvak8TL"
      },
      "source": [
        "## 一番良かった手法で最終評価"
      ]
    },
    {
      "cell_type": "markdown",
      "metadata": {
        "id": "dJxkCuUekdMI"
      },
      "source": [
        "* ここまででは、以下の設定にたどり着いた。\n",
        " * 2値変数の2次のインタラクションを使う。\n",
        " * 2値の部分をPCAで400次元に落とす。\n",
        " * Ridge回帰を`alpha=10.0`で適用\n",
        "* そこで、この手法を採用して、テストデータで最終評価する。\n"
      ]
    },
    {
      "cell_type": "code",
      "metadata": {
        "id": "tmqZu7AfJ4Q3"
      },
      "source": [
        "poly = PolynomialFeatures(2, interaction_only=True, include_bias=False)\n",
        "\n",
        "n_components = 400\n",
        "pca = PCA(n_components=n_components, random_state=123)\n",
        "\n",
        "X_train_valid_binary_poly_embedded = pca.fit_transform(poly.fit_transform(X_train_valid[binary]))\n",
        "X_train_valid_embedded = np.concatenate([X_train_valid_binary_poly_embedded, X_train_valid[continuous]], 1)\n",
        "\n",
        "reg = Ridge(alpha=10.0)\n",
        "reg.fit(X_train_valid_embedded, y_train_valid)\n",
        "\n",
        "X_test_binary_poly_embedded = pca.transform(poly.transform(X_test[binary]))\n",
        "X_test_embedded = np.concatenate([X_test_binary_poly_embedded, X_test[continuous]], 1)\n",
        "y_test_pred = reg.predict(X_test_embedded)\n",
        "print(f'RMSE: {root_mean_squared_error(y_test, y_test_pred):.4f}')"
      ],
      "execution_count": null,
      "outputs": []
    },
    {
      "cell_type": "markdown",
      "metadata": {
        "id": "t6Ng05DlPHb5"
      },
      "source": [
        "# 課題\n",
        "* solubilityデータセットの、上で作った検証データに対して、できるだけ予測性能の良いモデルを見つけよう\n",
        "  * Ridge回帰やLassoを使ってもいいです。\n",
        "  * 特徴量はどのように加工してもいいです。（上では2値変数にPCAを使った。）\n",
        "* 検証データを使って見つけた最も良いモデルを、最後に一回、テストデータで評価してみよう"
      ]
    },
    {
      "cell_type": "code",
      "metadata": {
        "id": "NUKUSRRMllsb"
      },
      "source": [],
      "execution_count": null,
      "outputs": []
    }
  ]
}