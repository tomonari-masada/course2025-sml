{
  "cells": [
    {
      "cell_type": "markdown",
      "metadata": {
        "id": "view-in-github",
        "colab_type": "text"
      },
      "source": [
        "<a href=\"https://colab.research.google.com/github/tomonari-masada/course2025-sml/blob/main/11_document_clustering_%E6%8E%88%E6%A5%AD%E4%B8%AD.ipynb\" target=\"_parent\"><img src=\"https://colab.research.google.com/assets/colab-badge.svg\" alt=\"Open In Colab\"/></a>"
      ]
    },
    {
      "cell_type": "markdown",
      "metadata": {
        "id": "dhzrBYzaPTv1"
      },
      "source": [
        "# クラスタリング\n",
        "* クラスタリングの代表的な手法であるk平均法を使ってみる。\n",
        "* ついでに、言語モデルを使ったテキストマイニングを体験してみる。"
      ]
    },
    {
      "cell_type": "markdown",
      "metadata": {
        "id": "OhbnmWrLWjNw"
      },
      "source": [
        "## 例題: 文書クラスタリング"
      ]
    },
    {
      "cell_type": "markdown",
      "metadata": {
        "id": "ijV8d58-WC_6"
      },
      "source": [
        "* Transformerベースの日本語対応言語モデルを使って、テキストのベクトル表現を得る。\n",
        "  * Transformerというニューラルネットワークについては、いずれ学びます。\n",
        "  * 有名な解説記事 https://jalammar.github.io/illustrated-transformer/\n",
        "* テキストをベクトルとして表現することを「embedする」と言う。\n",
        "  * embedすることで得られるベクトルのことを「embedding」と言う。\n",
        "* そして、テキストのembeddingをk平均法でクラスタリングする。"
      ]
    },
    {
      "cell_type": "markdown",
      "metadata": {
        "id": "hb9tmJnoWU6J"
      },
      "source": [
        "* ランタイムのタイプをGPUにしておく。"
      ]
    },
    {
      "cell_type": "markdown",
      "metadata": {
        "id": "hn3VWlDVnXFR"
      },
      "source": [
        "## インストール"
      ]
    },
    {
      "cell_type": "markdown",
      "metadata": {
        "id": "4gdwfzW5nYHd"
      },
      "source": [
        "### spaCyの日本語モデル"
      ]
    },
    {
      "cell_type": "markdown",
      "source": [
        "* 日本語テキストを形態素解析するために使う。\n",
        "  * たぶん、セッションの再起動」は不要。"
      ],
      "metadata": {
        "id": "FsxP7l_dvpkU"
      }
    },
    {
      "cell_type": "code",
      "execution_count": null,
      "metadata": {
        "id": "IwAN7cUWnS3M",
        "colab": {
          "base_uri": "https://localhost:8080/"
        },
        "outputId": "f4d2bebc-b8a5-4f30-dddb-5bcd440e0554"
      },
      "outputs": [
        {
          "output_type": "stream",
          "name": "stdout",
          "text": [
            "Collecting ja-core-news-sm==3.8.0\n",
            "  Downloading https://github.com/explosion/spacy-models/releases/download/ja_core_news_sm-3.8.0/ja_core_news_sm-3.8.0-py3-none-any.whl (12.1 MB)\n",
            "\u001b[2K     \u001b[90m━━━━━━━━━━━━━━━━━━━━━━━━━━━━━━━━━━━━━━━━\u001b[0m \u001b[32m12.1/12.1 MB\u001b[0m \u001b[31m44.5 MB/s\u001b[0m eta \u001b[36m0:00:00\u001b[0m\n",
            "\u001b[?25hRequirement already satisfied: sudachipy!=0.6.1,>=0.5.2 in /usr/local/lib/python3.11/dist-packages (from ja-core-news-sm==3.8.0) (0.6.10)\n",
            "Requirement already satisfied: sudachidict-core>=20211220 in /usr/local/lib/python3.11/dist-packages (from ja-core-news-sm==3.8.0) (20250515)\n",
            "\u001b[38;5;2m✔ Download and installation successful\u001b[0m\n",
            "You can now load the package via spacy.load('ja_core_news_sm')\n",
            "\u001b[38;5;3m⚠ Restart to reload dependencies\u001b[0m\n",
            "If you are in a Jupyter or Colab notebook, you may need to restart Python in\n",
            "order to load all the package's dependencies. You can do this by selecting the\n",
            "'Restart kernel' or 'Restart runtime' option.\n"
          ]
        }
      ],
      "source": [
        "!python -m spacy download ja_core_news_sm"
      ]
    },
    {
      "cell_type": "markdown",
      "metadata": {
        "id": "kl6bBezenbZa"
      },
      "source": [
        "### Hugging Faceのdatasetsライブラリ"
      ]
    },
    {
      "cell_type": "markdown",
      "source": [
        "* ライブドアニュースコーパスを取得するために使う。"
      ],
      "metadata": {
        "id": "wA3D6HJ_vzTY"
      }
    },
    {
      "cell_type": "code",
      "execution_count": null,
      "metadata": {
        "id": "8PluefZCf6y7",
        "colab": {
          "base_uri": "https://localhost:8080/"
        },
        "outputId": "0472ea33-d949-4810-c972-c0d3aeb0fdbe"
      },
      "outputs": [
        {
          "output_type": "stream",
          "name": "stdout",
          "text": [
            "Requirement already satisfied: datasets in /usr/local/lib/python3.11/dist-packages (3.6.0)\n",
            "Requirement already satisfied: huggingface_hub in /usr/local/lib/python3.11/dist-packages (0.33.1)\n",
            "Requirement already satisfied: filelock in /usr/local/lib/python3.11/dist-packages (from datasets) (3.18.0)\n",
            "Requirement already satisfied: numpy>=1.17 in /usr/local/lib/python3.11/dist-packages (from datasets) (2.0.2)\n",
            "Requirement already satisfied: pyarrow>=15.0.0 in /usr/local/lib/python3.11/dist-packages (from datasets) (18.1.0)\n",
            "Requirement already satisfied: dill<0.3.9,>=0.3.0 in /usr/local/lib/python3.11/dist-packages (from datasets) (0.3.7)\n",
            "Requirement already satisfied: pandas in /usr/local/lib/python3.11/dist-packages (from datasets) (2.2.2)\n",
            "Requirement already satisfied: requests>=2.32.2 in /usr/local/lib/python3.11/dist-packages (from datasets) (2.32.3)\n",
            "Requirement already satisfied: tqdm>=4.66.3 in /usr/local/lib/python3.11/dist-packages (from datasets) (4.67.1)\n",
            "Requirement already satisfied: xxhash in /usr/local/lib/python3.11/dist-packages (from datasets) (3.5.0)\n",
            "Requirement already satisfied: multiprocess<0.70.17 in /usr/local/lib/python3.11/dist-packages (from datasets) (0.70.15)\n",
            "Requirement already satisfied: fsspec<=2025.3.0,>=2023.1.0 in /usr/local/lib/python3.11/dist-packages (from fsspec[http]<=2025.3.0,>=2023.1.0->datasets) (2025.3.0)\n",
            "Requirement already satisfied: packaging in /usr/local/lib/python3.11/dist-packages (from datasets) (24.2)\n",
            "Requirement already satisfied: pyyaml>=5.1 in /usr/local/lib/python3.11/dist-packages (from datasets) (6.0.2)\n",
            "Requirement already satisfied: typing-extensions>=3.7.4.3 in /usr/local/lib/python3.11/dist-packages (from huggingface_hub) (4.14.0)\n",
            "Requirement already satisfied: hf-xet<2.0.0,>=1.1.2 in /usr/local/lib/python3.11/dist-packages (from huggingface_hub) (1.1.5)\n",
            "Requirement already satisfied: aiohttp!=4.0.0a0,!=4.0.0a1 in /usr/local/lib/python3.11/dist-packages (from fsspec[http]<=2025.3.0,>=2023.1.0->datasets) (3.11.15)\n",
            "Requirement already satisfied: charset-normalizer<4,>=2 in /usr/local/lib/python3.11/dist-packages (from requests>=2.32.2->datasets) (3.4.2)\n",
            "Requirement already satisfied: idna<4,>=2.5 in /usr/local/lib/python3.11/dist-packages (from requests>=2.32.2->datasets) (3.10)\n",
            "Requirement already satisfied: urllib3<3,>=1.21.1 in /usr/local/lib/python3.11/dist-packages (from requests>=2.32.2->datasets) (2.4.0)\n",
            "Requirement already satisfied: certifi>=2017.4.17 in /usr/local/lib/python3.11/dist-packages (from requests>=2.32.2->datasets) (2025.6.15)\n",
            "Requirement already satisfied: python-dateutil>=2.8.2 in /usr/local/lib/python3.11/dist-packages (from pandas->datasets) (2.9.0.post0)\n",
            "Requirement already satisfied: pytz>=2020.1 in /usr/local/lib/python3.11/dist-packages (from pandas->datasets) (2025.2)\n",
            "Requirement already satisfied: tzdata>=2022.7 in /usr/local/lib/python3.11/dist-packages (from pandas->datasets) (2025.2)\n",
            "Requirement already satisfied: aiohappyeyeballs>=2.3.0 in /usr/local/lib/python3.11/dist-packages (from aiohttp!=4.0.0a0,!=4.0.0a1->fsspec[http]<=2025.3.0,>=2023.1.0->datasets) (2.6.1)\n",
            "Requirement already satisfied: aiosignal>=1.1.2 in /usr/local/lib/python3.11/dist-packages (from aiohttp!=4.0.0a0,!=4.0.0a1->fsspec[http]<=2025.3.0,>=2023.1.0->datasets) (1.3.2)\n",
            "Requirement already satisfied: attrs>=17.3.0 in /usr/local/lib/python3.11/dist-packages (from aiohttp!=4.0.0a0,!=4.0.0a1->fsspec[http]<=2025.3.0,>=2023.1.0->datasets) (25.3.0)\n",
            "Requirement already satisfied: frozenlist>=1.1.1 in /usr/local/lib/python3.11/dist-packages (from aiohttp!=4.0.0a0,!=4.0.0a1->fsspec[http]<=2025.3.0,>=2023.1.0->datasets) (1.7.0)\n",
            "Requirement already satisfied: multidict<7.0,>=4.5 in /usr/local/lib/python3.11/dist-packages (from aiohttp!=4.0.0a0,!=4.0.0a1->fsspec[http]<=2025.3.0,>=2023.1.0->datasets) (6.4.4)\n",
            "Requirement already satisfied: propcache>=0.2.0 in /usr/local/lib/python3.11/dist-packages (from aiohttp!=4.0.0a0,!=4.0.0a1->fsspec[http]<=2025.3.0,>=2023.1.0->datasets) (0.3.2)\n",
            "Requirement already satisfied: yarl<2.0,>=1.17.0 in /usr/local/lib/python3.11/dist-packages (from aiohttp!=4.0.0a0,!=4.0.0a1->fsspec[http]<=2025.3.0,>=2023.1.0->datasets) (1.20.1)\n",
            "Requirement already satisfied: six>=1.5 in /usr/local/lib/python3.11/dist-packages (from python-dateutil>=2.8.2->pandas->datasets) (1.17.0)\n"
          ]
        }
      ],
      "source": [
        "!pip install --upgrade datasets huggingface_hub"
      ]
    },
    {
      "cell_type": "markdown",
      "metadata": {
        "id": "RyLkN6QuXBWD"
      },
      "source": [
        "### SentenceTransformersライブラリ\n",
        "* 言語モデルを使ってテキストを埋め込む際に便利なライブラリ。\n",
        "  * https://sbert.net/index.html"
      ]
    },
    {
      "cell_type": "code",
      "execution_count": null,
      "metadata": {
        "id": "xipZgdSGV5-p",
        "colab": {
          "base_uri": "https://localhost:8080/"
        },
        "outputId": "f11103e4-5e75-4d58-976f-8405661f9ac5"
      },
      "outputs": [
        {
          "output_type": "stream",
          "name": "stdout",
          "text": [
            "Requirement already satisfied: sentence-transformers in /usr/local/lib/python3.11/dist-packages (4.1.0)\n",
            "Requirement already satisfied: transformers<5.0.0,>=4.41.0 in /usr/local/lib/python3.11/dist-packages (from sentence-transformers) (4.52.4)\n",
            "Requirement already satisfied: tqdm in /usr/local/lib/python3.11/dist-packages (from sentence-transformers) (4.67.1)\n",
            "Requirement already satisfied: torch>=1.11.0 in /usr/local/lib/python3.11/dist-packages (from sentence-transformers) (2.6.0+cu124)\n",
            "Requirement already satisfied: scikit-learn in /usr/local/lib/python3.11/dist-packages (from sentence-transformers) (1.6.1)\n",
            "Requirement already satisfied: scipy in /usr/local/lib/python3.11/dist-packages (from sentence-transformers) (1.15.3)\n",
            "Requirement already satisfied: huggingface-hub>=0.20.0 in /usr/local/lib/python3.11/dist-packages (from sentence-transformers) (0.33.1)\n",
            "Requirement already satisfied: Pillow in /usr/local/lib/python3.11/dist-packages (from sentence-transformers) (11.2.1)\n",
            "Requirement already satisfied: typing_extensions>=4.5.0 in /usr/local/lib/python3.11/dist-packages (from sentence-transformers) (4.14.0)\n",
            "Requirement already satisfied: filelock in /usr/local/lib/python3.11/dist-packages (from huggingface-hub>=0.20.0->sentence-transformers) (3.18.0)\n",
            "Requirement already satisfied: fsspec>=2023.5.0 in /usr/local/lib/python3.11/dist-packages (from huggingface-hub>=0.20.0->sentence-transformers) (2025.3.0)\n",
            "Requirement already satisfied: packaging>=20.9 in /usr/local/lib/python3.11/dist-packages (from huggingface-hub>=0.20.0->sentence-transformers) (24.2)\n",
            "Requirement already satisfied: pyyaml>=5.1 in /usr/local/lib/python3.11/dist-packages (from huggingface-hub>=0.20.0->sentence-transformers) (6.0.2)\n",
            "Requirement already satisfied: requests in /usr/local/lib/python3.11/dist-packages (from huggingface-hub>=0.20.0->sentence-transformers) (2.32.3)\n",
            "Requirement already satisfied: hf-xet<2.0.0,>=1.1.2 in /usr/local/lib/python3.11/dist-packages (from huggingface-hub>=0.20.0->sentence-transformers) (1.1.5)\n",
            "Requirement already satisfied: networkx in /usr/local/lib/python3.11/dist-packages (from torch>=1.11.0->sentence-transformers) (3.5)\n",
            "Requirement already satisfied: jinja2 in /usr/local/lib/python3.11/dist-packages (from torch>=1.11.0->sentence-transformers) (3.1.6)\n",
            "Requirement already satisfied: nvidia-cuda-nvrtc-cu12==12.4.127 in /usr/local/lib/python3.11/dist-packages (from torch>=1.11.0->sentence-transformers) (12.4.127)\n",
            "Requirement already satisfied: nvidia-cuda-runtime-cu12==12.4.127 in /usr/local/lib/python3.11/dist-packages (from torch>=1.11.0->sentence-transformers) (12.4.127)\n",
            "Requirement already satisfied: nvidia-cuda-cupti-cu12==12.4.127 in /usr/local/lib/python3.11/dist-packages (from torch>=1.11.0->sentence-transformers) (12.4.127)\n",
            "Requirement already satisfied: nvidia-cudnn-cu12==9.1.0.70 in /usr/local/lib/python3.11/dist-packages (from torch>=1.11.0->sentence-transformers) (9.1.0.70)\n",
            "Requirement already satisfied: nvidia-cublas-cu12==12.4.5.8 in /usr/local/lib/python3.11/dist-packages (from torch>=1.11.0->sentence-transformers) (12.4.5.8)\n",
            "Requirement already satisfied: nvidia-cufft-cu12==11.2.1.3 in /usr/local/lib/python3.11/dist-packages (from torch>=1.11.0->sentence-transformers) (11.2.1.3)\n",
            "Requirement already satisfied: nvidia-curand-cu12==10.3.5.147 in /usr/local/lib/python3.11/dist-packages (from torch>=1.11.0->sentence-transformers) (10.3.5.147)\n",
            "Requirement already satisfied: nvidia-cusolver-cu12==11.6.1.9 in /usr/local/lib/python3.11/dist-packages (from torch>=1.11.0->sentence-transformers) (11.6.1.9)\n",
            "Requirement already satisfied: nvidia-cusparse-cu12==12.3.1.170 in /usr/local/lib/python3.11/dist-packages (from torch>=1.11.0->sentence-transformers) (12.3.1.170)\n",
            "Requirement already satisfied: nvidia-cusparselt-cu12==0.6.2 in /usr/local/lib/python3.11/dist-packages (from torch>=1.11.0->sentence-transformers) (0.6.2)\n",
            "Requirement already satisfied: nvidia-nccl-cu12==2.21.5 in /usr/local/lib/python3.11/dist-packages (from torch>=1.11.0->sentence-transformers) (2.21.5)\n",
            "Requirement already satisfied: nvidia-nvtx-cu12==12.4.127 in /usr/local/lib/python3.11/dist-packages (from torch>=1.11.0->sentence-transformers) (12.4.127)\n",
            "Requirement already satisfied: nvidia-nvjitlink-cu12==12.4.127 in /usr/local/lib/python3.11/dist-packages (from torch>=1.11.0->sentence-transformers) (12.4.127)\n",
            "Requirement already satisfied: triton==3.2.0 in /usr/local/lib/python3.11/dist-packages (from torch>=1.11.0->sentence-transformers) (3.2.0)\n",
            "Requirement already satisfied: sympy==1.13.1 in /usr/local/lib/python3.11/dist-packages (from torch>=1.11.0->sentence-transformers) (1.13.1)\n",
            "Requirement already satisfied: mpmath<1.4,>=1.1.0 in /usr/local/lib/python3.11/dist-packages (from sympy==1.13.1->torch>=1.11.0->sentence-transformers) (1.3.0)\n",
            "Requirement already satisfied: numpy>=1.17 in /usr/local/lib/python3.11/dist-packages (from transformers<5.0.0,>=4.41.0->sentence-transformers) (2.0.2)\n",
            "Requirement already satisfied: regex!=2019.12.17 in /usr/local/lib/python3.11/dist-packages (from transformers<5.0.0,>=4.41.0->sentence-transformers) (2024.11.6)\n",
            "Requirement already satisfied: tokenizers<0.22,>=0.21 in /usr/local/lib/python3.11/dist-packages (from transformers<5.0.0,>=4.41.0->sentence-transformers) (0.21.2)\n",
            "Requirement already satisfied: safetensors>=0.4.3 in /usr/local/lib/python3.11/dist-packages (from transformers<5.0.0,>=4.41.0->sentence-transformers) (0.5.3)\n",
            "Requirement already satisfied: joblib>=1.2.0 in /usr/local/lib/python3.11/dist-packages (from scikit-learn->sentence-transformers) (1.5.1)\n",
            "Requirement already satisfied: threadpoolctl>=3.1.0 in /usr/local/lib/python3.11/dist-packages (from scikit-learn->sentence-transformers) (3.6.0)\n",
            "Requirement already satisfied: MarkupSafe>=2.0 in /usr/local/lib/python3.11/dist-packages (from jinja2->torch>=1.11.0->sentence-transformers) (3.0.2)\n",
            "Requirement already satisfied: charset-normalizer<4,>=2 in /usr/local/lib/python3.11/dist-packages (from requests->huggingface-hub>=0.20.0->sentence-transformers) (3.4.2)\n",
            "Requirement already satisfied: idna<4,>=2.5 in /usr/local/lib/python3.11/dist-packages (from requests->huggingface-hub>=0.20.0->sentence-transformers) (3.10)\n",
            "Requirement already satisfied: urllib3<3,>=1.21.1 in /usr/local/lib/python3.11/dist-packages (from requests->huggingface-hub>=0.20.0->sentence-transformers) (2.4.0)\n",
            "Requirement already satisfied: certifi>=2017.4.17 in /usr/local/lib/python3.11/dist-packages (from requests->huggingface-hub>=0.20.0->sentence-transformers) (2025.6.15)\n"
          ]
        }
      ],
      "source": [
        "!pip install -U sentence-transformers"
      ]
    },
    {
      "cell_type": "markdown",
      "metadata": {
        "id": "ureiahpCn4Qg"
      },
      "source": [
        "## インポート"
      ]
    },
    {
      "cell_type": "code",
      "execution_count": null,
      "metadata": {
        "id": "x_09KVWCP9Cc"
      },
      "outputs": [],
      "source": [
        "from tqdm.auto import tqdm\n",
        "import collections\n",
        "import numpy as np\n",
        "\n",
        "from sklearn.cluster import KMeans\n",
        "from sklearn.feature_extraction.text import TfidfVectorizer\n",
        "from sklearn.metrics.pairwise import cosine_similarity\n",
        "\n",
        "import spacy\n",
        "\n",
        "from datasets import load_dataset\n",
        "from transformers import set_seed\n",
        "from sentence_transformers import SentenceTransformer\n",
        "\n",
        "# 再現性の確保\n",
        "set_seed(1234)"
      ]
    },
    {
      "cell_type": "markdown",
      "metadata": {
        "id": "cTBDLSvzgMuF"
      },
      "source": [
        "## データセット\n",
        "* livedoorニュースコーパスを使う。"
      ]
    },
    {
      "cell_type": "code",
      "execution_count": null,
      "metadata": {
        "id": "PvpTDWbAgFc3",
        "colab": {
          "base_uri": "https://localhost:8080/"
        },
        "outputId": "59a84ffc-7935-45f7-e96c-2990f4c4e1c5"
      },
      "outputs": [
        {
          "output_type": "stream",
          "name": "stdout",
          "text": [
            "num_categories: 9\n",
            "category_names: ['movie-enter', 'it-life-hack', 'kaden-channel', 'topic-news', 'livedoor-homme', 'peachy', 'sports-watch', 'dokujo-tsushin', 'smax']\n"
          ]
        }
      ],
      "source": [
        "dataset = load_dataset(\n",
        "  \"shunk031/livedoor-news-corpus\",\n",
        "  train_ratio=0.8, val_ratio=0.1, test_ratio=0.1,\n",
        "  random_state=42,\n",
        "  shuffle=True,\n",
        "  trust_remote_code=True,\n",
        ")\n",
        "\n",
        "num_categories = len(set(dataset[\"train\"][\"category\"]))\n",
        "\n",
        "category_names = [\n",
        "  'movie-enter',\n",
        "  'it-life-hack',\n",
        "  'kaden-channel',\n",
        "  'topic-news',\n",
        "  'livedoor-homme',\n",
        "  'peachy',\n",
        "  'sports-watch',\n",
        "  'dokujo-tsushin',\n",
        "  'smax',\n",
        "]\n",
        "\n",
        "print(f\"num_categories: {num_categories}\")\n",
        "print(f\"category_names: {category_names}\")"
      ]
    },
    {
      "cell_type": "code",
      "source": [
        "dataset[\"train\"][0]"
      ],
      "metadata": {
        "id": "ml3uV37MAZAA",
        "colab": {
          "base_uri": "https://localhost:8080/"
        },
        "outputId": "8bee6621-0f00-4c9f-c604-ed9ac30c3f98"
      },
      "execution_count": null,
      "outputs": [
        {
          "output_type": "execute_result",
          "data": {
            "text/plain": [
              "{'url': 'http://news.livedoor.com/article/detail/5834377/',\n",
              " 'date': '2011-09-04T08:30:00+0900',\n",
              " 'title': '【Sports Watch】体操・田中理恵、兄が学生時代のエピソードを暴露',\n",
              " 'content': '10月、東京で行われる世界体操では、兄・田中和仁＆弟・田中佑典とともに3兄弟で出場を決めた田中理恵。2日、フジテレビ「すぽると！」では「田中3兄弟SP対談」と題し、兄弟3人によるトークの模様が放送された。  「お兄ちゃんは、形にはまって美しい体操をしている感じがする。教科書に載るような。佑典は綺麗で、かつオシャレやなって一言言いたくなる演技」、その他にも、「ずっと（兄弟を）見ていたから、他の女子の“こういう選手になりたい”というのがない。弟の鉄棒みたいなオシャレ演技したいし、お兄ちゃんみたいな綺麗な線出したいしという気持ちが強い」と語った理恵。  対して、理恵が“美人アスリート”と呼ばれることについて、和仁は「妹が出てるってことで、兄としては嬉しいけど、色んな人に言われても“ふーん”っていって終わり」と素っ気なく、佑典は「美人アスリート。まあ、不細工アスリートよりは、美人アスリートなんじゃないですかね」と語る。  また、理恵の学生時代の様子について、「和歌山の（実家の）時は部屋汚かったです」と明かす和仁。これには理恵も「ここで言う？」と呆れたが、和仁は、お構いなしに「高校の時、髪染めたな。“染めてない”って言ってたけど、染めてたな。で、（父・章二さんから）リモコン飛んできたんだよな。おとんが教師なのに、そこの生徒でよう染めたなっていうのは、皆思ってたよ」と暴露を続けた。  ・田中理恵 写真ギャラリー',\n",
              " 'category': 6}"
            ]
          },
          "metadata": {},
          "execution_count": 103
        }
      ]
    },
    {
      "cell_type": "code",
      "execution_count": null,
      "metadata": {
        "id": "zSsfXafQlcdm",
        "colab": {
          "base_uri": "https://localhost:8080/"
        },
        "outputId": "26913de6-c062-443c-faac-5f0454469cb5"
      },
      "outputs": [
        {
          "output_type": "execute_result",
          "data": {
            "text/plain": [
              "['【Sports Watch】体操・田中理恵、兄が学生時代のエピソードを暴露',\n",
              " '「美人で何が悪い！？」 負け美女・小島慶子×犬山紙子対談 3/3',\n",
              " 'もうひとつのアカデミー賞!?\\u3000スカパーアダルト放送大賞が決定！',\n",
              " '渡邉美樹氏「猫ひろしさんのカンボジア国籍取得 納得いきません」',\n",
              " 'やくみつるさんの「DeNAが許せない」発言に批判殺到',\n",
              " 'ポスターのテーマは、剣心の“封印された狂気”',\n",
              " '悩ましき女友だちとの格差問題',\n",
              " 'ラジオ体操は「究極のエクササイズ」ってホント？',\n",
              " 'オトナ女子たちの圧倒的支持をうけ、ドラマ10『はつ恋』の一挙再放送が決定！',\n",
              " '映画『サルベージ・マイス』主題歌に、ももいろクローバーＺの新曲が決定']"
            ]
          },
          "metadata": {},
          "execution_count": 104
        }
      ],
      "source": [
        "dataset[\"train\"][\"title\"][:10]"
      ]
    },
    {
      "cell_type": "code",
      "execution_count": null,
      "metadata": {
        "id": "_2H7PUHulfsZ",
        "colab": {
          "base_uri": "https://localhost:8080/",
          "height": 230
        },
        "outputId": "d3a3db2c-280a-4851-aa27-c7d5f4e3b502"
      },
      "outputs": [
        {
          "output_type": "execute_result",
          "data": {
            "text/plain": [
              "'10月、東京で行われる世界体操では、兄・田中和仁＆弟・田中佑典とともに3兄弟で出場を決めた田中理恵。2日、フジテレビ「すぽると！」では「田中3兄弟SP対談」と題し、兄弟3人によるトークの模様が放送された。  「お兄ちゃんは、形にはまって美しい体操をしている感じがする。教科書に載るような。佑典は綺麗で、かつオシャレやなって一言言いたくなる演技」、その他にも、「ずっと（兄弟を）見ていたから、他の女子の“こういう選手になりたい”というのがない。弟の鉄棒みたいなオシャレ演技したいし、お兄ちゃんみたいな綺麗な線出したいしという気持ちが強い」と語った理恵。  対して、理恵が“美人アスリート”と呼ばれることについて、和仁は「妹が出てるってことで、兄としては嬉しいけど、色んな人に言われても“ふーん”っていって終わり」と素っ気なく、佑典は「美人アスリート。まあ、不細工アスリートよりは、美人アスリートなんじゃないですかね」と語る。  また、理恵の学生時代の様子について、「和歌山の（実家の）時は部屋汚かったです」と明かす和仁。これには理恵も「ここで言う？」と呆れたが、和仁は、お構いなしに「高校の時、髪染めたな。“染めてない”って言ってたけど、染めてたな。で、（父・章二さんから）リモコン飛んできたんだよな。おとんが教師なのに、そこの生徒でよう染めたなっていうのは、皆思ってたよ」と暴露を続けた。  ・田中理恵 写真ギャラリー'"
            ],
            "application/vnd.google.colaboratory.intrinsic+json": {
              "type": "string"
            }
          },
          "metadata": {},
          "execution_count": 105
        }
      ],
      "source": [
        "dataset[\"train\"][\"content\"][0]"
      ]
    },
    {
      "cell_type": "markdown",
      "metadata": {
        "id": "-o2yZ06-QQN4"
      },
      "source": [
        "## 多言語E5による埋め込み"
      ]
    },
    {
      "cell_type": "markdown",
      "metadata": {
        "id": "L11M2E3ca6_2"
      },
      "source": [
        "* Multilingual E5を使う。\n",
        "  * テキストのembeddingにおいて優れている言語モデル。\n",
        "  * 論文 https://arxiv.org/abs/2402.05672\n",
        "  * Hugging Face https://huggingface.co/intfloat/multilingual-e5-large-instruct"
      ]
    },
    {
      "cell_type": "markdown",
      "source": [
        "* 参考: テキスト埋め込みのleaderboard\n",
        "  * https://huggingface.co/spaces/mteb/leaderboard"
      ],
      "metadata": {
        "id": "b6Fje4mLBLKA"
      }
    },
    {
      "cell_type": "markdown",
      "metadata": {
        "id": "hmrIJqThZ20F"
      },
      "source": [
        "* SentenceTransformerを使ったテキストの埋め込みについては、下のWebページを参照。\n",
        "  * https://sbert.net/examples/sentence_transformer/applications/computing-embeddings/README.html"
      ]
    },
    {
      "cell_type": "code",
      "execution_count": null,
      "metadata": {
        "id": "TRCWin9LA5Y7"
      },
      "outputs": [],
      "source": [
        "model_id = \"intfloat/multilingual-e5-large-instruct\"\n",
        "model = SentenceTransformer(model_id)"
      ]
    },
    {
      "cell_type": "markdown",
      "source": [
        "* 試しに、一つだけ、テキストを埋め込んでみる。"
      ],
      "metadata": {
        "id": "NlTTugsEApkv"
      }
    },
    {
      "cell_type": "code",
      "source": [
        "dataset[\"train\"][0][\"title\"]"
      ],
      "metadata": {
        "id": "VsFkP2JIE1gT",
        "colab": {
          "base_uri": "https://localhost:8080/",
          "height": 36
        },
        "outputId": "405e4c5d-2d90-4190-c159-555080a8c5f0"
      },
      "execution_count": null,
      "outputs": [
        {
          "output_type": "execute_result",
          "data": {
            "text/plain": [
              "'【Sports Watch】体操・田中理恵、兄が学生時代のエピソードを暴露'"
            ],
            "application/vnd.google.colaboratory.intrinsic+json": {
              "type": "string"
            }
          },
          "metadata": {},
          "execution_count": 107
        }
      ]
    },
    {
      "cell_type": "code",
      "source": [
        "model"
      ],
      "metadata": {
        "id": "L3PPiSMVE8bs",
        "colab": {
          "base_uri": "https://localhost:8080/"
        },
        "outputId": "8f4bb50a-8462-472b-dcf8-b9e62deec4fe"
      },
      "execution_count": null,
      "outputs": [
        {
          "output_type": "execute_result",
          "data": {
            "text/plain": [
              "SentenceTransformer(\n",
              "  (0): Transformer({'max_seq_length': 512, 'do_lower_case': False}) with Transformer model: XLMRobertaModel \n",
              "  (1): Pooling({'word_embedding_dimension': 1024, 'pooling_mode_cls_token': False, 'pooling_mode_mean_tokens': True, 'pooling_mode_max_tokens': False, 'pooling_mode_mean_sqrt_len_tokens': False, 'pooling_mode_weightedmean_tokens': False, 'pooling_mode_lasttoken': False, 'include_prompt': True})\n",
              "  (2): Normalize()\n",
              ")"
            ]
          },
          "metadata": {},
          "execution_count": 108
        }
      ]
    },
    {
      "cell_type": "code",
      "source": [
        "model.encode(dataset[\"train\"][0][\"title\"])"
      ],
      "metadata": {
        "id": "XHf7OzXWAneU",
        "colab": {
          "base_uri": "https://localhost:8080/"
        },
        "outputId": "23c2e55a-7e19-458d-e4c0-e65897f16c8d"
      },
      "execution_count": null,
      "outputs": [
        {
          "output_type": "execute_result",
          "data": {
            "text/plain": [
              "array([ 0.01802401,  0.03642237, -0.00951136, ..., -0.03236501,\n",
              "       -0.03817462,  0.01583127], dtype=float32)"
            ]
          },
          "metadata": {},
          "execution_count": 109
        }
      ]
    },
    {
      "cell_type": "markdown",
      "metadata": {
        "id": "MZ-E1KAFdlj9"
      },
      "source": [
        "* ライブドアニュースコーパスの全タイトルを埋め込む。"
      ]
    },
    {
      "cell_type": "code",
      "execution_count": null,
      "metadata": {
        "id": "yewQUXmGCb6G",
        "colab": {
          "base_uri": "https://localhost:8080/",
          "height": 49,
          "referenced_widgets": [
            "f8e77e8772924c238c4a28bc1c443d30",
            "df2a02f005164921b5211e45e978b4e0",
            "41014c32c62a4b5fa29626fd7dd6b214",
            "30a4364d54c5494cbd0bc43dd47a24d9",
            "12e17436b87d4e09bcced6c7c3eaf493",
            "50286316af784458936792e108f29308",
            "1fb840b0619740e1b199db73ab39f8b9",
            "3bd445869eb542d086c915e06e4838a2",
            "62cb57afe1cf4c4696d3839b328fa811",
            "57d010e689874ad1a6c6b20a63d7ee54",
            "c4c61d65048342bea7ddcbe338fc41a0"
          ]
        },
        "outputId": "741de2d4-efd7-4150-d65c-1c6c1330b4ea"
      },
      "outputs": [
        {
          "output_type": "display_data",
          "data": {
            "text/plain": [
              "Batches:   0%|          | 0/185 [00:00<?, ?it/s]"
            ],
            "application/vnd.jupyter.widget-view+json": {
              "version_major": 2,
              "version_minor": 0,
              "model_id": "f8e77e8772924c238c4a28bc1c443d30"
            }
          },
          "metadata": {}
        }
      ],
      "source": [
        "embeddings = model.encode(dataset[\"train\"][\"title\"], show_progress_bar=True)"
      ]
    },
    {
      "cell_type": "markdown",
      "source": [
        "* 埋め込みは普通にNumPyの配列として得られている。"
      ],
      "metadata": {
        "id": "cyQMBYWWyC0M"
      }
    },
    {
      "cell_type": "code",
      "source": [
        "type(embeddings)"
      ],
      "metadata": {
        "id": "TiEYb81yyBjL",
        "colab": {
          "base_uri": "https://localhost:8080/"
        },
        "outputId": "f24c6ed2-587a-41b7-cdcc-ab5b97cd9471"
      },
      "execution_count": null,
      "outputs": [
        {
          "output_type": "execute_result",
          "data": {
            "text/plain": [
              "numpy.ndarray"
            ]
          },
          "metadata": {},
          "execution_count": 111
        }
      ]
    },
    {
      "cell_type": "code",
      "source": [
        "embeddings.shape"
      ],
      "metadata": {
        "id": "EXlWZZ0-F0Lf",
        "colab": {
          "base_uri": "https://localhost:8080/"
        },
        "outputId": "d5430b5e-1a44-410f-d249-c748b6713100"
      },
      "execution_count": null,
      "outputs": [
        {
          "output_type": "execute_result",
          "data": {
            "text/plain": [
              "(5894, 1024)"
            ]
          },
          "metadata": {},
          "execution_count": 112
        }
      ]
    },
    {
      "cell_type": "markdown",
      "metadata": {
        "id": "B7AjcVKTEVMo"
      },
      "source": [
        "* 全記事内容を埋め込むには以下のようにする。  \n",
        "  * RTX3080搭載PCを使うと1分で終わる。"
      ]
    },
    {
      "cell_type": "code",
      "execution_count": null,
      "metadata": {
        "id": "wRQW-Gx2EVMo"
      },
      "outputs": [],
      "source": [
        "#content_embeddings = model.encode(dataset[\"train\"][\"content\"], show_progress_bar=True)"
      ]
    },
    {
      "cell_type": "markdown",
      "source": [
        "* ただし、どのテキストも先頭から512トークンで切られていることに注意。\n",
        "  * 長いテキストは、途中までの内容しかembeddingに反映されない。\n",
        "  * それでも、分類やクラスタリングがうまくいくことも多い。"
      ],
      "metadata": {
        "id": "9pVO40oIWn5-"
      }
    },
    {
      "cell_type": "code",
      "source": [
        "model.max_seq_length"
      ],
      "metadata": {
        "id": "bISzb8CzWlRK",
        "colab": {
          "base_uri": "https://localhost:8080/"
        },
        "outputId": "1473a5cc-498d-48f9-eb17-2eaa38b593f8"
      },
      "execution_count": null,
      "outputs": [
        {
          "output_type": "execute_result",
          "data": {
            "text/plain": [
              "512"
            ]
          },
          "metadata": {},
          "execution_count": 114
        }
      ]
    },
    {
      "cell_type": "markdown",
      "source": [
        "* トークン数の調べ方\n",
        "  * トークナイザにテキストを分割させる。\n",
        "  * 分割によって得られたトークンの個数を数える。"
      ],
      "metadata": {
        "id": "BS3lrQk_xQLT"
      }
    },
    {
      "cell_type": "code",
      "source": [
        "dataset[\"train\"][0][\"title\"]"
      ],
      "metadata": {
        "id": "WEUcRU0IHB1p",
        "colab": {
          "base_uri": "https://localhost:8080/",
          "height": 36
        },
        "outputId": "3c5d979e-c23b-40cb-c771-2ca12c70a7d9"
      },
      "execution_count": null,
      "outputs": [
        {
          "output_type": "execute_result",
          "data": {
            "text/plain": [
              "'【Sports Watch】体操・田中理恵、兄が学生時代のエピソードを暴露'"
            ],
            "application/vnd.google.colaboratory.intrinsic+json": {
              "type": "string"
            }
          },
          "metadata": {},
          "execution_count": 115
        }
      ]
    },
    {
      "cell_type": "code",
      "source": [
        "model.tokenize([dataset[\"train\"][0][\"title\"]])"
      ],
      "metadata": {
        "id": "wUPlGCKCxJVa",
        "colab": {
          "base_uri": "https://localhost:8080/"
        },
        "outputId": "1528e66b-3048-40ec-9e3e-db613f9edfe7"
      },
      "execution_count": null,
      "outputs": [
        {
          "output_type": "execute_result",
          "data": {
            "text/plain": [
              "{'input_ids': tensor([[     0,   5946,  43488,      7,  20413,   2728,   4742,  40019,   1925,\n",
              "            6676,    514,   6986, 126235,     37,  67156,    281,   7252, 162829,\n",
              "           11264,  36948, 124408,   7116,    251, 174856,      2]]),\n",
              " 'attention_mask': tensor([[1, 1, 1, 1, 1, 1, 1, 1, 1, 1, 1, 1, 1, 1, 1, 1, 1, 1, 1, 1, 1, 1, 1, 1,\n",
              "          1]])}"
            ]
          },
          "metadata": {},
          "execution_count": 116
        }
      ]
    },
    {
      "cell_type": "code",
      "source": [
        "(model.tokenize([dataset[\"train\"][0][\"title\"]])['input_ids']).shape[1]"
      ],
      "metadata": {
        "id": "wvOv8r0TxU1R",
        "colab": {
          "base_uri": "https://localhost:8080/"
        },
        "outputId": "1f1beac9-f14f-4837-cfcf-5242e657eacd"
      },
      "execution_count": null,
      "outputs": [
        {
          "output_type": "execute_result",
          "data": {
            "text/plain": [
              "25"
            ]
          },
          "metadata": {},
          "execution_count": 117
        }
      ]
    },
    {
      "cell_type": "markdown",
      "metadata": {
        "id": "SyiMLzsMcz5C"
      },
      "source": [
        "* 埋め込みを保存。"
      ]
    },
    {
      "cell_type": "code",
      "execution_count": null,
      "metadata": {
        "id": "toeI36FNceR_"
      },
      "outputs": [],
      "source": [
        "with open('embeddings.npy', 'wb') as f:\n",
        "  np.save(f, embeddings)"
      ]
    },
    {
      "cell_type": "code",
      "execution_count": null,
      "metadata": {
        "id": "CSQOagHqEVMo"
      },
      "outputs": [],
      "source": [
        "#with open('content_embeddings.npy', 'wb') as f:\n",
        "#  np.save(f, content_embeddings)"
      ]
    },
    {
      "cell_type": "markdown",
      "metadata": {
        "id": "DqbMNNHPc2-F"
      },
      "source": [
        "* 読み込みは以下のようにする。"
      ]
    },
    {
      "cell_type": "code",
      "execution_count": null,
      "metadata": {
        "id": "1sSjKGTScknl"
      },
      "outputs": [],
      "source": [
        "with open('embeddings.npy', 'rb') as f:\n",
        "  embeddings = np.load(f)"
      ]
    },
    {
      "cell_type": "code",
      "execution_count": null,
      "metadata": {
        "id": "KnwfI4i7EVMp"
      },
      "outputs": [],
      "source": [
        "#with open('content_embeddings.npy', 'rb') as f:\n",
        "#  content_embeddings = np.load(f)"
      ]
    },
    {
      "cell_type": "markdown",
      "metadata": {
        "id": "EntA_0wuEVMp"
      },
      "source": [
        "## クラスタのラベリングに使う単語の抽出"
      ]
    },
    {
      "cell_type": "markdown",
      "source": [
        "* 全テキストを形態素解析する。\n",
        "  * 形態素解析＝単語への分割"
      ],
      "metadata": {
        "id": "4VuPO6Q9yvmD"
      }
    },
    {
      "cell_type": "code",
      "execution_count": null,
      "metadata": {
        "id": "2JKK34DGmVYP",
        "colab": {
          "base_uri": "https://localhost:8080/",
          "height": 49,
          "referenced_widgets": [
            "e12a5588868c45ff8e6167808f50e8ae",
            "1949d4addb5d4abd960cd4da9fdc2fda",
            "f0511af34595447ca7568744e559af86",
            "7bada9187d68451a9452687582919034",
            "f8cb07cef69040a0bb2827726396b63d",
            "d1f57afc329e426c9b5994b7c1d9c3bc",
            "4d62dc082ded408a9569449fc3070a97",
            "908c6a660c104edfaa82a92e011f8095",
            "5b69cc2650554fdb872d680af95ca053",
            "1bdb9693dcad4e93b15b8d1e0775bcf3",
            "08cded9e6ba64314add8b5eaaaf34d0f"
          ]
        },
        "outputId": "3742e9b9-4f1a-46b2-f662-8a0dd9e2ec89"
      },
      "outputs": [
        {
          "output_type": "display_data",
          "data": {
            "text/plain": [
              "  0%|          | 0/5894 [00:00<?, ?it/s]"
            ],
            "application/vnd.jupyter.widget-view+json": {
              "version_major": 2,
              "version_minor": 0,
              "model_id": "e12a5588868c45ff8e6167808f50e8ae"
            }
          },
          "metadata": {}
        }
      ],
      "source": [
        "nlp = spacy.load(\"ja_core_news_sm\")\n",
        "corpus = []\n",
        "for text in tqdm(dataset[\"train\"][\"title\"]):\n",
        "  corpus.append(\" \".join([token.lemma_ for token in nlp(text)]))"
      ]
    },
    {
      "cell_type": "code",
      "source": [
        "dataset[\"train\"][0][\"title\"]"
      ],
      "metadata": {
        "id": "IWrwhoCMJPDX",
        "colab": {
          "base_uri": "https://localhost:8080/",
          "height": 36
        },
        "outputId": "67ec6550-e82a-47d2-ca00-d8c03c39be29"
      },
      "execution_count": null,
      "outputs": [
        {
          "output_type": "execute_result",
          "data": {
            "text/plain": [
              "'【Sports Watch】体操・田中理恵、兄が学生時代のエピソードを暴露'"
            ],
            "application/vnd.google.colaboratory.intrinsic+json": {
              "type": "string"
            }
          },
          "metadata": {},
          "execution_count": 123
        }
      ]
    },
    {
      "cell_type": "code",
      "source": [
        "corpus[0]"
      ],
      "metadata": {
        "id": "-32b91J5JMFh",
        "colab": {
          "base_uri": "https://localhost:8080/",
          "height": 36
        },
        "outputId": "a978be65-7e67-41c6-a091-407c60c6a8e7"
      },
      "execution_count": null,
      "outputs": [
        {
          "output_type": "execute_result",
          "data": {
            "text/plain": [
              "'【 SPORTS watch 】 体操 ・ 田中 理恵 、 兄 が 学生 時代 の エピソード を 暴露'"
            ],
            "application/vnd.google.colaboratory.intrinsic+json": {
              "type": "string"
            }
          },
          "metadata": {},
          "execution_count": 124
        }
      ]
    },
    {
      "cell_type": "markdown",
      "metadata": {
        "id": "WWmaRgolEVMp"
      },
      "source": [
        "* scikit-learnでTF-IDFを計算する。\n",
        "* `TfidfVectorizer`の`min_df`パラメータは適当に調節する。\n",
        "  * クラスタのラベリングに向かないマイナーな単語が含まれないようにする。"
      ]
    },
    {
      "cell_type": "code",
      "source": [
        "vectorizer = TfidfVectorizer(min_df=20)"
      ],
      "metadata": {
        "id": "uSd5M9K1J1cq"
      },
      "execution_count": null,
      "outputs": []
    },
    {
      "cell_type": "code",
      "source": [
        "X_train = vectorizer.fit_transform(corpus)"
      ],
      "metadata": {
        "id": "WkJ2JD6QJ7vO"
      },
      "execution_count": null,
      "outputs": []
    },
    {
      "cell_type": "code",
      "source": [
        "X_train = X_train.toarray()"
      ],
      "metadata": {
        "id": "WTozJWm3KTE-"
      },
      "execution_count": null,
      "outputs": []
    },
    {
      "cell_type": "code",
      "source": [
        "X_train"
      ],
      "metadata": {
        "id": "p5PjfEOhKYhI",
        "colab": {
          "base_uri": "https://localhost:8080/"
        },
        "outputId": "b92a12bf-3e76-4994-8e92-da38cb76085c"
      },
      "execution_count": null,
      "outputs": [
        {
          "output_type": "execute_result",
          "data": {
            "text/plain": [
              "array([[0., 0., 0., ..., 0., 0., 0.],\n",
              "       [0., 0., 0., ..., 0., 0., 0.],\n",
              "       [0., 0., 0., ..., 0., 0., 0.],\n",
              "       ...,\n",
              "       [0., 0., 0., ..., 0., 0., 0.],\n",
              "       [0., 0., 0., ..., 0., 0., 0.],\n",
              "       [0., 0., 0., ..., 0., 0., 0.]])"
            ]
          },
          "metadata": {},
          "execution_count": 128
        }
      ]
    },
    {
      "cell_type": "code",
      "source": [
        "X_train.shape"
      ],
      "metadata": {
        "id": "JliqLF5wMWNO",
        "colab": {
          "base_uri": "https://localhost:8080/"
        },
        "outputId": "e9c9d172-ee12-464e-acd8-0a23b15aa3e3"
      },
      "execution_count": null,
      "outputs": [
        {
          "output_type": "execute_result",
          "data": {
            "text/plain": [
              "(5894, 447)"
            ]
          },
          "metadata": {},
          "execution_count": 129
        }
      ]
    },
    {
      "cell_type": "code",
      "execution_count": null,
      "metadata": {
        "id": "MOihcuMrlvMn"
      },
      "outputs": [],
      "source": [
        "vocab = np.array(vectorizer.get_feature_names_out())"
      ]
    },
    {
      "cell_type": "code",
      "execution_count": null,
      "metadata": {
        "id": "9c0q5G0EmDl7",
        "colab": {
          "base_uri": "https://localhost:8080/"
        },
        "outputId": "ca98611f-9e80-4c82-c25e-c819f8aa3b90"
      },
      "outputs": [
        {
          "output_type": "execute_result",
          "data": {
            "text/plain": [
              "447"
            ]
          },
          "metadata": {},
          "execution_count": 131
        }
      ],
      "source": [
        "vocab.size"
      ]
    },
    {
      "cell_type": "code",
      "execution_count": null,
      "metadata": {
        "id": "db6qnSlNEVMs",
        "colab": {
          "base_uri": "https://localhost:8080/"
        },
        "outputId": "a22a2baa-f1ab-4527-eb79-635997b303de"
      },
      "outputs": [
        {
          "output_type": "stream",
          "name": "stdout",
          "text": [
            "['01', '02', '04', '05', '06', '07', '10', '100', '1000万', '11', '12', '13', '15', '1日', '20', '2011', '2012', '23', '24', '30', '40', '48', 'akb', 'android', 'aquos', 'arrows', 'au', 'by', 'cafe', 'cm', 'cpu', 'dvd', 'facebook', 'fi', 'galaxy', 'google', 'hd', 'ics', 'ipad', 'iphone', 'is', 'isw', 'it', 'kddi', 'lte', 'mac', 'medias', 'nhk', 'note', 'ntt', 'optimus', 'os', 'pc', 'phone', 'presented', 'salon', 'sc', 'sh', 'sports', 'twitter', 'vol', 'vs', 'watch', 'wi', 'wimax', 'windows', 'xi', 'xperia', 'あなた', 'あの', 'ある', 'いい', 'いう', 'いく', 'いる', 'おく', 'お気に入り', 'から', 'かわいい', 'くる', 'くれる', 'こと', 'この', 'これ', 'さん', 'しまう', 'すぎる', 'する', 'せる', 'そう', 'その', 'たい', 'たち', 'ため', 'だけ', 'ちゃう', 'ちゃん', 'って', 'っと', 'ついに', 'つく', 'てる', 'できる', 'です', 'どう', 'どこ', 'ない', 'なし', 'なぜ', 'なでしこ', 'など', 'なる', 'なん', 'にて', 'にゅう', 'べし', 'ます', 'まで', 'まとめ', 'みる', 'みんな', 'もう', 'もの', 'やすい', 'やる', 'ゆるい', 'よう', 'より', 'よる', 'られる', 'れる', 'わかる', 'アイテム', 'アップ', 'アップル', 'アナ', 'アプリ', 'イケショップ', 'イベント', 'インタビュー', 'インチ', 'オススメ', 'オトナ', 'オープン', 'カメラ', 'カード', 'ガール', 'キャンペーン', 'クリスマス', 'ケース', 'ゲーム', 'コスメ', 'コメント', 'コラボ', 'コンパクト', 'ゴルフ', 'サイト', 'サッカー', 'サポート', 'サービス', 'シャープ', 'ショップ', 'シリーズ', 'ジャパン', 'スター', 'スタート', 'スポーツ', 'スマホ', 'スマート', 'スマートフォン', 'セクシー', 'セット', 'ソニー', 'ソフトウェア', 'ソフトバンク', 'ソーシャル', 'タブレット', 'ダイエット', 'チェック', 'チャンス', 'ツイッター', 'テレビ', 'ディスプレイ', 'デジ', 'デジタル', 'デート', 'ドコモ', 'ドラマ', 'ニコニコ', 'ニュース', 'ネット', 'ノム', 'バッテリー', 'バージョン', 'パソコン', 'パナソニック', 'ビジネス', 'ビデオ', 'ファッション', 'ファン', 'ブランド', 'ブログ', 'プレゼント', 'プロ', 'メディア', 'メール', 'モテる', 'モデル', 'モバイル', 'ユーザー', 'ランキング', 'リアル', 'レア', 'レビュー', 'レポート', 'ロゴ', '一番', '上陸', '世代', '世界', '両論', '中国', '主題', '予告', '予定', '予約', '事前', '事情', '事故', '五輪', '人気', '人生', '今年', '仕事', '付き', '代表', '以上', '会社', '会議', '体験', '作る', '作品', '使う', '使える', '価格', '便利', '充電', '入り', '入れる', '全部', '公開', '具合', '写真', '凄い', '出す', '出る', '出演', '利用', '動画', '友達', '反応', '取る', '可能', '合う', '向け', '告白', '問題', '国内', '国際', '報道', '売れ筋', '変える', '変わる', '変化', '大人', '女優', '女子', '女性', '好き', '学ぶ', '実施', '家族', '家電', '容量', '対応', '対策', '専用', '少女', '年収', '幸せ', '強い', '役立つ', '彼女', '得る', '必要', '必見', '快適', '怒り', '思う', '恋愛', '恐怖', '悩み', '情報', '意外', '批判', '批評', '披露', '招待', '持つ', '挑戦', '振る', '採用', '掲示', '掴める', '提供', '搭載', '携帯', '撮る', '撮影', '操作', '放送', '教える', '新しい', '新た', '方法', '日本', '明かす', '映像', '映画', '時代', '時間', '更新', '書籍', '最大', '最強', '最新', '最高', '本当', '本日', '東京', '楽しい', '楽しむ', '楽天', '機種', '機能', '正式', '殺到', '決定', '注意', '注目', '活動', '活用', '海外', '液晶', '激怒', '炎上', '無料', '無線', '物議', '特別', '特集', '独女', '理由', '生活', '男子', '男性', '画像', '画面', '番組', '発売', '発表', '発言', '登場', '登録', '監督', '目指す', '相手', '知る', '研究', '社長', '秘密', '端末', '節電', '簡単', '紹介', '紺子', '終了', '結婚', '編集', '美しい', '美人', '美女', '考える', '聞く', '自分', '虎の巻', '行く', '衝撃', '製品', '見る', '視聴', '解禁', '解説', '言う', '記事', '記念', '試す', '試写', '試合', '話題', '誕生', '語る', '説教', '読み', '読む', '講座', '販売', '賛否', '購入', '転職', '辛口', '込む', '返る', '通信', '週末', '週間', '選ぶ', '選手', '部屋', '配信', '野球', '開催', '開始', '開発', '関係', '関連', '防水', '限定', '電子', '電話', '非難', '韓国', '食べる', '香川', '騒然', '高い', '魅力']\n"
          ]
        }
      ],
      "source": [
        "print(list(vocab))"
      ]
    },
    {
      "cell_type": "markdown",
      "metadata": {
        "id": "Tpz7qe2dEVMs"
      },
      "source": [
        "## ラベリング用単語の埋め込み"
      ]
    },
    {
      "cell_type": "markdown",
      "metadata": {
        "id": "XwNXHtnQEVMt"
      },
      "source": [
        "* 各単語について、その単語を含むテキストの埋め込みベクトルの加重平均を求める。\n",
        "* 加重平均の重みは、各テキストにおけるその単語のTF-IDFの値を使って定める。"
      ]
    },
    {
      "cell_type": "code",
      "source": [
        "X_train.sum(0)"
      ],
      "metadata": {
        "id": "LXcUTl7MMI6c",
        "colab": {
          "base_uri": "https://localhost:8080/"
        },
        "outputId": "58ce9d19-6701-404d-a207-194b9c3ef99c"
      },
      "execution_count": null,
      "outputs": [
        {
          "output_type": "execute_result",
          "data": {
            "text/plain": [
              "array([ 14.23737419,   8.29165953,   8.89160565,  10.98194494,\n",
              "        18.93665008,   9.46061414,  40.07367426,  14.28822988,\n",
              "        14.41911992,  22.80643974,  18.05936778,  11.4279328 ,\n",
              "        11.59444793,  11.84556731,  20.7174215 ,  23.58182266,\n",
              "        41.04647437,  12.39391169,  10.63096185,  17.4181583 ,\n",
              "        10.99017477,  27.09842548,  35.27405367,  78.35690806,\n",
              "        15.26955653,  10.83606064,  24.80076668,  23.88017003,\n",
              "        20.80809394,  14.17248708,  10.96561034,  20.0860085 ,\n",
              "        18.03084136,  14.36513671,  24.92943815,  22.90955665,\n",
              "        10.09431811,  12.73046169,  24.04995493,  76.33793521,\n",
              "         7.58491082,   8.07353078,  15.39973941,  16.2993322 ,\n",
              "        12.22679908,  10.5302457 ,   9.04033087,  12.29946058,\n",
              "         8.40654504,  43.04142467,   8.86133668,   9.48350301,\n",
              "        23.8057352 ,  21.52179432,  19.95833812,  29.16454774,\n",
              "        13.14260003,  18.92114609, 154.76217334,  14.14442497,\n",
              "        72.94053245,  12.27233884, 154.76217334,  14.92579241,\n",
              "         7.89431358,  15.18347008,  15.86223976,  22.02033302,\n",
              "        35.85314279,  12.65850818,  55.08541402,  23.68445794,\n",
              "        28.58033185,  19.80487989,  80.65722906,   9.79745357,\n",
              "        11.68265528, 108.48709074,  22.61030841,  25.14057055,\n",
              "        16.55195771,  39.82382645,  20.06073999,  30.26919847,\n",
              "        61.47276203,  13.35908949,  37.18623958, 309.20309066,\n",
              "        28.65240455,  16.04502497,  28.1678726 ,  64.85746799,\n",
              "        48.74888725,  31.64582045,  31.06001573,  15.44476037,\n",
              "        19.33571472,  46.46121475,  19.95833812,  15.93832352,\n",
              "        20.71990777,  36.04106989,  71.61790776,  38.39956208,\n",
              "        30.05297548,  16.66016863, 178.51322173,  17.19178836,\n",
              "        12.67330509,  21.76339123,  43.5770422 ,  94.3460898 ,\n",
              "        12.81745918,  10.56943067,   9.03043468,  12.63519387,\n",
              "        89.06254335,  30.30855617,  25.98622175,  35.16932456,\n",
              "        12.42638742,  15.74528958,  14.31715431,  10.20156984,\n",
              "        21.4446851 ,  20.64374259,  14.68226754,  39.21706702,\n",
              "        13.96579427,  28.92343163,  92.50000269,  13.08964681,\n",
              "        15.80685043,  33.61272163,  11.29187014,  16.35438932,\n",
              "        98.4443993 ,   9.06176032,  19.57700645,  42.68138275,\n",
              "        16.89330229,  19.81444185,  37.91706101,  17.95778827,\n",
              "        27.71064038,  10.99256538,  13.98281675,  24.71241584,\n",
              "        31.61533865,  10.81732032,  28.55860633,  15.56902819,\n",
              "        15.78624664,  19.47766268,   9.39059369,  31.60325988,\n",
              "        13.04871022,  14.29575126,  11.28586855,  31.53605677,\n",
              "        12.45086886,  10.91522041,  23.44980241,  17.92023802,\n",
              "        15.46172459,  10.47243516,  15.23744336,  66.8406235 ,\n",
              "        11.07601726,  46.71313125,  13.6343961 ,  11.61683791,\n",
              "        21.59656915,  20.85842969,  24.38334404,   9.6647195 ,\n",
              "        27.15809991,  12.55628557,  82.7801271 ,  19.68740911,\n",
              "        24.98082831,  33.56886902,  12.0888072 ,  59.94954119,\n",
              "        14.31342181,  13.7484259 ,  57.27181804,  17.40240672,\n",
              "         9.97546443,  35.31345511,  64.64964859,  15.83342358,\n",
              "        12.78219317,  13.65852448,  12.79198401,  17.40186619,\n",
              "        13.07423478,  36.80156601,  14.59880787,  31.42036638,\n",
              "        17.30030808,  13.68756868,  59.46535387,  17.47638395,\n",
              "        11.63524588,  15.52229038,  22.88798089,  38.75368662,\n",
              "        23.20642068,  24.63108959,  31.41662854,  16.20521648,\n",
              "         9.68465807,  26.11612321,  37.59907879,  13.10015848,\n",
              "        15.95358738,  13.19689099,  20.23187882,  66.02209745,\n",
              "        11.85802977,  12.77062756,  13.40208371,  25.42924943,\n",
              "        13.70890263,  11.92873905,   9.46500446,  14.39510006,\n",
              "        13.92934999,  19.66107704,  49.48513671,  14.49703358,\n",
              "        21.24244116,  28.68976634,  13.90235746,  35.10453082,\n",
              "        14.39384152,  19.97911239,  12.65161527,  24.40358754,\n",
              "        21.83394373,  15.48373812,  42.03785152,  22.71908749,\n",
              "        13.79777543,  16.80977589,  14.56637759,  12.64487506,\n",
              "        12.77418883,   9.99500678,  53.91031138,  16.50596102,\n",
              "        49.07606457,  11.73767908,  11.85580989,  17.78446088,\n",
              "        22.63050595,  20.81842685,  27.15199437,  12.49317188,\n",
              "        12.85892535,  16.3569302 ,  16.50552436,  10.99777707,\n",
              "        34.82718335,  12.58615098,  29.20983689,   8.9283555 ,\n",
              "        12.18104625,  22.11591585,  58.76295176,  13.5045704 ,\n",
              "        14.38701235,   9.448143  ,  18.12432171,  13.97201382,\n",
              "       108.00540587,  46.54946808,  28.08531642,  15.22553634,\n",
              "        12.78018772,  11.46308205,  17.54057592,   9.32361178,\n",
              "        51.05335323,  17.83315522,  13.03463284,  16.82360504,\n",
              "        18.66820157,  12.71832009,  13.44754299,  13.98051486,\n",
              "        14.37468053,  34.92709136,  14.27506226,  12.94872388,\n",
              "        15.52453538,  13.6367732 ,  29.94050645,  39.0064645 ,\n",
              "        13.68224676,  14.92376318,  27.67379166,  19.91325296,\n",
              "        32.67268879,  11.4180744 ,  13.66668296,  15.88650662,\n",
              "        15.07245544,  17.89010217,  13.84144249,  10.95273725,\n",
              "        12.30446384,  15.3953167 ,  30.54967879,  42.91275644,\n",
              "        14.56281686,   9.18347855,  14.02534784,  10.40640112,\n",
              "        20.18379005,  12.68455438,  18.86961103,  14.35453044,\n",
              "        23.01102419,  99.07257993,  15.99435864,  36.41568793,\n",
              "       122.69791088,  22.95725518,  17.47822746,  20.59117795,\n",
              "        11.64112381,  17.43376813,  25.01070943,  33.069175  ,\n",
              "        14.25252179,  22.87565651,  11.54783134,  37.67376768,\n",
              "        13.82568007,  22.44243401,  13.28543192,  12.14934552,\n",
              "        28.62535569,   7.96653056,  24.96614144,  35.02324626,\n",
              "        14.7746478 ,  27.05138474,   9.09132765,  18.3179844 ,\n",
              "        19.31926361,   9.25617761,  13.1287915 ,  12.21734361,\n",
              "        20.00228319,  10.56187498,  17.75219361,  13.60201479,\n",
              "        66.72357265,  69.10627432,  36.40081066,  38.45835278,\n",
              "        15.01097331,  21.99252798,  10.87542101,  12.31870679,\n",
              "        20.18296302,  71.31384102,  52.35345519,  38.90509084,\n",
              "        78.3016282 ,   8.08505136,  43.66726266,  12.17636138,\n",
              "        12.95764785,  51.90610248,   7.99897136,  28.50618649,\n",
              "        15.03597079,  11.20129159,  15.18181167,  21.93569365,\n",
              "        21.18401287,  16.55132153,  45.77213304,  48.51689918,\n",
              "        20.47763885,  19.14252235,  25.90039169,  23.79342984,\n",
              "        13.44104572,  22.68100379,  31.21716526,  33.3879197 ,\n",
              "        17.61310627,  16.25099474,  11.49987751,  50.66210152,\n",
              "        12.46433389,  19.30381528,  12.51515614,  25.14483584,\n",
              "        12.79018248,  10.74450288,  12.24281445,  11.59411171,\n",
              "        14.34329339, 169.76642251,  13.69658361,  33.58285664,\n",
              "        19.42676817,  19.74678762,  11.4826357 ,  11.58334137,\n",
              "        19.81348739,  18.75668563,  12.72041033,  14.44557655,\n",
              "        17.95607802,  12.50974121,  13.11476943,  17.04096475,\n",
              "        19.16260271,  26.5725114 ,  20.74718571,  32.52955496,\n",
              "        23.32476041,  12.70475769,  14.77769834,  34.06531463,\n",
              "        53.04502445,  13.13539813,  17.36046011,   8.29625616,\n",
              "        12.24978677,  25.69018658,  14.97449632,  11.35932431,\n",
              "        23.44688947,  60.53292102,  15.15348276,  14.03224711,\n",
              "        16.40310278,  14.17355259,  16.05015062])"
            ]
          },
          "metadata": {},
          "execution_count": 133
        }
      ]
    },
    {
      "cell_type": "code",
      "execution_count": null,
      "metadata": {
        "id": "yxYtetYvEVMt"
      },
      "outputs": [],
      "source": [
        "text_weights = X_train / X_train.sum(0)"
      ]
    },
    {
      "cell_type": "code",
      "execution_count": null,
      "metadata": {
        "id": "vFXVOW-zEVMt"
      },
      "outputs": [],
      "source": [
        "vocab_embeddings = np.dot(text_weights.T, embeddings)"
      ]
    },
    {
      "cell_type": "markdown",
      "metadata": {
        "id": "jDzUNmnaMaUv"
      },
      "source": [
        "## 文書クラスタリング\n",
        "\n"
      ]
    },
    {
      "cell_type": "code",
      "source": [
        "embeddings.shape"
      ],
      "metadata": {
        "id": "LutTeRwoPcEV",
        "colab": {
          "base_uri": "https://localhost:8080/"
        },
        "outputId": "db8b410e-1445-45aa-b900-5d698bd79523"
      },
      "execution_count": null,
      "outputs": [
        {
          "output_type": "execute_result",
          "data": {
            "text/plain": [
              "(5894, 1024)"
            ]
          },
          "metadata": {},
          "execution_count": 136
        }
      ]
    },
    {
      "cell_type": "markdown",
      "source": [
        "* k-meansのしくみ"
      ],
      "metadata": {
        "id": "_MkO7Nu9RAIz"
      }
    },
    {
      "cell_type": "markdown",
      "source": [
        "* 初期化"
      ],
      "metadata": {
        "id": "3PH1ezktRCnB"
      }
    },
    {
      "cell_type": "code",
      "source": [
        "n_clusters = 20\n",
        "assignments = np.random.randint(0, n_clusters, X_train.shape[0])"
      ],
      "metadata": {
        "id": "09ybCU_xPeqJ"
      },
      "execution_count": null,
      "outputs": []
    },
    {
      "cell_type": "code",
      "source": [
        "assignments"
      ],
      "metadata": {
        "id": "lk5cBMiNReps",
        "colab": {
          "base_uri": "https://localhost:8080/"
        },
        "outputId": "2b8a5663-2689-4ff2-d4ea-56f5f63350b4"
      },
      "execution_count": null,
      "outputs": [
        {
          "output_type": "execute_result",
          "data": {
            "text/plain": [
              "array([15, 19,  6, ..., 14,  6,  2])"
            ]
          },
          "metadata": {},
          "execution_count": 138
        }
      ]
    },
    {
      "cell_type": "markdown",
      "source": [
        "* クラスタの重心の計算"
      ],
      "metadata": {
        "id": "MvCtsAWzRuqz"
      }
    },
    {
      "cell_type": "code",
      "source": [
        "mean_vectors = []\n",
        "for k in range(n_clusters):\n",
        "  mean_vectors.append(embeddings[assignments == k].mean(0))"
      ],
      "metadata": {
        "id": "Us7sxJFqPvVe"
      },
      "execution_count": null,
      "outputs": []
    },
    {
      "cell_type": "code",
      "source": [
        "mean_vectors = np.array(mean_vectors)"
      ],
      "metadata": {
        "id": "T_hAjT4VSL_6"
      },
      "execution_count": null,
      "outputs": []
    },
    {
      "cell_type": "code",
      "source": [
        "mean_vectors"
      ],
      "metadata": {
        "id": "w7NLKW28SSwE",
        "colab": {
          "base_uri": "https://localhost:8080/"
        },
        "outputId": "8c83cc1f-2a6a-41fb-d7e1-084b42623b4a"
      },
      "execution_count": null,
      "outputs": [
        {
          "output_type": "execute_result",
          "data": {
            "text/plain": [
              "array([[ 0.01647943,  0.02976647, -0.01883664, ..., -0.01935209,\n",
              "        -0.02470126,  0.00820278],\n",
              "       [ 0.01736941,  0.02942751, -0.01961963, ..., -0.01800565,\n",
              "        -0.02569819,  0.01002786],\n",
              "       [ 0.01818474,  0.02903217, -0.01919492, ..., -0.01931877,\n",
              "        -0.02524555,  0.00853535],\n",
              "       ...,\n",
              "       [ 0.01856   ,  0.02957751, -0.01961546, ..., -0.01758128,\n",
              "        -0.02471472,  0.00871525],\n",
              "       [ 0.01793541,  0.02967603, -0.02068584, ..., -0.01822105,\n",
              "        -0.02434707,  0.00888514],\n",
              "       [ 0.01804006,  0.029566  , -0.01940084, ..., -0.0179777 ,\n",
              "        -0.02628745,  0.00799878]], dtype=float32)"
            ]
          },
          "metadata": {},
          "execution_count": 141
        }
      ]
    },
    {
      "cell_type": "markdown",
      "source": [
        "* 各ベクトルに最も近い重心ベクトルを見つけて、クラスタを割り当て直す"
      ],
      "metadata": {
        "id": "Q8PvxFchSdWi"
      }
    },
    {
      "cell_type": "code",
      "source": [
        "np.sqrt(((embeddings[0] - mean_vectors[0]) ** 2).sum())"
      ],
      "metadata": {
        "id": "YhHQeZRtQcYi",
        "colab": {
          "base_uri": "https://localhost:8080/"
        },
        "outputId": "7a45984e-12ba-405c-ef50-2693d1fd0406"
      },
      "execution_count": null,
      "outputs": [
        {
          "output_type": "execute_result",
          "data": {
            "text/plain": [
              "np.float32(0.40364903)"
            ]
          },
          "metadata": {},
          "execution_count": 142
        }
      ]
    },
    {
      "cell_type": "code",
      "source": [
        "distances = []\n",
        "for k in range(n_clusters):\n",
        "  distances.append(np.linalg.norm(embeddings[0] - mean_vectors[k]).item())\n",
        "distances"
      ],
      "metadata": {
        "id": "n-VvSTVsQUGI",
        "colab": {
          "base_uri": "https://localhost:8080/"
        },
        "outputId": "dcef77d9-da0c-42e0-f173-71a8ce3b6614"
      },
      "execution_count": null,
      "outputs": [
        {
          "output_type": "execute_result",
          "data": {
            "text/plain": [
              "[0.4036490321159363,\n",
              " 0.409040629863739,\n",
              " 0.4111645221710205,\n",
              " 0.4118451476097107,\n",
              " 0.4051388204097748,\n",
              " 0.40543273091316223,\n",
              " 0.41023483872413635,\n",
              " 0.4078647494316101,\n",
              " 0.4158936142921448,\n",
              " 0.4042888581752777,\n",
              " 0.40534093976020813,\n",
              " 0.40762612223625183,\n",
              " 0.4092589318752289,\n",
              " 0.4115009903907776,\n",
              " 0.4054745137691498,\n",
              " 0.40657368302345276,\n",
              " 0.4127759337425232,\n",
              " 0.4144781231880188,\n",
              " 0.41011178493499756,\n",
              " 0.40817224979400635]"
            ]
          },
          "metadata": {},
          "execution_count": 157
        }
      ]
    },
    {
      "cell_type": "markdown",
      "metadata": {
        "id": "WO9p70lpNjQ_"
      },
      "source": [
        "### k-平均法によるクラスタリング"
      ]
    },
    {
      "cell_type": "code",
      "execution_count": null,
      "metadata": {
        "id": "zyXb2eRFOo3i"
      },
      "outputs": [],
      "source": [
        "n_clusters = 20\n",
        "kmeans = KMeans(n_clusters=n_clusters, n_init='auto', random_state=123)\n",
        "kmeans.fit(embeddings)\n",
        "#kmeans.fit(content_embeddings) # 本文の場合はこちら。\n",
        "centers = kmeans.cluster_centers_"
      ]
    },
    {
      "cell_type": "code",
      "source": [
        "centers"
      ],
      "metadata": {
        "id": "js2E7e4nWaPN",
        "colab": {
          "base_uri": "https://localhost:8080/"
        },
        "outputId": "875de299-2512-4cad-d2df-baec4f36544f"
      },
      "execution_count": null,
      "outputs": [
        {
          "output_type": "execute_result",
          "data": {
            "text/plain": [
              "array([[ 0.01430322,  0.03136253, -0.02514517, ..., -0.02268711,\n",
              "        -0.0266082 ,  0.01325098],\n",
              "       [ 0.0189735 ,  0.02687819, -0.02668014, ..., -0.01993991,\n",
              "        -0.01975193,  0.01015017],\n",
              "       [ 0.01751033,  0.02260082, -0.02669384, ..., -0.01917516,\n",
              "        -0.02717998,  0.01307425],\n",
              "       ...,\n",
              "       [ 0.02170468,  0.02648552, -0.02336103, ..., -0.01304382,\n",
              "        -0.0181316 ,  0.00705924],\n",
              "       [ 0.01176104,  0.02763935, -0.02222423, ..., -0.02498448,\n",
              "        -0.0299366 ,  0.01751282],\n",
              "       [ 0.02082054,  0.0304917 , -0.02854665, ..., -0.02131261,\n",
              "        -0.02837157,  0.01084703]], dtype=float32)"
            ]
          },
          "metadata": {},
          "execution_count": 145
        }
      ]
    },
    {
      "cell_type": "markdown",
      "metadata": {
        "id": "sFLiNhQjNpO2"
      },
      "source": [
        "* クラスタの重心を保存。"
      ]
    },
    {
      "cell_type": "code",
      "execution_count": null,
      "metadata": {
        "id": "9AzNSATqPBIz"
      },
      "outputs": [],
      "source": [
        "with open(f'centers_{n_clusters}.npy', 'wb') as f:\n",
        "  np.save(f, centers)"
      ]
    },
    {
      "cell_type": "code",
      "execution_count": null,
      "metadata": {
        "id": "FKZu_PGxVHeW"
      },
      "outputs": [],
      "source": [
        "with open(f'centers_{n_clusters}.npy', 'rb') as f:\n",
        "  centers = np.load(f)"
      ]
    },
    {
      "cell_type": "markdown",
      "metadata": {
        "id": "SgtCM75KYSjZ"
      },
      "source": [
        "### クラスタのサイズを調べる"
      ]
    },
    {
      "cell_type": "markdown",
      "metadata": {
        "id": "7GC267ESgFqk"
      },
      "source": [
        "* クラスタのインデックスをキーとし、そのサイズを値とする辞書を作る。"
      ]
    },
    {
      "cell_type": "code",
      "execution_count": null,
      "metadata": {
        "id": "SEtINadMTpW_"
      },
      "outputs": [],
      "source": [
        "unique, counts = np.unique(kmeans.labels_, return_counts=True)\n",
        "size_dict = dict(zip(unique.tolist(), counts.tolist()))"
      ]
    },
    {
      "cell_type": "markdown",
      "metadata": {
        "id": "ROivZugMgOds"
      },
      "source": [
        "* 辞書のエントリを、キーではなく値でソートする。"
      ]
    },
    {
      "cell_type": "code",
      "execution_count": null,
      "metadata": {
        "id": "41h3OeM9ZF5d",
        "colab": {
          "base_uri": "https://localhost:8080/"
        },
        "outputId": "2e1bccaa-7f36-4ac4-dee2-1e1bceac58d5"
      },
      "outputs": [
        {
          "output_type": "stream",
          "name": "stdout",
          "text": [
            "[[(4, 498), (13, 450), (8, 388), (3, 360), (14, 346), (5, 343), (19, 343), (9, 341), (10, 320), (11, 290), (7, 287), (0, 280), (1, 280), (15, 273), (17, 236), (2, 211), (16, 197), (6, 180), (18, 154), (12, 117)]]\n"
          ]
        }
      ],
      "source": [
        "print([sorted(size_dict.items(), key=lambda item: item[1], reverse=True)])"
      ]
    },
    {
      "cell_type": "markdown",
      "metadata": {
        "id": "ns24Lg8YdVir"
      },
      "source": [
        "## クラスタのラベリング\n",
        "* 各クラスタの重心に近い単語でラベリングする。"
      ]
    },
    {
      "cell_type": "markdown",
      "source": [
        "* テキストの埋め込みは、長さ1のベクトルになっている。"
      ],
      "metadata": {
        "id": "CzIBc3xLC0vc"
      }
    },
    {
      "cell_type": "code",
      "source": [
        "np.linalg.norm(embeddings, axis=-1)"
      ],
      "metadata": {
        "id": "61Zg_lH3CqEe",
        "colab": {
          "base_uri": "https://localhost:8080/"
        },
        "outputId": "d840cf75-829d-4b72-a8db-4e1a8eb87f33"
      },
      "execution_count": null,
      "outputs": [
        {
          "output_type": "execute_result",
          "data": {
            "text/plain": [
              "array([1.        , 1.        , 0.99999994, ..., 1.        , 1.        ,\n",
              "       1.        ], dtype=float32)"
            ]
          },
          "metadata": {},
          "execution_count": 150
        }
      ]
    },
    {
      "cell_type": "markdown",
      "source": [
        "* テキストとラベリング用の単語との類似度はコサイン類似度で測る。"
      ],
      "metadata": {
        "id": "7HoA3hXQC31b"
      }
    },
    {
      "cell_type": "code",
      "execution_count": null,
      "metadata": {
        "id": "fpaDwQsShEq5"
      },
      "outputs": [],
      "source": [
        "from sklearn.metrics.pairwise import cosine_similarity\n",
        "\n",
        "similarities = cosine_similarity(vocab_embeddings, centers)"
      ]
    },
    {
      "cell_type": "code",
      "source": [
        "vocab_embeddings.shape"
      ],
      "metadata": {
        "id": "IvwaUm-zXcIN",
        "colab": {
          "base_uri": "https://localhost:8080/"
        },
        "outputId": "695ae679-3862-499a-b009-ea4f9738caac"
      },
      "execution_count": null,
      "outputs": [
        {
          "output_type": "execute_result",
          "data": {
            "text/plain": [
              "(447, 1024)"
            ]
          },
          "metadata": {},
          "execution_count": 152
        }
      ]
    },
    {
      "cell_type": "code",
      "source": [
        "centers.shape"
      ],
      "metadata": {
        "id": "pbbNtjaeXfCK",
        "colab": {
          "base_uri": "https://localhost:8080/"
        },
        "outputId": "4863edb4-5eb2-43af-ce04-01854c06e0f3"
      },
      "execution_count": null,
      "outputs": [
        {
          "output_type": "execute_result",
          "data": {
            "text/plain": [
              "(20, 1024)"
            ]
          },
          "metadata": {},
          "execution_count": 153
        }
      ]
    },
    {
      "cell_type": "code",
      "source": [
        "similarities.shape"
      ],
      "metadata": {
        "id": "2JBHL3V4XSdR",
        "colab": {
          "base_uri": "https://localhost:8080/"
        },
        "outputId": "28e8f468-fcef-4171-a3fc-a4d27523b570"
      },
      "execution_count": null,
      "outputs": [
        {
          "output_type": "execute_result",
          "data": {
            "text/plain": [
              "(447, 20)"
            ]
          },
          "metadata": {},
          "execution_count": 154
        }
      ]
    },
    {
      "cell_type": "markdown",
      "source": [
        "* 重心に近い順に30個の単語を表示する。"
      ],
      "metadata": {
        "id": "4P3OfjmRC9eR"
      }
    },
    {
      "cell_type": "code",
      "execution_count": null,
      "metadata": {
        "id": "p37FojBHEVMu",
        "colab": {
          "base_uri": "https://localhost:8080/"
        },
        "outputId": "495aba42-a56d-4379-dc9d-f56503d455b1"
      },
      "outputs": [
        {
          "output_type": "stream",
          "name": "stdout",
          "text": [
            "['どう' 'って' 'あなた' 'いる' 'なぜ' '本当' '事情' '男性' '好き' 'なる' 'ある' '女性' '思う' 'しまう'\n",
            " 'たい' 'どこ' 'もの' 'その' 'こと' '聞く' 'たち' 'れる' '自分' 'べし' '必要' 'いう' 'ない' '女子'\n",
            " '彼女' '合う']\n",
            "['デジ' '使える' '使う' '機能' '携帯' 'スマホ' 'ipad' '利用' 'iphone' '可能' 'できる' '端末'\n",
            " 'アップル' '情報' '高い' '専用' '話題' 'みる' 'サービス' '発表' 'ユーザー' '新しい' 'から' 'ニュース' '開発'\n",
            " '紹介' 'it' 'わかる' '登場' 'おく']\n",
            "['スマートフォン' 'レポート' 'スマホ' '対応' '06' '05' 'galaxy' 'コンパクト' '試す' '搭載' '01'\n",
            " 'ドコモ' 'モバイル' '入り' '画面' '向け' '全部' 'レビュー' 'optimus' '防水' '04' '機能' '動画'\n",
            " 'phone' 'sh' 'モデル' '通信' '07' 'sc' '発売']\n",
            "['恋愛' 'しまう' '女子' 'たち' 'たい' '事情' '独女' '男性' '女性' '合う' 'いる' '好き' '彼女' 'なる'\n",
            " '思う' 'モテる' 'こと' 'れる' '自分' '悩み' 'られる' '聞く' 'せる' '本当' '結婚' '見る' 'って' 'vol'\n",
            " '男子' '幸せ']\n",
            "['映画' '公開' '映像' '解禁' '作品' '特別' 'まとめ' '最高' '予告' 'スター' '決定' '編集' '最強' '誕生'\n",
            " '読み' '世界' '上陸' '週末' 'dvd' '挑戦' '込む' 'ドラマ' '国際' 'れる' 'する' '注目' '少女' 'から'\n",
            " 'られる' '批評']\n",
            "['さん' 'ちゃん' '人気' 'れる' 'する' 'くる' 'すぎる' 'いい' 'なる' 'あの' 'から' 'いく' 'いる' '見る'\n",
            " 'られる' '込む' 'たい' 'もう' 'てる' 'せる' 'ちゃう' '出演' 'ある' '出す' 'ない' 'いう' '出る' 'ます'\n",
            " '注目' 'この']\n",
            "['仕事' '会社' 'vol' '部屋' 'その' 'ビジネス' '聞く' '教える' 'やる' '説教' '研究' '採用' 'いる' '自分'\n",
            " 'べし' '考える' '転職' 'ない' 'たい' 'こと' 'られる' '必要' '辛口' 'つく' 'なる' 'する' 'いう' '合う'\n",
            " 'ある' '年収']\n",
            "['こと' 'さん' '語る' 'もの' 'ある' 'いう' 'いる' 'いく' 'れる' 'インタビュー' 'たい' '思う' 'くる'\n",
            " 'られる' 'する' 'せる' '人生' '見る' 'なる' 'いい' 'から' 'すぎる' '出る' 'つく' 'ます' 'ない' 'てる'\n",
            " 'やる' 'その' '時代']\n",
            "['watch' 'sports' '選手' '試合' '監督' 'プロ' '代表' 'なでしこ' 'サッカー' 'です' '野球' 'ノム'\n",
            " 'てる' '言う' '語る' 'さん' '明かす' '告白' 'アナ' '日本' '五輪' '報道' 'スポーツ' 'ジャパン' '解説'\n",
            " 'ファン' 'くる' 'なん' 'いく' 'いう']\n",
            "['発言' 'てる' 'さん' '出演' 'コメント' 'ファン' '騒然' '批判' '殺到' '報道' 'ネット' '非難' '激怒' '物議'\n",
            " '怒り' 'ない' 'いく' 'akb' 'ちゃん' '出る' '番組' 'いる' 'つく' 'いい' 'れる' 'やる' '言う' '明かす'\n",
            " '関係' 'です']\n",
            "['話題' 'する' 'から' 'できる' 'なる' 'まで' 'そう' '情報' 'これ' '出る' 'この' 'れる' 'られる' 'よる'\n",
            " 'ユーザー' '以上' 'ニュース' 'その' 'スタート' '出す' '人気' 'より' 'ある' 'つく' '見る' 'くれる' 'サービス'\n",
            " 'いう' 'わかる' 'もう']\n",
            "['物議' '殺到' 'ネット' '非難' '批判' '発言' '掲示' '騒然' '賛否' '反応' '怒り' 'つく' '問題' '出る'\n",
            " 'コメント' '報道' 'れる' 'ユーザー' '日本' 'ない' 'てる' '炎上' '激怒' '話題' 'いう' 'べし' 'いる' '両論'\n",
            " 'ニュース' 'やる']\n",
            "['得る' '虎の巻' '知る' '活用' '役立つ' '便利' '使う' '方法' '快適' '操作' 'facebook' '簡単' 'わかる'\n",
            " '情報' '使える' 'できる' '作る' 'pc' 'アップ' '利用' 'メディア' '活動' '取る' 'ソーシャル' 'まで' '機能'\n",
            " 'よう' 'する' 'パソコン' 'やすい']\n",
            "['プレゼント' '入れる' '楽しむ' 'ます' 'たい' 'なる' '作る' '食べる' 'する' 'より' 'ため' '人気' 'ちゃう'\n",
            " '取る' 'くれる' '美しい' '行く' '大人' 'よう' '見る' 'アイテム' '目指す' '自分' 'まで' 'できる' 'から'\n",
            " 'この' '思う' 'だけ' 'かわいい']\n",
            "['開始' 'ntt' 'ドコモ' '向け' '提供' 'phone' '予定' 'スマートフォン' '対応' '搭載' '正式' 'sh'\n",
            " '発表' 'ics' '01' 'バージョン' 'lte' 'au' '端末' 'kddi' 'aquos' '02' 'galaxy' 'sc'\n",
            " 'ソフトバンク' 'モバイル' 'インチ' 'xi' 'スマホ' '06']\n",
            "['アプリ' 'iphone' 'android' 'チャンス' '使う' '掴める' '使える' '便利' 'やすい' 'できる' '機能'\n",
            " '情報' 'オススメ' '無料' 'ゲーム' 'スマホ' 'みる' 'ipad' 'アップ' '画面' '専用' '紹介' '操作' '利用'\n",
            " 'サービス' '試す' '動画' '必見' '向け' '新しい']\n",
            "['特集' 'ファッション' 'アイテム' 'ブランド' '人気' 'する' '楽しむ' 'たい' 'なる' 'まで' 'より' '生活'\n",
            " '入れる' 'ため' 'から' '注目' '登場' 'だけ' 'ます' '必見' '魅力' '世界' 'ある' '取る' 'くれる' '最新'\n",
            " '選ぶ' 'この' '限定' '見る']\n",
            "['選手' '代表' '試合' '監督' 'てる' 'です' '明かす' '言う' 'watch' 'sports' 'サッカー' '日本'\n",
            " 'ファン' '語る' 'さん' 'なでしこ' '報道' 'プロ' '五輪' 'いく' 'やる' '野球' 'いう' 'ない' '発言' '相手'\n",
            " 'ある' 'くる' '出る' '告白']\n",
            "['カメラ' '撮影' '写真' 'ビデオ' '撮る' 'salon' 'デジタル' '動画' 'みる' '紹介' 'できる' '凄い' 'から'\n",
            " '登場' 'する' 'ソニー' '最新' '可能' '11' '特集' 'アップ' 'モデル' '使う' '見る' 'チェック' 'まで'\n",
            " '世界' 'レポート' '製品' '機能']\n",
            "['チェック' '売れ筋' '製品' 'シリーズ' '発売' '登場' 'パナソニック' '付き' '機能' 'より' '専用' '対応' '販売'\n",
            " 'シャープ' '家電' 'ソニー' '使える' '液晶' '可能' 'できる' 'モデル' 'スマート' 'みる' '紹介' 'アップ' '最新'\n",
            " '価格' '開発' '世代' '使う']\n"
          ]
        }
      ],
      "source": [
        "for i in range(similarities.shape[-1]):\n",
        "  indices = np.argsort(- similarities[:,i])\n",
        "  print(vocab[indices[:30]])"
      ]
    },
    {
      "cell_type": "markdown",
      "source": [
        "# プランナー課題１１\n",
        "* それぞれのクラスタについて、重心に近い元々のテキスト（つまり記事タイトル）を5件ずつ表示させてみよう。\n",
        "* それらのテキストの内容に、上で得たラベルが合っているかどうか、確かめよう。"
      ],
      "metadata": {
        "id": "BhRfMIXnXA42"
      }
    },
    {
      "cell_type": "code",
      "execution_count": null,
      "metadata": {
        "id": "hpwKrF-CFKgz"
      },
      "outputs": [],
      "source": []
    }
  ],
  "metadata": {
    "accelerator": "GPU",
    "colab": {
      "gpuType": "T4",
      "provenance": [],
      "include_colab_link": true
    },
    "kernelspec": {
      "display_name": "Python 3",
      "name": "python3"
    },
    "language_info": {
      "codemirror_mode": {
        "name": "ipython",
        "version": 3
      },
      "file_extension": ".py",
      "mimetype": "text/x-python",
      "name": "python",
      "nbconvert_exporter": "python",
      "pygments_lexer": "ipython3",
      "version": "3.11.7"
    },
    "widgets": {
      "application/vnd.jupyter.widget-state+json": {
        "f8e77e8772924c238c4a28bc1c443d30": {
          "model_module": "@jupyter-widgets/controls",
          "model_name": "HBoxModel",
          "model_module_version": "1.5.0",
          "state": {
            "_dom_classes": [],
            "_model_module": "@jupyter-widgets/controls",
            "_model_module_version": "1.5.0",
            "_model_name": "HBoxModel",
            "_view_count": null,
            "_view_module": "@jupyter-widgets/controls",
            "_view_module_version": "1.5.0",
            "_view_name": "HBoxView",
            "box_style": "",
            "children": [
              "IPY_MODEL_df2a02f005164921b5211e45e978b4e0",
              "IPY_MODEL_41014c32c62a4b5fa29626fd7dd6b214",
              "IPY_MODEL_30a4364d54c5494cbd0bc43dd47a24d9"
            ],
            "layout": "IPY_MODEL_12e17436b87d4e09bcced6c7c3eaf493"
          }
        },
        "df2a02f005164921b5211e45e978b4e0": {
          "model_module": "@jupyter-widgets/controls",
          "model_name": "HTMLModel",
          "model_module_version": "1.5.0",
          "state": {
            "_dom_classes": [],
            "_model_module": "@jupyter-widgets/controls",
            "_model_module_version": "1.5.0",
            "_model_name": "HTMLModel",
            "_view_count": null,
            "_view_module": "@jupyter-widgets/controls",
            "_view_module_version": "1.5.0",
            "_view_name": "HTMLView",
            "description": "",
            "description_tooltip": null,
            "layout": "IPY_MODEL_50286316af784458936792e108f29308",
            "placeholder": "​",
            "style": "IPY_MODEL_1fb840b0619740e1b199db73ab39f8b9",
            "value": "Batches: 100%"
          }
        },
        "41014c32c62a4b5fa29626fd7dd6b214": {
          "model_module": "@jupyter-widgets/controls",
          "model_name": "FloatProgressModel",
          "model_module_version": "1.5.0",
          "state": {
            "_dom_classes": [],
            "_model_module": "@jupyter-widgets/controls",
            "_model_module_version": "1.5.0",
            "_model_name": "FloatProgressModel",
            "_view_count": null,
            "_view_module": "@jupyter-widgets/controls",
            "_view_module_version": "1.5.0",
            "_view_name": "ProgressView",
            "bar_style": "success",
            "description": "",
            "description_tooltip": null,
            "layout": "IPY_MODEL_3bd445869eb542d086c915e06e4838a2",
            "max": 185,
            "min": 0,
            "orientation": "horizontal",
            "style": "IPY_MODEL_62cb57afe1cf4c4696d3839b328fa811",
            "value": 185
          }
        },
        "30a4364d54c5494cbd0bc43dd47a24d9": {
          "model_module": "@jupyter-widgets/controls",
          "model_name": "HTMLModel",
          "model_module_version": "1.5.0",
          "state": {
            "_dom_classes": [],
            "_model_module": "@jupyter-widgets/controls",
            "_model_module_version": "1.5.0",
            "_model_name": "HTMLModel",
            "_view_count": null,
            "_view_module": "@jupyter-widgets/controls",
            "_view_module_version": "1.5.0",
            "_view_name": "HTMLView",
            "description": "",
            "description_tooltip": null,
            "layout": "IPY_MODEL_57d010e689874ad1a6c6b20a63d7ee54",
            "placeholder": "​",
            "style": "IPY_MODEL_c4c61d65048342bea7ddcbe338fc41a0",
            "value": " 185/185 [00:36&lt;00:00, 10.14it/s]"
          }
        },
        "12e17436b87d4e09bcced6c7c3eaf493": {
          "model_module": "@jupyter-widgets/base",
          "model_name": "LayoutModel",
          "model_module_version": "1.2.0",
          "state": {
            "_model_module": "@jupyter-widgets/base",
            "_model_module_version": "1.2.0",
            "_model_name": "LayoutModel",
            "_view_count": null,
            "_view_module": "@jupyter-widgets/base",
            "_view_module_version": "1.2.0",
            "_view_name": "LayoutView",
            "align_content": null,
            "align_items": null,
            "align_self": null,
            "border": null,
            "bottom": null,
            "display": null,
            "flex": null,
            "flex_flow": null,
            "grid_area": null,
            "grid_auto_columns": null,
            "grid_auto_flow": null,
            "grid_auto_rows": null,
            "grid_column": null,
            "grid_gap": null,
            "grid_row": null,
            "grid_template_areas": null,
            "grid_template_columns": null,
            "grid_template_rows": null,
            "height": null,
            "justify_content": null,
            "justify_items": null,
            "left": null,
            "margin": null,
            "max_height": null,
            "max_width": null,
            "min_height": null,
            "min_width": null,
            "object_fit": null,
            "object_position": null,
            "order": null,
            "overflow": null,
            "overflow_x": null,
            "overflow_y": null,
            "padding": null,
            "right": null,
            "top": null,
            "visibility": null,
            "width": null
          }
        },
        "50286316af784458936792e108f29308": {
          "model_module": "@jupyter-widgets/base",
          "model_name": "LayoutModel",
          "model_module_version": "1.2.0",
          "state": {
            "_model_module": "@jupyter-widgets/base",
            "_model_module_version": "1.2.0",
            "_model_name": "LayoutModel",
            "_view_count": null,
            "_view_module": "@jupyter-widgets/base",
            "_view_module_version": "1.2.0",
            "_view_name": "LayoutView",
            "align_content": null,
            "align_items": null,
            "align_self": null,
            "border": null,
            "bottom": null,
            "display": null,
            "flex": null,
            "flex_flow": null,
            "grid_area": null,
            "grid_auto_columns": null,
            "grid_auto_flow": null,
            "grid_auto_rows": null,
            "grid_column": null,
            "grid_gap": null,
            "grid_row": null,
            "grid_template_areas": null,
            "grid_template_columns": null,
            "grid_template_rows": null,
            "height": null,
            "justify_content": null,
            "justify_items": null,
            "left": null,
            "margin": null,
            "max_height": null,
            "max_width": null,
            "min_height": null,
            "min_width": null,
            "object_fit": null,
            "object_position": null,
            "order": null,
            "overflow": null,
            "overflow_x": null,
            "overflow_y": null,
            "padding": null,
            "right": null,
            "top": null,
            "visibility": null,
            "width": null
          }
        },
        "1fb840b0619740e1b199db73ab39f8b9": {
          "model_module": "@jupyter-widgets/controls",
          "model_name": "DescriptionStyleModel",
          "model_module_version": "1.5.0",
          "state": {
            "_model_module": "@jupyter-widgets/controls",
            "_model_module_version": "1.5.0",
            "_model_name": "DescriptionStyleModel",
            "_view_count": null,
            "_view_module": "@jupyter-widgets/base",
            "_view_module_version": "1.2.0",
            "_view_name": "StyleView",
            "description_width": ""
          }
        },
        "3bd445869eb542d086c915e06e4838a2": {
          "model_module": "@jupyter-widgets/base",
          "model_name": "LayoutModel",
          "model_module_version": "1.2.0",
          "state": {
            "_model_module": "@jupyter-widgets/base",
            "_model_module_version": "1.2.0",
            "_model_name": "LayoutModel",
            "_view_count": null,
            "_view_module": "@jupyter-widgets/base",
            "_view_module_version": "1.2.0",
            "_view_name": "LayoutView",
            "align_content": null,
            "align_items": null,
            "align_self": null,
            "border": null,
            "bottom": null,
            "display": null,
            "flex": null,
            "flex_flow": null,
            "grid_area": null,
            "grid_auto_columns": null,
            "grid_auto_flow": null,
            "grid_auto_rows": null,
            "grid_column": null,
            "grid_gap": null,
            "grid_row": null,
            "grid_template_areas": null,
            "grid_template_columns": null,
            "grid_template_rows": null,
            "height": null,
            "justify_content": null,
            "justify_items": null,
            "left": null,
            "margin": null,
            "max_height": null,
            "max_width": null,
            "min_height": null,
            "min_width": null,
            "object_fit": null,
            "object_position": null,
            "order": null,
            "overflow": null,
            "overflow_x": null,
            "overflow_y": null,
            "padding": null,
            "right": null,
            "top": null,
            "visibility": null,
            "width": null
          }
        },
        "62cb57afe1cf4c4696d3839b328fa811": {
          "model_module": "@jupyter-widgets/controls",
          "model_name": "ProgressStyleModel",
          "model_module_version": "1.5.0",
          "state": {
            "_model_module": "@jupyter-widgets/controls",
            "_model_module_version": "1.5.0",
            "_model_name": "ProgressStyleModel",
            "_view_count": null,
            "_view_module": "@jupyter-widgets/base",
            "_view_module_version": "1.2.0",
            "_view_name": "StyleView",
            "bar_color": null,
            "description_width": ""
          }
        },
        "57d010e689874ad1a6c6b20a63d7ee54": {
          "model_module": "@jupyter-widgets/base",
          "model_name": "LayoutModel",
          "model_module_version": "1.2.0",
          "state": {
            "_model_module": "@jupyter-widgets/base",
            "_model_module_version": "1.2.0",
            "_model_name": "LayoutModel",
            "_view_count": null,
            "_view_module": "@jupyter-widgets/base",
            "_view_module_version": "1.2.0",
            "_view_name": "LayoutView",
            "align_content": null,
            "align_items": null,
            "align_self": null,
            "border": null,
            "bottom": null,
            "display": null,
            "flex": null,
            "flex_flow": null,
            "grid_area": null,
            "grid_auto_columns": null,
            "grid_auto_flow": null,
            "grid_auto_rows": null,
            "grid_column": null,
            "grid_gap": null,
            "grid_row": null,
            "grid_template_areas": null,
            "grid_template_columns": null,
            "grid_template_rows": null,
            "height": null,
            "justify_content": null,
            "justify_items": null,
            "left": null,
            "margin": null,
            "max_height": null,
            "max_width": null,
            "min_height": null,
            "min_width": null,
            "object_fit": null,
            "object_position": null,
            "order": null,
            "overflow": null,
            "overflow_x": null,
            "overflow_y": null,
            "padding": null,
            "right": null,
            "top": null,
            "visibility": null,
            "width": null
          }
        },
        "c4c61d65048342bea7ddcbe338fc41a0": {
          "model_module": "@jupyter-widgets/controls",
          "model_name": "DescriptionStyleModel",
          "model_module_version": "1.5.0",
          "state": {
            "_model_module": "@jupyter-widgets/controls",
            "_model_module_version": "1.5.0",
            "_model_name": "DescriptionStyleModel",
            "_view_count": null,
            "_view_module": "@jupyter-widgets/base",
            "_view_module_version": "1.2.0",
            "_view_name": "StyleView",
            "description_width": ""
          }
        },
        "e12a5588868c45ff8e6167808f50e8ae": {
          "model_module": "@jupyter-widgets/controls",
          "model_name": "HBoxModel",
          "model_module_version": "1.5.0",
          "state": {
            "_dom_classes": [],
            "_model_module": "@jupyter-widgets/controls",
            "_model_module_version": "1.5.0",
            "_model_name": "HBoxModel",
            "_view_count": null,
            "_view_module": "@jupyter-widgets/controls",
            "_view_module_version": "1.5.0",
            "_view_name": "HBoxView",
            "box_style": "",
            "children": [
              "IPY_MODEL_1949d4addb5d4abd960cd4da9fdc2fda",
              "IPY_MODEL_f0511af34595447ca7568744e559af86",
              "IPY_MODEL_7bada9187d68451a9452687582919034"
            ],
            "layout": "IPY_MODEL_f8cb07cef69040a0bb2827726396b63d"
          }
        },
        "1949d4addb5d4abd960cd4da9fdc2fda": {
          "model_module": "@jupyter-widgets/controls",
          "model_name": "HTMLModel",
          "model_module_version": "1.5.0",
          "state": {
            "_dom_classes": [],
            "_model_module": "@jupyter-widgets/controls",
            "_model_module_version": "1.5.0",
            "_model_name": "HTMLModel",
            "_view_count": null,
            "_view_module": "@jupyter-widgets/controls",
            "_view_module_version": "1.5.0",
            "_view_name": "HTMLView",
            "description": "",
            "description_tooltip": null,
            "layout": "IPY_MODEL_d1f57afc329e426c9b5994b7c1d9c3bc",
            "placeholder": "​",
            "style": "IPY_MODEL_4d62dc082ded408a9569449fc3070a97",
            "value": "100%"
          }
        },
        "f0511af34595447ca7568744e559af86": {
          "model_module": "@jupyter-widgets/controls",
          "model_name": "FloatProgressModel",
          "model_module_version": "1.5.0",
          "state": {
            "_dom_classes": [],
            "_model_module": "@jupyter-widgets/controls",
            "_model_module_version": "1.5.0",
            "_model_name": "FloatProgressModel",
            "_view_count": null,
            "_view_module": "@jupyter-widgets/controls",
            "_view_module_version": "1.5.0",
            "_view_name": "ProgressView",
            "bar_style": "success",
            "description": "",
            "description_tooltip": null,
            "layout": "IPY_MODEL_908c6a660c104edfaa82a92e011f8095",
            "max": 5894,
            "min": 0,
            "orientation": "horizontal",
            "style": "IPY_MODEL_5b69cc2650554fdb872d680af95ca053",
            "value": 5894
          }
        },
        "7bada9187d68451a9452687582919034": {
          "model_module": "@jupyter-widgets/controls",
          "model_name": "HTMLModel",
          "model_module_version": "1.5.0",
          "state": {
            "_dom_classes": [],
            "_model_module": "@jupyter-widgets/controls",
            "_model_module_version": "1.5.0",
            "_model_name": "HTMLModel",
            "_view_count": null,
            "_view_module": "@jupyter-widgets/controls",
            "_view_module_version": "1.5.0",
            "_view_name": "HTMLView",
            "description": "",
            "description_tooltip": null,
            "layout": "IPY_MODEL_1bdb9693dcad4e93b15b8d1e0775bcf3",
            "placeholder": "​",
            "style": "IPY_MODEL_08cded9e6ba64314add8b5eaaaf34d0f",
            "value": " 5894/5894 [00:46&lt;00:00, 148.10it/s]"
          }
        },
        "f8cb07cef69040a0bb2827726396b63d": {
          "model_module": "@jupyter-widgets/base",
          "model_name": "LayoutModel",
          "model_module_version": "1.2.0",
          "state": {
            "_model_module": "@jupyter-widgets/base",
            "_model_module_version": "1.2.0",
            "_model_name": "LayoutModel",
            "_view_count": null,
            "_view_module": "@jupyter-widgets/base",
            "_view_module_version": "1.2.0",
            "_view_name": "LayoutView",
            "align_content": null,
            "align_items": null,
            "align_self": null,
            "border": null,
            "bottom": null,
            "display": null,
            "flex": null,
            "flex_flow": null,
            "grid_area": null,
            "grid_auto_columns": null,
            "grid_auto_flow": null,
            "grid_auto_rows": null,
            "grid_column": null,
            "grid_gap": null,
            "grid_row": null,
            "grid_template_areas": null,
            "grid_template_columns": null,
            "grid_template_rows": null,
            "height": null,
            "justify_content": null,
            "justify_items": null,
            "left": null,
            "margin": null,
            "max_height": null,
            "max_width": null,
            "min_height": null,
            "min_width": null,
            "object_fit": null,
            "object_position": null,
            "order": null,
            "overflow": null,
            "overflow_x": null,
            "overflow_y": null,
            "padding": null,
            "right": null,
            "top": null,
            "visibility": null,
            "width": null
          }
        },
        "d1f57afc329e426c9b5994b7c1d9c3bc": {
          "model_module": "@jupyter-widgets/base",
          "model_name": "LayoutModel",
          "model_module_version": "1.2.0",
          "state": {
            "_model_module": "@jupyter-widgets/base",
            "_model_module_version": "1.2.0",
            "_model_name": "LayoutModel",
            "_view_count": null,
            "_view_module": "@jupyter-widgets/base",
            "_view_module_version": "1.2.0",
            "_view_name": "LayoutView",
            "align_content": null,
            "align_items": null,
            "align_self": null,
            "border": null,
            "bottom": null,
            "display": null,
            "flex": null,
            "flex_flow": null,
            "grid_area": null,
            "grid_auto_columns": null,
            "grid_auto_flow": null,
            "grid_auto_rows": null,
            "grid_column": null,
            "grid_gap": null,
            "grid_row": null,
            "grid_template_areas": null,
            "grid_template_columns": null,
            "grid_template_rows": null,
            "height": null,
            "justify_content": null,
            "justify_items": null,
            "left": null,
            "margin": null,
            "max_height": null,
            "max_width": null,
            "min_height": null,
            "min_width": null,
            "object_fit": null,
            "object_position": null,
            "order": null,
            "overflow": null,
            "overflow_x": null,
            "overflow_y": null,
            "padding": null,
            "right": null,
            "top": null,
            "visibility": null,
            "width": null
          }
        },
        "4d62dc082ded408a9569449fc3070a97": {
          "model_module": "@jupyter-widgets/controls",
          "model_name": "DescriptionStyleModel",
          "model_module_version": "1.5.0",
          "state": {
            "_model_module": "@jupyter-widgets/controls",
            "_model_module_version": "1.5.0",
            "_model_name": "DescriptionStyleModel",
            "_view_count": null,
            "_view_module": "@jupyter-widgets/base",
            "_view_module_version": "1.2.0",
            "_view_name": "StyleView",
            "description_width": ""
          }
        },
        "908c6a660c104edfaa82a92e011f8095": {
          "model_module": "@jupyter-widgets/base",
          "model_name": "LayoutModel",
          "model_module_version": "1.2.0",
          "state": {
            "_model_module": "@jupyter-widgets/base",
            "_model_module_version": "1.2.0",
            "_model_name": "LayoutModel",
            "_view_count": null,
            "_view_module": "@jupyter-widgets/base",
            "_view_module_version": "1.2.0",
            "_view_name": "LayoutView",
            "align_content": null,
            "align_items": null,
            "align_self": null,
            "border": null,
            "bottom": null,
            "display": null,
            "flex": null,
            "flex_flow": null,
            "grid_area": null,
            "grid_auto_columns": null,
            "grid_auto_flow": null,
            "grid_auto_rows": null,
            "grid_column": null,
            "grid_gap": null,
            "grid_row": null,
            "grid_template_areas": null,
            "grid_template_columns": null,
            "grid_template_rows": null,
            "height": null,
            "justify_content": null,
            "justify_items": null,
            "left": null,
            "margin": null,
            "max_height": null,
            "max_width": null,
            "min_height": null,
            "min_width": null,
            "object_fit": null,
            "object_position": null,
            "order": null,
            "overflow": null,
            "overflow_x": null,
            "overflow_y": null,
            "padding": null,
            "right": null,
            "top": null,
            "visibility": null,
            "width": null
          }
        },
        "5b69cc2650554fdb872d680af95ca053": {
          "model_module": "@jupyter-widgets/controls",
          "model_name": "ProgressStyleModel",
          "model_module_version": "1.5.0",
          "state": {
            "_model_module": "@jupyter-widgets/controls",
            "_model_module_version": "1.5.0",
            "_model_name": "ProgressStyleModel",
            "_view_count": null,
            "_view_module": "@jupyter-widgets/base",
            "_view_module_version": "1.2.0",
            "_view_name": "StyleView",
            "bar_color": null,
            "description_width": ""
          }
        },
        "1bdb9693dcad4e93b15b8d1e0775bcf3": {
          "model_module": "@jupyter-widgets/base",
          "model_name": "LayoutModel",
          "model_module_version": "1.2.0",
          "state": {
            "_model_module": "@jupyter-widgets/base",
            "_model_module_version": "1.2.0",
            "_model_name": "LayoutModel",
            "_view_count": null,
            "_view_module": "@jupyter-widgets/base",
            "_view_module_version": "1.2.0",
            "_view_name": "LayoutView",
            "align_content": null,
            "align_items": null,
            "align_self": null,
            "border": null,
            "bottom": null,
            "display": null,
            "flex": null,
            "flex_flow": null,
            "grid_area": null,
            "grid_auto_columns": null,
            "grid_auto_flow": null,
            "grid_auto_rows": null,
            "grid_column": null,
            "grid_gap": null,
            "grid_row": null,
            "grid_template_areas": null,
            "grid_template_columns": null,
            "grid_template_rows": null,
            "height": null,
            "justify_content": null,
            "justify_items": null,
            "left": null,
            "margin": null,
            "max_height": null,
            "max_width": null,
            "min_height": null,
            "min_width": null,
            "object_fit": null,
            "object_position": null,
            "order": null,
            "overflow": null,
            "overflow_x": null,
            "overflow_y": null,
            "padding": null,
            "right": null,
            "top": null,
            "visibility": null,
            "width": null
          }
        },
        "08cded9e6ba64314add8b5eaaaf34d0f": {
          "model_module": "@jupyter-widgets/controls",
          "model_name": "DescriptionStyleModel",
          "model_module_version": "1.5.0",
          "state": {
            "_model_module": "@jupyter-widgets/controls",
            "_model_module_version": "1.5.0",
            "_model_name": "DescriptionStyleModel",
            "_view_count": null,
            "_view_module": "@jupyter-widgets/base",
            "_view_module_version": "1.2.0",
            "_view_name": "StyleView",
            "description_width": ""
          }
        }
      }
    }
  },
  "nbformat": 4,
  "nbformat_minor": 0
}