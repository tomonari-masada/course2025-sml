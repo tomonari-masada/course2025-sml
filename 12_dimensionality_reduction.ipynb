{
  "nbformat": 4,
  "nbformat_minor": 0,
  "metadata": {
    "colab": {
      "provenance": [],
      "mount_file_id": "1mXRIw8dsd9B3RRcjRXx1clnOWQPy-cB1",
      "authorship_tag": "ABX9TyPHguu6KrMygZ0tYqWSO2IT",
      "include_colab_link": true
    },
    "kernelspec": {
      "name": "python3",
      "display_name": "Python 3"
    },
    "language_info": {
      "name": "python"
    }
  },
  "cells": [
    {
      "cell_type": "markdown",
      "metadata": {
        "id": "view-in-github",
        "colab_type": "text"
      },
      "source": [
        "<a href=\"https://colab.research.google.com/github/tomonari-masada/course2025-sml/blob/main/12_dimensionality_reduction.ipynb\" target=\"_parent\"><img src=\"https://colab.research.google.com/assets/colab-badge.svg\" alt=\"Open In Colab\"/></a>"
      ]
    },
    {
      "cell_type": "markdown",
      "metadata": {
        "id": "JvpZvwPRb9o7"
      },
      "source": [
        "# Dimensionality reduction （次元圧縮, 次元削減）\n",
        "* 下記Webページを参考にした。\n",
        "  * https://scikit-learn.org/stable/auto_examples/decomposition/plot_faces_decomposition.html"
      ]
    },
    {
      "cell_type": "code",
      "metadata": {
        "id": "sUWkKiFEb6Yz"
      },
      "source": [
        "import time\n",
        "import numpy as np\n",
        "import pandas as pd\n",
        "import matplotlib.pyplot as plt\n",
        "import plotly.express as px\n",
        "from sklearn.decomposition import PCA, NMF, FastICA\n",
        "\n",
        "%config InlineBackend.figure_format = 'retina'"
      ],
      "execution_count": null,
      "outputs": []
    },
    {
      "cell_type": "markdown",
      "metadata": {
        "id": "aO9Q9ckq-7wt"
      },
      "source": [
        "## データの取得\n",
        "* Sign MNISTというデータセットを使う。(The American Sign Language letter database)\n",
        "  * https://www.kaggle.com/datamunge/sign-language-mnist\n",
        "* あらかじめダウンロードしておき、Google Driveに保存しておく。\n",
        "  * Canvas LMSの「プランナークラスのデータファイル」にも置いてあります。"
      ]
    },
    {
      "cell_type": "code",
      "metadata": {
        "id": "BG5A7NE9cO25"
      },
      "source": [
        "train = pd.read_csv('/content/drive/MyDrive/data/sign_mnist_train.csv')\n",
        "test = pd.read_csv('/content/drive/MyDrive/data/sign_mnist_test.csv')"
      ],
      "execution_count": null,
      "outputs": []
    },
    {
      "cell_type": "code",
      "source": [
        "train.head()"
      ],
      "metadata": {
        "id": "sE15eDWaEObd"
      },
      "execution_count": null,
      "outputs": []
    },
    {
      "cell_type": "code",
      "metadata": {
        "id": "MsTDBvlWfSY5"
      },
      "source": [
        "plt.imshow(train.loc[0,'pixel1':].values.reshape(28,28), cmap=plt.cm.gray);"
      ],
      "execution_count": null,
      "outputs": []
    },
    {
      "cell_type": "code",
      "metadata": {
        "id": "ogZNLsfQcicb"
      },
      "source": [
        "# Setting the label and the feature columns\n",
        "y_train = train.loc[:,'label'].values\n",
        "X_train = train.loc[:,'pixel1':].values\n",
        "y_test = test.loc[:,'label'].values\n",
        "X_test = test.loc[:,'pixel1':].values"
      ],
      "execution_count": null,
      "outputs": []
    },
    {
      "cell_type": "code",
      "metadata": {
        "id": "CbpfQTLia7fC"
      },
      "source": [
        "print(X_train.shape, X_test.shape)"
      ],
      "execution_count": null,
      "outputs": []
    },
    {
      "cell_type": "markdown",
      "metadata": {
        "id": "1FeUffaX_Keb"
      },
      "source": [
        "* 25種類あるらしい。"
      ]
    },
    {
      "cell_type": "code",
      "metadata": {
        "id": "gsjxbGFoY7RD"
      },
      "source": [
        "for label, count in zip(*np.unique(y_train, return_counts=True)):\n",
        "  print(label, count)"
      ],
      "execution_count": null,
      "outputs": []
    },
    {
      "cell_type": "markdown",
      "metadata": {
        "id": "MJtPmnyy_Nxw"
      },
      "source": [
        "## データの前処理\n",
        "* scikit-learnのドキュメンテーションにあるやり方に倣った。\n",
        "  * まずtraining set全体での各ピクセルの平均値を引き算し・・・\n",
        "  * 次に各画像内でのローカルな平均値を引き算する。"
      ]
    },
    {
      "cell_type": "code",
      "metadata": {
        "id": "yb6T9gw7dze3"
      },
      "source": [
        "# global centering\n",
        "train_mean = X_train.mean(axis=0)\n",
        "X_train_centered = X_train - train_mean\n",
        "X_test_centered = X_test - train_mean"
      ],
      "execution_count": null,
      "outputs": []
    },
    {
      "cell_type": "code",
      "metadata": {
        "id": "IlyIw2JtcB3B"
      },
      "source": [
        "# local centering\n",
        "X_train_centered = X_train_centered - X_train_centered.mean(axis=1).reshape(-1, 1)\n",
        "X_test_centered = X_test_centered - X_test_centered.mean(axis=1).reshape(-1, 1)"
      ],
      "execution_count": null,
      "outputs": []
    },
    {
      "cell_type": "code",
      "metadata": {
        "id": "fCmlv8N6czPZ"
      },
      "source": [
        "plt.imshow(X_train_centered[0,:].reshape(28,28), cmap=plt.cm.gray);"
      ],
      "execution_count": null,
      "outputs": []
    },
    {
      "cell_type": "markdown",
      "metadata": {
        "id": "SqCLjEQ2_lM9"
      },
      "source": [
        "## PCAによる可視化\n",
        "* 第3主成分までを取り、データ集合を可視化。"
      ]
    },
    {
      "cell_type": "code",
      "source": [
        "start = time.time()\n",
        "pca = PCA(n_components=3)\n",
        "components = pca.fit_transform(X_train_centered)\n",
        "print(f\"Duration: {time.time() - start} seconds\")"
      ],
      "metadata": {
        "id": "WdcY1M-jUGnt"
      },
      "execution_count": null,
      "outputs": []
    },
    {
      "cell_type": "code",
      "metadata": {
        "id": "rDNbiFwmd3y_"
      },
      "source": [
        "total_var = pca.explained_variance_ratio_.sum() * 100\n",
        "\n",
        "fig = px.scatter_3d(\n",
        "    components, x=0, y=1, z=2, color=y_train,\n",
        "    title=f'Total Explained Variance: {total_var:.2f}%',\n",
        "    labels={'0': 'PC 1', '1': 'PC 2', '2': 'PC 3'},\n",
        "    width=800, height=800,\n",
        "    opacity=0.7,\n",
        "    template='plotly_dark',\n",
        "    color_continuous_scale=px.colors.sequential.Plasma,\n",
        "    range_color=[0, 25],\n",
        ")\n",
        "fig.update_layout(\n",
        "    margin=dict(l=40, r=40, b=40, t=40),\n",
        "    width=900,\n",
        "    height=500\n",
        ")\n",
        "fig.show();"
      ],
      "execution_count": null,
      "outputs": []
    },
    {
      "cell_type": "markdown",
      "metadata": {
        "id": "IEkXJO2__3oy"
      },
      "source": [
        "## 次元圧縮手法によるデータの再構成(reconstruction)\n",
        "* 様々な次元圧縮手法を使って元のデータを低次元空間にマッピングする。\n",
        "* そしてそれを元の空間へ戻すことでreconstructする。\n",
        "  * reconstructionは、次元圧縮手法ごとに異なる。\n",
        "  * inverse_transformというメソッドを呼べばよい。"
      ]
    },
    {
      "cell_type": "markdown",
      "metadata": {
        "id": "-Mvtk_5UAeVJ"
      },
      "source": [
        "* 画像を複数描画する関数を定義しておく。"
      ]
    },
    {
      "cell_type": "code",
      "metadata": {
        "id": "Et8a2Z3ZgzjG"
      },
      "source": [
        "def plot_gallery(title, images, n_col=3, n_row=3, cmap=plt.cm.gray):\n",
        "  plt.figure(figsize=(2. * n_col, 2.26 * n_row))\n",
        "  plt.suptitle(title, size=16)\n",
        "  for i, comp in enumerate(images):\n",
        "    plt.subplot(n_row, n_col, i + 1)\n",
        "    vmax = max(comp.max(), -comp.min())\n",
        "    plt.imshow(\n",
        "        comp.reshape(28, 28),\n",
        "        cmap=cmap,\n",
        "        interpolation=\"nearest\",\n",
        "        vmin=-vmax,\n",
        "        vmax=vmax,\n",
        "    )\n",
        "    plt.xticks([])\n",
        "    plt.yticks([])\n",
        "  plt.subplots_adjust(0.01, 0.05, 0.99, 0.93, 0.04, 0.);"
      ],
      "execution_count": null,
      "outputs": []
    },
    {
      "cell_type": "code",
      "metadata": {
        "id": "oSpYTj00g_Xw"
      },
      "source": [
        "plot_gallery(\"sign mnist\", X_train_centered[:9], n_row=3, n_col=3)"
      ],
      "execution_count": null,
      "outputs": []
    },
    {
      "cell_type": "markdown",
      "metadata": {
        "id": "1q-WMht1AlRJ"
      },
      "source": [
        "### PCAの主成分を可視化する\n",
        "* PCAでは、principal componentsの線型結合によって元の画像を再構成することになる。\n"
      ]
    },
    {
      "cell_type": "code",
      "metadata": {
        "id": "wNSfiyq8iIw8"
      },
      "source": [
        "n_components = 30\n",
        "estimator = PCA(n_components=n_components)\n",
        "estimator.fit(X_train_centered)"
      ],
      "execution_count": null,
      "outputs": []
    },
    {
      "cell_type": "code",
      "metadata": {
        "id": "ewKa2evafRoC"
      },
      "source": [
        "n_col = 6"
      ],
      "execution_count": null,
      "outputs": []
    },
    {
      "cell_type": "code",
      "metadata": {
        "id": "bSGI3__qd1Au"
      },
      "source": [
        "n_row = n_components // n_col + (n_components % n_col != 0)\n",
        "plot_gallery(\n",
        "    f\"{n_components} PCA components\",\n",
        "    estimator.components_[:n_components],\n",
        "    n_row=n_row,\n",
        "    n_col=n_col,\n",
        ")"
      ],
      "execution_count": null,
      "outputs": []
    },
    {
      "cell_type": "markdown",
      "metadata": {
        "id": "KBgr8flOA9z7"
      },
      "source": [
        "* 8枚ほどの画像について、オリジナルと再構成を比較してみる。"
      ]
    },
    {
      "cell_type": "code",
      "metadata": {
        "id": "08FfqWbefwlm"
      },
      "source": [
        "n_recon_images = 8"
      ],
      "execution_count": null,
      "outputs": []
    },
    {
      "cell_type": "code",
      "metadata": {
        "id": "TMbjELlUd9cf"
      },
      "source": [
        "indices = np.random.randint(X_test.shape[0], size=n_recon_images)\n",
        "plot_gallery(\"original test data\", X_test_centered[indices], n_row=1, n_col=n_recon_images)\n",
        "X_test_recon = estimator.inverse_transform(estimator.transform(X_test_centered))\n",
        "plot_gallery(\"reconstructed test data\", X_test_recon[indices], n_row=1, n_col=n_recon_images)"
      ],
      "execution_count": null,
      "outputs": []
    },
    {
      "cell_type": "markdown",
      "metadata": {
        "id": "jdeHAOY8BB7v"
      },
      "source": [
        "# 課題20250705\n",
        "* PCA以外の次元圧縮手法について、同様に、元の画像の再構成を実施してみよう。\n",
        "  * https://scikit-learn.org/stable/auto_examples/decomposition/plot_faces_decomposition.html\n",
        "* その際、圧縮後の次元を増減させると、再構成された画像がどのように変化するか、調べよう。\n",
        "* 注意: NMFで次元圧縮するときは、中心化する前の元の画像データを使いましょう。\n",
        "  * NMFは、非負データを対象とした次元圧縮手法だからです。"
      ]
    },
    {
      "cell_type": "code",
      "metadata": {
        "id": "vqThCaEVenFw"
      },
      "source": [],
      "execution_count": null,
      "outputs": []
    }
  ]
}