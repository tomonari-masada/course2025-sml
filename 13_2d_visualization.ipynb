{
  "nbformat": 4,
  "nbformat_minor": 0,
  "metadata": {
    "colab": {
      "provenance": [],
      "authorship_tag": "ABX9TyP1eX++GjwtBbMu/OQlGAbS",
      "include_colab_link": true
    },
    "kernelspec": {
      "name": "python3",
      "display_name": "Python 3"
    },
    "language_info": {
      "name": "python"
    }
  },
  "cells": [
    {
      "cell_type": "markdown",
      "metadata": {
        "id": "view-in-github",
        "colab_type": "text"
      },
      "source": [
        "<a href=\"https://colab.research.google.com/github/tomonari-masada/course2025-sml/blob/main/13_2d_visualization.ipynb\" target=\"_parent\"><img src=\"https://colab.research.google.com/assets/colab-badge.svg\" alt=\"Open In Colab\"/></a>"
      ]
    },
    {
      "cell_type": "markdown",
      "source": [
        "# 2次元の可視化"
      ],
      "metadata": {
        "id": "xvErBMKFN03i"
      }
    },
    {
      "cell_type": "markdown",
      "source": [
        "* 2次元の可視化は、もとは高次元のデータセットの次元を、2次元へと圧縮することである。\n",
        "  * 前回の演習をふまえると・・・\n",
        "  * 2次元のような非常に低次元の空間への次元削減は・・・\n",
        "  * それほど自明なデータ処理ではなさそうだが・・・"
      ],
      "metadata": {
        "id": "MTpJTExAerm5"
      }
    },
    {
      "cell_type": "markdown",
      "source": [
        "## 準備"
      ],
      "metadata": {
        "id": "w7BtTTuqRr9A"
      }
    },
    {
      "cell_type": "code",
      "source": [
        "import numpy as np\n",
        "import matplotlib.pyplot as plt\n",
        "from sklearn import datasets\n",
        "from sklearn.decomposition import PCA\n",
        "from sklearn.manifold import TSNE, MDS\n",
        "from umap import UMAP\n",
        "\n",
        "np.random.seed(42)\n",
        "\n",
        "%config InlineBackend.figure_format = \"retina\""
      ],
      "metadata": {
        "id": "v29TjqUEIkiq"
      },
      "execution_count": null,
      "outputs": []
    },
    {
      "cell_type": "markdown",
      "source": [
        "## データセット\n",
        "* 今回はdigits dataを題材として使う。\n",
        "  * 8 x 8ピクセルの手書き数字画像"
      ],
      "metadata": {
        "id": "Z_dV3oGiRuIE"
      }
    },
    {
      "cell_type": "code",
      "source": [
        "digits = datasets.load_digits()"
      ],
      "metadata": {
        "id": "xlBb9misJRae"
      },
      "execution_count": null,
      "outputs": []
    },
    {
      "cell_type": "code",
      "source": [
        "digits.data.shape"
      ],
      "metadata": {
        "id": "mS6sJB0hKMMd"
      },
      "execution_count": null,
      "outputs": []
    },
    {
      "cell_type": "code",
      "source": [
        "digits.target.shape"
      ],
      "metadata": {
        "id": "o68iM0xDKitu"
      },
      "execution_count": null,
      "outputs": []
    },
    {
      "cell_type": "code",
      "source": [
        "digits.data[0]"
      ],
      "metadata": {
        "id": "Ehzo0eAW5QDE"
      },
      "execution_count": null,
      "outputs": []
    },
    {
      "cell_type": "code",
      "source": [
        "type(digits.data[0, 0])"
      ],
      "metadata": {
        "id": "yinQDmK45a_2"
      },
      "execution_count": null,
      "outputs": []
    },
    {
      "cell_type": "code",
      "source": [
        "plt.imshow(digits.data[0].reshape(8, -1), cmap=\"gray\");"
      ],
      "metadata": {
        "id": "wIif399BOBwf"
      },
      "execution_count": null,
      "outputs": []
    },
    {
      "cell_type": "code",
      "source": [
        "digits.target"
      ],
      "metadata": {
        "id": "0D4spdndZDSQ"
      },
      "execution_count": null,
      "outputs": []
    },
    {
      "cell_type": "markdown",
      "source": [
        "## ノイズ画像の追加"
      ],
      "metadata": {
        "id": "iSXzRs-Eg4e0"
      }
    },
    {
      "cell_type": "markdown",
      "source": [
        "* 各ピクセルの数値の範囲を調べる。"
      ],
      "metadata": {
        "id": "Y8nhttKFv67I"
      }
    },
    {
      "cell_type": "code",
      "source": [
        "print(digits.data.min(), digits.data.max())"
      ],
      "metadata": {
        "id": "H4EO1DCcguDo"
      },
      "execution_count": null,
      "outputs": []
    },
    {
      "cell_type": "markdown",
      "source": [
        "* 同じ値の範囲で、ランダムな画像を作ってみる。"
      ],
      "metadata": {
        "id": "prd_VWOqwAKl"
      }
    },
    {
      "cell_type": "code",
      "source": [
        "noisy_image = np.random.randint(0, high=17, size=64) * 1.0\n",
        "print(noisy_image)"
      ],
      "metadata": {
        "id": "d0hQbpWuhIRZ"
      },
      "execution_count": null,
      "outputs": []
    },
    {
      "cell_type": "code",
      "source": [
        "plt.imshow(noisy_image.reshape(8, -1), cmap=\"gray\");"
      ],
      "metadata": {
        "id": "Hq9mq6bEg3gd"
      },
      "execution_count": null,
      "outputs": []
    },
    {
      "cell_type": "markdown",
      "source": [
        "* ノイズ画像を、「0」の画像と同じ枚数、新たなインスタンスとして追加する。"
      ],
      "metadata": {
        "id": "sH6JFSwZv2BG"
      }
    },
    {
      "cell_type": "code",
      "source": [
        "n_noisy_images = (digits.target == 0).sum()\n",
        "noisy_images = np.random.randint(0, high=17, size=(n_noisy_images, 64))\n",
        "noisy_images.shape"
      ],
      "metadata": {
        "id": "4yLSmQ02hQpA"
      },
      "execution_count": null,
      "outputs": []
    },
    {
      "cell_type": "code",
      "source": [
        "digits.data = np.concatenate([digits.data, noisy_images])"
      ],
      "metadata": {
        "id": "dnWB24tShZv_"
      },
      "execution_count": null,
      "outputs": []
    },
    {
      "cell_type": "markdown",
      "source": [
        "* ノイズ画像のラベルは全て「10」にする。"
      ],
      "metadata": {
        "id": "LrFDlq8xwJeG"
      }
    },
    {
      "cell_type": "code",
      "source": [
        "digits.target = np.concatenate([digits.target, np.full(n_noisy_images, 10)])"
      ],
      "metadata": {
        "id": "OGBnnwFQhvLb"
      },
      "execution_count": null,
      "outputs": []
    },
    {
      "cell_type": "code",
      "source": [
        "digits.data.shape"
      ],
      "metadata": {
        "id": "a7ieSsM2wiy3"
      },
      "execution_count": null,
      "outputs": []
    },
    {
      "cell_type": "code",
      "source": [
        "digits.target.shape"
      ],
      "metadata": {
        "id": "V1h14T-Qwk7m"
      },
      "execution_count": null,
      "outputs": []
    },
    {
      "cell_type": "markdown",
      "source": [
        "* 元のままのデータセットを別の変数名で読み込んでおく。"
      ],
      "metadata": {
        "id": "JD17Rpz1_jud"
      }
    },
    {
      "cell_type": "code",
      "source": [
        "original_digits = datasets.load_digits()"
      ],
      "metadata": {
        "id": "CDNBPiNT_n6v"
      },
      "execution_count": null,
      "outputs": []
    },
    {
      "cell_type": "markdown",
      "source": [
        "## ヘルパ関数\n",
        "* 下記も参照。\n",
        " * https://scikit-learn.org/stable/auto_examples/manifold/plot_lle_digits.html#sphx-glr-auto-examples-manifold-plot-lle-digits-py"
      ],
      "metadata": {
        "id": "KRKbsETQYubJ"
      }
    },
    {
      "cell_type": "code",
      "source": [
        "def scatter_plot(embedding, target, cmap=plt.get_cmap(\"tab20\"), ax=None):\n",
        "  for color in np.unique(target):\n",
        "    indices = (target == color)\n",
        "    if ax is None:\n",
        "      plt.scatter(embedding[indices, 0], embedding[indices, 1], label=color, color=cmap(color), s=3, alpha=0.5)\n",
        "    else:\n",
        "      ax.scatter(embedding[indices, 0], embedding[indices, 1], label=color, color=cmap(color), s=3, alpha=0.5)"
      ],
      "metadata": {
        "id": "aabgw_zpTq6D"
      },
      "execution_count": null,
      "outputs": []
    },
    {
      "cell_type": "markdown",
      "source": [
        "## PCAによる可視化"
      ],
      "metadata": {
        "id": "BoWD5YbGgOE3"
      }
    },
    {
      "cell_type": "code",
      "source": [
        "pca = PCA(10, random_state=42)\n",
        "embedding = pca.fit_transform(digits.data)"
      ],
      "metadata": {
        "id": "IoUdG3KngH-0"
      },
      "execution_count": null,
      "outputs": []
    },
    {
      "cell_type": "code",
      "source": [
        "fig, ax = plt.subplots(figsize=(6, 5))\n",
        "scatter_plot(embedding, digits.target)\n",
        "plt.setp(ax, xticks=[], yticks=[])\n",
        "plt.legend();"
      ],
      "metadata": {
        "id": "bnBiUOCvgPhw"
      },
      "execution_count": null,
      "outputs": []
    },
    {
      "cell_type": "markdown",
      "source": [
        "* ノイズ画像なしの場合"
      ],
      "metadata": {
        "id": "y5Ddi83oz5Lm"
      }
    },
    {
      "cell_type": "code",
      "source": [
        "pca = PCA(10, random_state=42)\n",
        "embedding = pca.fit_transform(original_digits.data)"
      ],
      "metadata": {
        "id": "BKFK8Hk4zU-y"
      },
      "execution_count": null,
      "outputs": []
    },
    {
      "cell_type": "code",
      "source": [
        "fig, ax = plt.subplots(figsize=(6, 5))\n",
        "scatter_plot(embedding, original_digits.target)\n",
        "plt.setp(ax, xticks=[], yticks=[])\n",
        "plt.legend();"
      ],
      "metadata": {
        "id": "VQXCLUWdzasR"
      },
      "execution_count": null,
      "outputs": []
    },
    {
      "cell_type": "markdown",
      "source": [
        "## UMAPによる可視化\n",
        "* https://umap-learn.readthedocs.io/en/latest/parameters.html\n"
      ],
      "metadata": {
        "id": "Xpi8XyJ1QSNp"
      }
    },
    {
      "cell_type": "markdown",
      "source": [
        "* どんな可視化ツールにも、調整できるパラメータがある。\n",
        "* UMAPの場合は・・・\n",
        "  * パラメータ`n_neighbors`を変えると可視化がどう変わるか。\n",
        "  * パラメータ`min_dist`を変えると可視化がどう変わるか。\n"
      ],
      "metadata": {
        "id": "1LNTIcfBeBW1"
      }
    },
    {
      "cell_type": "markdown",
      "source": [
        "### デフォルトの設定で可視化"
      ],
      "metadata": {
        "id": "7GrKDzJwRwx6"
      }
    },
    {
      "cell_type": "code",
      "source": [
        "%%time\n",
        "reducer = UMAP(n_jobs=1, random_state=42)\n",
        "embedding = reducer.fit_transform(digits.data)"
      ],
      "metadata": {
        "id": "3-nlThHEJ-fZ"
      },
      "execution_count": null,
      "outputs": []
    },
    {
      "cell_type": "code",
      "source": [
        "fig, ax = plt.subplots(figsize=(6, 5))\n",
        "scatter_plot(embedding, digits.target)\n",
        "plt.setp(ax, xticks=[], yticks=[])\n",
        "plt.legend();"
      ],
      "metadata": {
        "id": "nSyI4Vt9SsLc"
      },
      "execution_count": null,
      "outputs": []
    },
    {
      "cell_type": "markdown",
      "source": [
        "* ノイズ画像なしの場合"
      ],
      "metadata": {
        "id": "uUBAk-fvkcLQ"
      }
    },
    {
      "cell_type": "code",
      "source": [
        "reducer = UMAP(n_jobs=1, random_state=42)\n",
        "embedding = reducer.fit_transform(original_digits.data)"
      ],
      "metadata": {
        "id": "_qvHkGgJk8dx"
      },
      "execution_count": null,
      "outputs": []
    },
    {
      "cell_type": "code",
      "source": [
        "fig, ax = plt.subplots(figsize=(6, 5))\n",
        "scatter_plot(embedding, original_digits.target)\n",
        "plt.setp(ax, xticks=[], yticks=[])\n",
        "plt.legend();"
      ],
      "metadata": {
        "id": "XlLLIrs_kbqq"
      },
      "execution_count": null,
      "outputs": []
    },
    {
      "cell_type": "markdown",
      "source": [
        "### `n_neighbors`を変更する\n",
        "* デフォルトの値は15"
      ],
      "metadata": {
        "id": "eOaugMoOQ-Wx"
      }
    },
    {
      "cell_type": "code",
      "source": [
        "def draw_umap(digits, n_neighbors=15, min_dist=0.1, title=\"\"):\n",
        "  reducer = UMAP(n_neighbors=n_neighbors, min_dist=min_dist, n_jobs=1, random_state=42)\n",
        "  u = reducer.fit_transform(digits.data)\n",
        "  fig = plt.figure()\n",
        "  ax = fig.add_subplot(111)\n",
        "  scatter_plot(u, digits.target, ax=ax)\n",
        "  plt.setp(ax, xticks=[], yticks=[])\n",
        "  plt.legend()\n",
        "  plt.title(title, fontsize=15);"
      ],
      "metadata": {
        "id": "tt0K2vXeJB6F"
      },
      "execution_count": null,
      "outputs": []
    },
    {
      "cell_type": "code",
      "source": [
        "for n in (5, 10, 20, 50, 100, 200):\n",
        "  title = f\"n_neighbors = {n}\"\n",
        "  print(title)\n",
        "  draw_umap(digits, n_neighbors=n, title=title)"
      ],
      "metadata": {
        "id": "cefaX3U2OnCE"
      },
      "execution_count": null,
      "outputs": []
    },
    {
      "cell_type": "markdown",
      "source": [
        "### `min_dist`を変更する\n",
        "* デフォルトの値は0.1"
      ],
      "metadata": {
        "id": "gXnC81G8RFoQ"
      }
    },
    {
      "cell_type": "code",
      "source": [
        "for d in (0.0, 0.1, 0.25, 0.5, 0.8, 0.99):\n",
        "  title = f\"min_dist = {d}\"\n",
        "  print(title)\n",
        "  draw_umap(digits, min_dist=d, title=title)"
      ],
      "metadata": {
        "id": "nrBF_eNZOqE1"
      },
      "execution_count": null,
      "outputs": []
    },
    {
      "cell_type": "markdown",
      "source": [
        "## t-SNEによる可視化\n",
        "* https://scikit-learn.org/stable/auto_examples/manifold/plot_t_sne_perplexity.html\n",
        " * パラメータ`perplexity`を変えると可視化がどう変わるか。"
      ],
      "metadata": {
        "id": "QGsguxmVXjmq"
      }
    },
    {
      "cell_type": "markdown",
      "source": [
        "### デフォルトの設定で可視化"
      ],
      "metadata": {
        "id": "CG3DPaVAYdu5"
      }
    },
    {
      "cell_type": "code",
      "source": [
        "%%time\n",
        "reducer = TSNE(random_state=42)\n",
        "embedding = reducer.fit_transform(digits.data)"
      ],
      "metadata": {
        "id": "rZ49DDBgWIbW"
      },
      "execution_count": null,
      "outputs": []
    },
    {
      "cell_type": "code",
      "source": [
        "fig, ax = plt.subplots(figsize=(6, 5))\n",
        "scatter_plot(embedding, digits.target)\n",
        "plt.setp(ax, xticks=[], yticks=[])\n",
        "plt.legend();"
      ],
      "metadata": {
        "id": "DOIk0EThWr2k"
      },
      "execution_count": null,
      "outputs": []
    },
    {
      "cell_type": "markdown",
      "source": [
        "* ノイズ画像なしの場合"
      ],
      "metadata": {
        "id": "60aAOT8t32lk"
      }
    },
    {
      "cell_type": "code",
      "source": [
        "%%time\n",
        "reducer = TSNE(random_state=42)\n",
        "embedding = reducer.fit_transform(original_digits.data)"
      ],
      "metadata": {
        "id": "d-OQMhf10a1V"
      },
      "execution_count": null,
      "outputs": []
    },
    {
      "cell_type": "code",
      "source": [
        "fig, ax = plt.subplots(figsize=(6, 5))\n",
        "scatter_plot(embedding, original_digits.target)\n",
        "plt.setp(ax, xticks=[], yticks=[])\n",
        "plt.legend();"
      ],
      "metadata": {
        "id": "x-NT9xHE0hn0"
      },
      "execution_count": null,
      "outputs": []
    },
    {
      "cell_type": "markdown",
      "source": [
        "### `perplexity`を変更する"
      ],
      "metadata": {
        "id": "_wb0S5dIYk7L"
      }
    },
    {
      "cell_type": "code",
      "source": [
        "def draw_tsne(digits, perplexity=30.0, title=\"\"):\n",
        "  reducer = TSNE(perplexity=perplexity, random_state=42)\n",
        "  u = reducer.fit_transform(digits.data)\n",
        "  fig = plt.figure()\n",
        "  ax = fig.add_subplot(111)\n",
        "  scatter_plot(u, digits.target, ax=ax)\n",
        "  plt.setp(ax, xticks=[], yticks=[])\n",
        "  plt.legend()\n",
        "  plt.title(title, fontsize=15);"
      ],
      "metadata": {
        "id": "R5hfhA1zXESd"
      },
      "execution_count": null,
      "outputs": []
    },
    {
      "cell_type": "code",
      "source": [
        "for p in (2, 5, 10, 20, 50, 100):\n",
        "  title = f\"perplexity = {p}\"\n",
        "  print(title)\n",
        "  draw_tsne(digits, perplexity=p, title=title)"
      ],
      "metadata": {
        "id": "6E6X8q2fXW3y"
      },
      "execution_count": null,
      "outputs": []
    },
    {
      "cell_type": "markdown",
      "source": [
        "## MDSによる可視化\n",
        "* https://scikit-learn.org/stable/modules/manifold.html#multidimensional-scaling"
      ],
      "metadata": {
        "id": "3vWEd_EVTpRu"
      }
    },
    {
      "cell_type": "markdown",
      "source": [
        "### デフォルトの設定で可視化"
      ],
      "metadata": {
        "id": "IhMSql9_T6I5"
      }
    },
    {
      "cell_type": "markdown",
      "source": [
        "* やや時間がかかる（3分間弱）。"
      ],
      "metadata": {
        "id": "aiVUOn2y1kPQ"
      }
    },
    {
      "cell_type": "code",
      "source": [
        "%%time\n",
        "reducer = MDS(normalized_stress=\"auto\", random_state=42)\n",
        "embedding = reducer.fit_transform(digits.data)"
      ],
      "metadata": {
        "id": "Mi4FKVCST46w"
      },
      "execution_count": null,
      "outputs": []
    },
    {
      "cell_type": "code",
      "source": [
        "fig, ax = plt.subplots(figsize=(6, 5))\n",
        "scatter_plot(embedding, digits.target)\n",
        "plt.setp(ax, xticks=[], yticks=[])\n",
        "plt.legend();"
      ],
      "metadata": {
        "id": "tvsGEhODUPs9"
      },
      "execution_count": null,
      "outputs": []
    },
    {
      "cell_type": "markdown",
      "source": [
        "* ノイズ画像なしの場合"
      ],
      "metadata": {
        "id": "xaQsbJGG33xU"
      }
    },
    {
      "cell_type": "code",
      "source": [
        "%%time\n",
        "reducer = MDS(normalized_stress=\"auto\", random_state=42)\n",
        "embedding = reducer.fit_transform(original_digits.data)"
      ],
      "metadata": {
        "id": "FVt7fvGD1dg3"
      },
      "execution_count": null,
      "outputs": []
    },
    {
      "cell_type": "code",
      "source": [
        "fig, ax = plt.subplots(figsize=(6, 5))\n",
        "scatter_plot(embedding, original_digits.target)\n",
        "plt.setp(ax, xticks=[], yticks=[])\n",
        "plt.legend();"
      ],
      "metadata": {
        "id": "qThJrYZP1eCf"
      },
      "execution_count": null,
      "outputs": []
    },
    {
      "cell_type": "markdown",
      "source": [
        "* epsを変更してみたが、今回のデータセットでは、ほとんど変化が見られなかった。"
      ],
      "metadata": {
        "id": "jRIXioRBk3Ax"
      }
    },
    {
      "cell_type": "markdown",
      "source": [
        "## 考察\n",
        "* それぞれの可視化ツールを、デフォルトの設定で使っても構わないか？\n",
        "* 2次元の可視化において、遠いものは遠いと言っていいか？\n",
        "* 2次元の可視化において、近いものは近いと言っていいか？\n",
        "* digits dataに関して結論して構わないことは、何か？ 例えば・・・\n",
        "  * 「2」と「7」の位置関係について、何か言えるか？\n",
        "  * 「4」と「6」の位置関係について、何か言えるか？\n",
        "* 新たに追加したノイズ画像は**明らかに異質な画像群**だが・・・\n",
        "  * 各手法は、そのように可視化してくれていたか？"
      ],
      "metadata": {
        "id": "ByPCzltoQtE9"
      }
    },
    {
      "cell_type": "markdown",
      "source": [
        "## 助言\n",
        "* 初めに結論ありきの、\"自分が見たいものだけを見る可視化\"にならないよう、注意しよう。\n",
        "* 複数の可視化手法を比較するようにしよう。"
      ],
      "metadata": {
        "id": "WXaApv1laqlh"
      }
    },
    {
      "cell_type": "markdown",
      "source": [
        "* 参考\n",
        "  * https://distill.pub/2016/misread-tsne/\n",
        "  * https://simplystatistics.org/posts/2024-12-23-biologists-stop-including-umap-plots-in-your-papers/\n",
        "  * https://www.arxiv.org/abs/2506.08725"
      ],
      "metadata": {
        "id": "uCNx8yyjNo68"
      }
    },
    {
      "cell_type": "markdown",
      "source": [
        "# プランナー課題１３\n",
        "* 追加するnoisyな画像の作り方を、以下のように変更する。\n",
        "  * 元のデータセットから、ランダムに2枚の画像を選ぶ。\n",
        "  * 選ばれた一方の画像の上半分と、他方の画像の下半分をくっつける。\n",
        "* このような画像を追加した後に・・・\n",
        "* 上と同じように、可視化手法のパラメータを変更すると、可視化結果がどのように変わるか、観察しよう。"
      ],
      "metadata": {
        "id": "gnRyXJNfMLwK"
      }
    },
    {
      "cell_type": "markdown",
      "source": [
        "### ランダムに選んだ2枚の画像の上下を結合する関数"
      ],
      "metadata": {
        "id": "_JZmuYb16PPX"
      }
    },
    {
      "cell_type": "code",
      "source": [
        "def generate_noisy_image():\n",
        "  while True:\n",
        "    idx1, idx2 = np.random.randint(len(digits.target), size=2)\n",
        "    # 違う数字の画像であることの確認\n",
        "    if digits.target[idx1] != digits.target[idx2]:\n",
        "      break\n",
        "  noisy_image = np.zeros(64)\n",
        "  noisy_image[:32] = digits.data[idx1, :32]\n",
        "  noisy_image[32:] = digits.data[idx2, 32:]\n",
        "  return noisy_image"
      ],
      "metadata": {
        "id": "Ci50Sw6J51TQ"
      },
      "execution_count": null,
      "outputs": []
    },
    {
      "cell_type": "markdown",
      "source": [
        "* どんな画像が出来上がるかを確認する。"
      ],
      "metadata": {
        "id": "_XN3rQXg6ayg"
      }
    },
    {
      "cell_type": "code",
      "source": [
        "noisy_image = generate_noisy_image()\n",
        "plt.imshow(noisy_image.reshape(8, -1), cmap=\"gray\");"
      ],
      "metadata": {
        "id": "ZNJdZ78Q530f"
      },
      "execution_count": null,
      "outputs": []
    },
    {
      "cell_type": "markdown",
      "source": [
        "* 元の画像群と区別しにくそうであることが分かる。"
      ],
      "metadata": {
        "id": "lzS7DbsSFrZf"
      }
    },
    {
      "cell_type": "markdown",
      "source": [
        "* このようなノイズ画像を追加したデータセットを作る。"
      ],
      "metadata": {
        "id": "fEpgIoeSF_dj"
      }
    },
    {
      "cell_type": "code",
      "source": [
        "digits = datasets.load_digits()"
      ],
      "metadata": {
        "id": "9SYf0M-G6lgw"
      },
      "execution_count": null,
      "outputs": []
    },
    {
      "cell_type": "code",
      "source": [
        "n_noisy_images = (digits.target == 0).sum()\n",
        "noisy_images = np.zeros((n_noisy_images, 64))\n",
        "for i in range(n_noisy_images):\n",
        "  noisy_images[i, :] = generate_noisy_image()"
      ],
      "metadata": {
        "id": "xvpXfIL1rpaT"
      },
      "execution_count": null,
      "outputs": []
    },
    {
      "cell_type": "code",
      "source": [
        "digits.data = np.concatenate([digits.data, noisy_images])"
      ],
      "metadata": {
        "id": "sC_1uPfa6wR3"
      },
      "execution_count": null,
      "outputs": []
    },
    {
      "cell_type": "code",
      "source": [
        "digits.target = np.concatenate([digits.target, np.full(n_noisy_images, 10)])"
      ],
      "metadata": {
        "id": "TvgFBaRN65IC"
      },
      "execution_count": null,
      "outputs": []
    },
    {
      "cell_type": "code",
      "source": [
        "digits.data.shape"
      ],
      "metadata": {
        "id": "AMQzzrZP7ApQ"
      },
      "execution_count": null,
      "outputs": []
    },
    {
      "cell_type": "code",
      "source": [
        "digits.target.shape"
      ],
      "metadata": {
        "id": "732t7-9e7CNp"
      },
      "execution_count": null,
      "outputs": []
    },
    {
      "cell_type": "markdown",
      "source": [
        "* 元のままのデータセットを別の変数名で読み込んでおく。"
      ],
      "metadata": {
        "id": "W3ksDmnD6l8f"
      }
    },
    {
      "cell_type": "code",
      "source": [
        "original_digits = datasets.load_digits()"
      ],
      "metadata": {
        "id": "RZj5LgcnFBrx"
      },
      "execution_count": null,
      "outputs": []
    },
    {
      "cell_type": "markdown",
      "source": [
        "## PCAによる可視化"
      ],
      "metadata": {
        "id": "P1z2GhP6DcOs"
      }
    },
    {
      "cell_type": "code",
      "source": [
        "pca = PCA(10, random_state=42)\n",
        "embedding = pca.fit_transform(digits.data)"
      ],
      "metadata": {
        "id": "osjbbVDZ7Dwn"
      },
      "execution_count": null,
      "outputs": []
    },
    {
      "cell_type": "code",
      "source": [
        "fig, ax = plt.subplots(figsize=(6, 5))\n",
        "scatter_plot(embedding, digits.target)\n",
        "plt.setp(ax, xticks=[], yticks=[])\n",
        "plt.legend();"
      ],
      "metadata": {
        "id": "deIzng7J7Usd"
      },
      "execution_count": null,
      "outputs": []
    },
    {
      "cell_type": "code",
      "source": [
        "pca = PCA(10, random_state=42)\n",
        "embedding = pca.fit_transform(original_digits.data)"
      ],
      "metadata": {
        "id": "eg_gVieeFGe5"
      },
      "execution_count": null,
      "outputs": []
    },
    {
      "cell_type": "code",
      "source": [
        "fig, ax = plt.subplots(figsize=(6, 5))\n",
        "scatter_plot(embedding, original_digits.target)\n",
        "plt.setp(ax, xticks=[], yticks=[])\n",
        "plt.legend();"
      ],
      "metadata": {
        "id": "WkzCHwtF7U8e"
      },
      "execution_count": null,
      "outputs": []
    },
    {
      "cell_type": "markdown",
      "source": [
        "* 以下、いろいろ可視化してみよう。\n",
        "  * 追加する画像の数を増やすとどうなるだろうか。"
      ],
      "metadata": {
        "id": "oV6C-fAzDfU7"
      }
    },
    {
      "cell_type": "code",
      "source": [],
      "metadata": {
        "id": "VbrHtbD47lb2"
      },
      "execution_count": null,
      "outputs": []
    }
  ]
}