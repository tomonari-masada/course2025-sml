{
  "nbformat": 4,
  "nbformat_minor": 0,
  "metadata": {
    "kernelspec": {
      "display_name": "Python 3",
      "language": "python",
      "name": "python3"
    },
    "language_info": {
      "codemirror_mode": {
        "name": "ipython",
        "version": 3
      },
      "file_extension": ".py",
      "mimetype": "text/x-python",
      "name": "python",
      "nbconvert_exporter": "python",
      "pygments_lexer": "ipython3",
      "version": "3.7.6"
    },
    "colab": {
      "provenance": [],
      "include_colab_link": true
    }
  },
  "cells": [
    {
      "cell_type": "markdown",
      "metadata": {
        "id": "view-in-github",
        "colab_type": "text"
      },
      "source": [
        "<a href=\"https://colab.research.google.com/github/tomonari-masada/course2025-sml/blob/main/04_nearest_neighbors_1.ipynb\" target=\"_parent\"><img src=\"https://colab.research.google.com/assets/colab-badge.svg\" alt=\"Open In Colab\"/></a>"
      ]
    },
    {
      "cell_type": "markdown",
      "metadata": {
        "id": "mu4ZhS4kEkFp"
      },
      "source": [
        "# k近傍法 (k-nearest neighbors)\n",
        "* 直感的には、「どんな友人と付き合っているかを見ればその人が分かる」という考え方にもとづく手法。\n",
        "  * 近いものは同類、という考え方。\n",
        "* 分類にも回帰にも使える。\n",
        "  * 分類＝未知のデータ点について、それが属するクラスを予測\n",
        "  * 回帰＝未知のデータ点について、対応する特定の数値を予測\n",
        "* 新しいデータ点について、対応するターゲット（クラス or 数値）を予測する場合・・・\n",
        "* k近傍法では、そのデータ点のk個の近傍のターゲットを元に予測する。\n",
        "  * クラスを予測する（分類）の場合、予測は多数決で行われる。\n",
        "  * 数値を予測する（回帰）の場合、近傍のターゲットの値の平均を予測値とする。（平均値以外もありうる。）"
      ]
    },
    {
      "cell_type": "markdown",
      "source": [
        "**注：今回と次回は、機械学習の授業でもあるのですが、ほぼほぼ、Pythonのコーディングの練習です。**"
      ],
      "metadata": {
        "id": "0Q6gOl4amiCc"
      }
    },
    {
      "cell_type": "markdown",
      "metadata": {
        "id": "o6bysduxJFWw"
      },
      "source": [
        "## 準備"
      ]
    },
    {
      "cell_type": "markdown",
      "metadata": {
        "id": "tCgsFz61JH-o"
      },
      "source": [
        "### インポート"
      ]
    },
    {
      "cell_type": "code",
      "metadata": {
        "id": "L_Lmt3WUxc1T"
      },
      "source": [
        "import numpy as np\n",
        "import pandas as pd\n",
        "import matplotlib.pyplot as plt\n",
        "\n",
        "%config InlineBackend.figure_format = 'retina'"
      ],
      "execution_count": null,
      "outputs": []
    },
    {
      "cell_type": "markdown",
      "metadata": {
        "id": "kzMp2waiJNca"
      },
      "source": [
        "### データファイル\n"
      ]
    },
    {
      "cell_type": "markdown",
      "metadata": {
        "id": "bg1mpu9nI9DE"
      },
      "source": [
        "* `lifesat_extended.csv`というファイルをColabにアップロードする。"
      ]
    },
    {
      "cell_type": "code",
      "metadata": {
        "id": "d-CK-HssI8Uh"
      },
      "source": [
        "from google.colab import files\n",
        "files.upload()"
      ],
      "execution_count": null,
      "outputs": []
    },
    {
      "cell_type": "markdown",
      "source": [
        "* 国名をインデックスにしてデータフレームを作る。"
      ],
      "metadata": {
        "id": "oGXwZcDtSy5c"
      }
    },
    {
      "cell_type": "code",
      "metadata": {
        "id": "-Yyt9P1Cxc1W"
      },
      "source": [
        "df = pd.read_csv(\"lifesat_extended.csv\", index_col=\"Country\")\n",
        "df"
      ],
      "execution_count": null,
      "outputs": []
    },
    {
      "cell_type": "markdown",
      "source": [
        "## 今回の問題設定\n",
        "* この授業では、以下の二つを、予測のための特徴量(feature)として使うことにする。\n",
        "  * 国民一人当たりのGDP (GDP per capita)\n",
        "  * 雇用率 (employment rate)\n",
        "* 予測するターゲットは、生活満足度 (life satisfaction) とする。\n",
        "* そして、最終的に予測したいのは、日本の生活満足度だとする。\n",
        "  * もちろん、すでに答えは分かっているが、最後まで正解は伏せておく。\n"
      ],
      "metadata": {
        "id": "ngKvh--iXKne"
      }
    },
    {
      "cell_type": "markdown",
      "source": [
        "* 言い換えれば、日本のデータが、テストデータとなる。\n",
        "  * テストデータ＝最終的に手法の性能を評価するために使うデータ集合。\n",
        "* テストデータでの評価結果を見て、手法をチューニングしてはいけないです！\n",
        "  * 機械学習の基本中の基本。\n",
        "* そこで、日本を除外したデータフレームを作り、それを使う。\n",
        "  * 日本のデータは、最後の最後に、手法評価時に使うだけ。"
      ],
      "metadata": {
        "id": "6LvpZvegSztj"
      }
    },
    {
      "cell_type": "markdown",
      "source": [
        "* （ちょっとコメント）\n",
        "  * 普通は、テストデータは今回のように一つだけではなく、複数のインスタンスを用意する。\n",
        "  * 今回は、全体のデータ数が29個と少ないため、テストデータは一つだけにしている。"
      ],
      "metadata": {
        "id": "vn-A2ZbkUjvI"
      }
    },
    {
      "cell_type": "code",
      "source": [
        "df_train = df.drop(['Japan'])\n",
        "df_test = df.loc[['Japan']]"
      ],
      "metadata": {
        "id": "QjrZlwJeZ-4I"
      },
      "execution_count": null,
      "outputs": []
    },
    {
      "cell_type": "markdown",
      "source": [
        "* 訓練データのさまざまな情報を確認する。"
      ],
      "metadata": {
        "id": "QgdCFUTXZt-T"
      }
    },
    {
      "cell_type": "code",
      "source": [
        "df_train"
      ],
      "metadata": {
        "id": "hJgEbIJ5ZNGR"
      },
      "execution_count": null,
      "outputs": []
    },
    {
      "cell_type": "code",
      "source": [
        "df_train.describe()"
      ],
      "metadata": {
        "id": "lZlRacNyTXq8"
      },
      "execution_count": null,
      "outputs": []
    },
    {
      "cell_type": "code",
      "source": [
        "df_train.info()"
      ],
      "metadata": {
        "id": "IBbvLR8ETayu"
      },
      "execution_count": null,
      "outputs": []
    },
    {
      "cell_type": "markdown",
      "source": [
        "* テストデータは、最後の最後に、チューニング済みの手法を評価する時まで、使わない。"
      ],
      "metadata": {
        "id": "0gHPCi91NT9e"
      }
    },
    {
      "cell_type": "markdown",
      "metadata": {
        "id": "upvYkkh_KDlS"
      },
      "source": [
        "* GDP per capitaやemployment rateを使って生活満足度を予測するという問題設定が、そもそも妥当な問題設定かどうか、確認する。\n",
        " * 特徴量とターゲットとのあいだに、ある程度の関連性がないと、解けない問題を解こうとしていることになる。"
      ]
    },
    {
      "cell_type": "code",
      "metadata": {
        "id": "o4pTlEYxxc1f"
      },
      "source": [
        "df_train.plot(kind='scatter', x='GDP per capita', y='Life satisfaction');"
      ],
      "execution_count": null,
      "outputs": []
    },
    {
      "cell_type": "code",
      "source": [
        "df_train.plot(kind='scatter', x='Employment rate', y='Life satisfaction');"
      ],
      "metadata": {
        "id": "kmnabrwPxica"
      },
      "execution_count": null,
      "outputs": []
    },
    {
      "cell_type": "markdown",
      "source": [
        "* まあ大丈夫そう。"
      ],
      "metadata": {
        "id": "1AGCNe6S1H76"
      }
    },
    {
      "cell_type": "markdown",
      "metadata": {
        "id": "pVwf-GRQN03L"
      },
      "source": [
        "### 特徴量とターゲットの用意"
      ]
    },
    {
      "cell_type": "markdown",
      "metadata": {
        "id": "lHiE2oavNqjs"
      },
      "source": [
        "* 特徴量である(一人当たりのGDP, 雇用率)と、ターゲットである生活満足度とを、別々に保存する。"
      ]
    },
    {
      "cell_type": "code",
      "metadata": {
        "id": "2sNIm_oTMi0v"
      },
      "source": [
        "X = df_train[['GDP per capita', 'Employment rate']]\n",
        "y = df_train['Life satisfaction']"
      ],
      "execution_count": null,
      "outputs": []
    },
    {
      "cell_type": "code",
      "source": [
        "X"
      ],
      "metadata": {
        "id": "dHhbo9eIx3QA"
      },
      "execution_count": null,
      "outputs": []
    },
    {
      "cell_type": "code",
      "source": [
        "y"
      ],
      "metadata": {
        "id": "906cUm6BOONK"
      },
      "execution_count": null,
      "outputs": []
    },
    {
      "cell_type": "markdown",
      "metadata": {
        "id": "Pv2ZyEWkKdVf"
      },
      "source": [
        "## k近傍法の実装（k=1の場合）"
      ]
    },
    {
      "cell_type": "markdown",
      "source": [
        "* 以下では、例題として、韓国の生活満足度の予測を考える。\n",
        "  * そして、テストデータ上での生活満足度の予測をうまくいかせるために・・・\n",
        "  * k近傍法をどのように使えばよいか、チューニングしていく。"
      ],
      "metadata": {
        "id": "SBS-wASVTWfH"
      }
    },
    {
      "cell_type": "markdown",
      "source": [
        "* 言い換えれば、韓国のデータが、検証データとなる。\n",
        "  * 検証データも、普通は、複数インスタンスを用意する。"
      ],
      "metadata": {
        "id": "sATxWNc91SB7"
      }
    },
    {
      "cell_type": "markdown",
      "metadata": {
        "id": "y2czJo-NOBWT"
      },
      "source": [
        "### k近傍法の実装の仕方\n",
        "* k=1に設定してk近傍法を使うとはどういうことか？\n",
        "  1. 韓国に最も近い国を求める。\n",
        "  2. 韓国に最も近い国の生活満足度を、韓国の生活満足度の予測値とする。"
      ]
    },
    {
      "cell_type": "markdown",
      "source": [
        "* 韓国に最も近い国を、どうやって選べばいいだろうか？"
      ],
      "metadata": {
        "id": "Vc1eOz7PTdET"
      }
    },
    {
      "cell_type": "code",
      "metadata": {
        "id": "u2FCQCcCNHXM"
      },
      "source": [
        "X.loc[['Korea']]"
      ],
      "execution_count": null,
      "outputs": []
    },
    {
      "cell_type": "markdown",
      "metadata": {
        "id": "FBK7T_BRPSW_"
      },
      "source": [
        "* なお、以下のようにすれば、インデックス、つまり国名を枚挙できる。"
      ]
    },
    {
      "cell_type": "code",
      "metadata": {
        "id": "0cvMhZqXPM4X"
      },
      "source": [
        "for country in X.index:\n",
        "  print(country)"
      ],
      "execution_count": null,
      "outputs": []
    },
    {
      "cell_type": "markdown",
      "metadata": {
        "id": "3DmGBd8QRB09"
      },
      "source": [
        "* 以下のようにすれば、各国の特徴量をNumpyの配列として枚挙できる。"
      ]
    },
    {
      "cell_type": "code",
      "metadata": {
        "id": "06Pg2WshRGT7"
      },
      "source": [
        "for country in X.index:\n",
        "  print(X.loc[country].values)"
      ],
      "execution_count": null,
      "outputs": []
    },
    {
      "cell_type": "markdown",
      "source": [
        "* 以下、まずは簡単のため、雇用率はしばらく使わないことにし・・・\n",
        "* 一人当たりのGDPだけを各国の特徴量として、生活満足度の予測を行うコードを書くことにする。"
      ],
      "metadata": {
        "id": "P3YASbwmAE8n"
      }
    },
    {
      "cell_type": "markdown",
      "metadata": {
        "id": "YD_dx8JyOL-s"
      },
      "source": [
        "### 演習問題1\n",
        "* 一人当たりのGDPが、韓国に最も近い国を求めてみよう。"
      ]
    },
    {
      "cell_type": "code",
      "metadata": {
        "id": "ZCOzivS2NjCa"
      },
      "source": [],
      "execution_count": null,
      "outputs": []
    },
    {
      "cell_type": "markdown",
      "metadata": {
        "id": "uo6zKQu-Qdpe"
      },
      "source": [
        "### 演習問題2\n",
        "* 上で求めた国の生活満足度を、韓国の生活満足度の予測値としたとき、予測誤差はいくらか。"
      ]
    },
    {
      "cell_type": "code",
      "metadata": {
        "id": "DulsnyugQcNe"
      },
      "source": [],
      "execution_count": null,
      "outputs": []
    },
    {
      "cell_type": "markdown",
      "metadata": {
        "id": "K4YmbhR2O5Ox"
      },
      "source": [
        "## k近傍法の実装 （kの値が任意の場合）"
      ]
    },
    {
      "cell_type": "markdown",
      "source": [
        "* kの値が2以上の場合のk近傍法を実装する。\n",
        "* そして、kの値がいくらのときに最も予測性能が良くなるかを調べることで・・・\n",
        "* kの値をチューニングする。"
      ],
      "metadata": {
        "id": "kJ-bvRE2Uikv"
      }
    },
    {
      "cell_type": "markdown",
      "metadata": {
        "id": "eUxcbESySVeD"
      },
      "source": [
        "### 演習問題3\n",
        "* 全ての国について、一人当たりのGDPを使って計算される韓国との距離を求めよう。"
      ]
    },
    {
      "cell_type": "code",
      "metadata": {
        "id": "Zoj2kgnaSq62"
      },
      "source": [],
      "execution_count": null,
      "outputs": []
    },
    {
      "cell_type": "markdown",
      "metadata": {
        "id": "uj38fHOiObSp"
      },
      "source": [
        "### 演習問題4\n",
        "* 韓国の一人当たりのGDPに近い順に、他の全ての国を並べ替えて表示させよう。"
      ]
    },
    {
      "cell_type": "code",
      "metadata": {
        "id": "-mm5cZiSOwci"
      },
      "source": [],
      "execution_count": null,
      "outputs": []
    },
    {
      "cell_type": "markdown",
      "metadata": {
        "id": "hLgu1q5YPg4o"
      },
      "source": [
        "### 演習問題5\n",
        "* 変数kに近傍の個数が代入されている。韓国のk個の近傍の国名を、韓国に近い順に表示させよう。"
      ]
    },
    {
      "cell_type": "code",
      "metadata": {
        "id": "suZEBNaDO7n8"
      },
      "source": [
        "k = 5\n",
        "# ここに続きを書く"
      ],
      "execution_count": null,
      "outputs": []
    },
    {
      "cell_type": "markdown",
      "metadata": {
        "id": "b89AK_rnQJFg"
      },
      "source": [
        "### 演習問題6\n",
        "* 上で求めたk個の国について、それらの国の生活満足度の*平均値*を求めよう。"
      ]
    },
    {
      "cell_type": "code",
      "metadata": {
        "id": "kovx7LeBQa3i"
      },
      "source": [],
      "execution_count": null,
      "outputs": []
    },
    {
      "cell_type": "markdown",
      "metadata": {
        "id": "25Yto3BNQ0zR"
      },
      "source": [
        "### 演習問題7\n",
        "* 上の平均値を、韓国の生活満足度の予測値とした場合、予測誤差はいくらか。"
      ]
    },
    {
      "cell_type": "code",
      "metadata": {
        "id": "C9S-4DstQ7_q"
      },
      "source": [],
      "execution_count": null,
      "outputs": []
    },
    {
      "cell_type": "markdown",
      "source": [
        "# 課題"
      ],
      "metadata": {
        "id": "8pTStcSAPcfj"
      }
    },
    {
      "cell_type": "markdown",
      "source": [
        "## 問1\n",
        "* 変数kの値を、1から27まで変化させたとき、最も予測誤差が小さくなるのは、kの値がいくらのときか。"
      ],
      "metadata": {
        "id": "F8Y_ZoRjiJ0O"
      }
    },
    {
      "cell_type": "code",
      "source": [],
      "metadata": {
        "id": "VBZZgwhwidYM"
      },
      "execution_count": null,
      "outputs": []
    },
    {
      "cell_type": "markdown",
      "source": [
        "## 問2\n",
        "* 一人当たりのGDPを使うのではなく、雇用率を使って生活満足度の予測を行ったとき、最も予測誤差を小さくするkの値はいくらか。"
      ],
      "metadata": {
        "id": "yhv5UMaCirLK"
      }
    },
    {
      "cell_type": "code",
      "source": [],
      "metadata": {
        "id": "u1SGcgBVi5Vb"
      },
      "execution_count": null,
      "outputs": []
    }
  ]
}