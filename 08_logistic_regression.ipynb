{
  "nbformat": 4,
  "nbformat_minor": 0,
  "metadata": {
    "colab": {
      "provenance": [],
      "mount_file_id": "1UzJefMTp9kO00UjexZM37kCLESMzKGtV",
      "authorship_tag": "ABX9TyMQjISheZxj3FaGwbeJRDoz",
      "include_colab_link": true
    },
    "kernelspec": {
      "name": "python3",
      "display_name": "Python 3"
    }
  },
  "cells": [
    {
      "cell_type": "markdown",
      "metadata": {
        "id": "view-in-github",
        "colab_type": "text"
      },
      "source": [
        "<a href=\"https://colab.research.google.com/github/tomonari-masada/course2025-sml/blob/main/08_logistic_regression.ipynb\" target=\"_parent\"><img src=\"https://colab.research.google.com/assets/colab-badge.svg\" alt=\"Open In Colab\"/></a>"
      ]
    },
    {
      "cell_type": "markdown",
      "metadata": {
        "id": "l4aDsUHDiXoN"
      },
      "source": [
        "# ロジスティック回帰による糖尿病の予測\n",
        "\n",
        "* 有名なPima Indians Diabetes Databaseを使う（下リンク先）\n",
        "\n",
        "  * https://www.kaggle.com/uciml/pima-indians-diabetes-database"
      ]
    },
    {
      "cell_type": "markdown",
      "metadata": {
        "id": "1DAJX8yeO0fc"
      },
      "source": [
        "* ロジスティック回帰、そして、分類の評価については、下記も参照\n",
        "  * https://developers.google.com/machine-learning/crash-course/logistic-regression/\n",
        "  * https://developers.google.com/machine-learning/crash-course/classification/"
      ]
    },
    {
      "cell_type": "code",
      "metadata": {
        "id": "Pd20MbLdBfV5"
      },
      "source": [
        "import numpy as np\n",
        "import pandas as pd\n",
        "import matplotlib.pyplot as plt\n",
        "import seaborn as sns\n",
        "from sklearn.model_selection import train_test_split\n",
        "from sklearn.impute import SimpleImputer\n",
        "from sklearn.linear_model import LogisticRegression, LinearRegression\n",
        "from sklearn.neighbors import KNeighborsRegressor\n",
        "from sklearn.preprocessing import MinMaxScaler, StandardScaler\n",
        "from sklearn.metrics import roc_auc_score, RocCurveDisplay, PrecisionRecallDisplay\n",
        "from sklearn.model_selection import StratifiedKFold\n",
        "\n",
        "%config InlineBackend.figure_format = 'retina'"
      ],
      "execution_count": null,
      "outputs": []
    },
    {
      "cell_type": "markdown",
      "metadata": {
        "id": "eQ-egZTnizme"
      },
      "source": [
        "## データの読み込み"
      ]
    },
    {
      "cell_type": "code",
      "metadata": {
        "id": "h6Qv7hnyCEjh"
      },
      "source": [
        "diabetes = pd.read_csv('/content/drive/MyDrive/data/diabetes.csv')"
      ],
      "execution_count": null,
      "outputs": []
    },
    {
      "cell_type": "code",
      "metadata": {
        "id": "lGFzAgWbCvXT"
      },
      "source": [
        "diabetes.head()"
      ],
      "execution_count": null,
      "outputs": []
    },
    {
      "cell_type": "code",
      "metadata": {
        "id": "HgqyPRukDv80"
      },
      "source": [
        "y = diabetes['Outcome']\n",
        "X = diabetes.drop('Outcome', axis=1)"
      ],
      "execution_count": null,
      "outputs": []
    },
    {
      "cell_type": "markdown",
      "metadata": {
        "id": "E2uJY56bi3Ry"
      },
      "source": [
        "## 訓練データ、テストデータに分割"
      ]
    },
    {
      "cell_type": "markdown",
      "metadata": {
        "id": "J6TDDlZenD3_"
      },
      "source": [
        "**この分割は変えないようにしてください。**"
      ]
    },
    {
      "cell_type": "code",
      "metadata": {
        "id": "bLsoxn02B8CR"
      },
      "source": [
        "X_train, X_test, y_train, y_test = train_test_split(X, y, test_size=0.15, random_state=123)"
      ],
      "execution_count": null,
      "outputs": []
    },
    {
      "cell_type": "code",
      "source": [
        "X_train.describe()"
      ],
      "metadata": {
        "id": "9H67WqpemRIM"
      },
      "execution_count": null,
      "outputs": []
    },
    {
      "cell_type": "code",
      "source": [
        "X_train.hist(bins=50, figsize=(12,12));"
      ],
      "metadata": {
        "id": "bYWsGyglleZg"
      },
      "execution_count": null,
      "outputs": []
    },
    {
      "cell_type": "markdown",
      "metadata": {
        "id": "2BtszzrDdRrj"
      },
      "source": [
        "## ベースライン: デフォルト設定のロジスティック回帰\n",
        "* 交差検証も何もせずに、単にテストセット以外の部分で、モデルの学習を実行する。"
      ]
    },
    {
      "cell_type": "code",
      "metadata": {
        "id": "ac5I0ruIoSCY"
      },
      "source": [
        "baseline = LogisticRegression(random_state=123)\n",
        "baseline.fit(X_train, y_train)"
      ],
      "execution_count": null,
      "outputs": []
    },
    {
      "cell_type": "markdown",
      "metadata": {
        "id": "oNGfn66joV2t"
      },
      "source": [
        "* `max_iter`が小さいとの警告が出ているので、増やして学習しなおし。"
      ]
    },
    {
      "cell_type": "code",
      "metadata": {
        "id": "ZF1Yyo3NocBr"
      },
      "source": [
        "baseline = LogisticRegression(max_iter=1000, random_state=123)\n",
        "baseline.fit(X_train, y_train)"
      ],
      "execution_count": null,
      "outputs": []
    },
    {
      "cell_type": "markdown",
      "metadata": {
        "id": "zfHzwsAxoeiL"
      },
      "source": [
        "* 大丈夫だったので、テストデータでの最終評価値を得る。\n",
        " * scoreメソッドを使う。"
      ]
    },
    {
      "cell_type": "code",
      "metadata": {
        "id": "uEss5itsdJAU"
      },
      "source": [
        "print(f'test score: {baseline.score(X_test, y_test):.4f}')"
      ],
      "execution_count": null,
      "outputs": []
    },
    {
      "cell_type": "markdown",
      "metadata": {
        "id": "g93ND4YLrRUe"
      },
      "source": [
        "* Area under ROC curveも計算してみる。\n"
      ]
    },
    {
      "cell_type": "code",
      "metadata": {
        "id": "5ufvnV0qrQtI"
      },
      "source": [
        "y_test_pred_proba = baseline.predict_proba(X_test)\n",
        "print(f'ROC AUC: {roc_auc_score(y_test, y_test_pred_proba[:,1]):.4f}')"
      ],
      "execution_count": null,
      "outputs": []
    },
    {
      "cell_type": "markdown",
      "metadata": {
        "id": "U_r9hAHttZZq"
      },
      "source": [
        "* ROC curveを描いてみる。\n",
        " * https://scikit-learn.org/stable/auto_examples/model_selection/plot_roc.html#sphx-glr-auto-examples-model-selection-plot-roc-py"
      ]
    },
    {
      "cell_type": "code",
      "source": [
        "RocCurveDisplay.from_estimator(baseline, X_test, y_test, name=\"baseline\");"
      ],
      "metadata": {
        "id": "psU97ISyplNT"
      },
      "execution_count": null,
      "outputs": []
    },
    {
      "cell_type": "markdown",
      "source": [
        "* precision-recall curveを描いてみる。"
      ],
      "metadata": {
        "id": "z_1lTcuwqK3j"
      }
    },
    {
      "cell_type": "code",
      "source": [
        "PrecisionRecallDisplay.from_estimator(baseline, X_test, y_test, name=\"baseline\");"
      ],
      "metadata": {
        "id": "RZxZG73LqNRP"
      },
      "execution_count": null,
      "outputs": []
    },
    {
      "cell_type": "markdown",
      "metadata": {
        "id": "sMirEcP0dbaG"
      },
      "source": [
        "* これをベースラインとみなす。\n",
        "* これより良い結果を得るべく、試行錯誤する。\n",
        "* 試行錯誤した結果として辿り着いたモデルで、**最後に一回、テストデータ上での評価**を行う。"
      ]
    },
    {
      "cell_type": "markdown",
      "metadata": {
        "id": "M_NNgy-Fi839"
      },
      "source": [
        "---\n",
        "\n",
        "**以下、訓練データ部分を使って、交差検証によって良いモデルを探す。**\n",
        "\n",
        "---\n",
        "\n"
      ]
    },
    {
      "cell_type": "markdown",
      "metadata": {
        "id": "NFLJ24NNxi0r"
      },
      "source": [
        "* ロジスティック回帰についてscoreがどのように計算されているかの確認\n",
        " * thresholdが0.5である必要は、実は、ない。\n",
        " * thresholdを、交差検証で決定してもよい。"
      ]
    },
    {
      "cell_type": "markdown",
      "source": [
        "* `threshold = 0.5`とすれば、次のセルで求まる値と、上で求めたtest scoreは、一致する。"
      ],
      "metadata": {
        "id": "L2dZq3u3gz36"
      }
    },
    {
      "cell_type": "code",
      "metadata": {
        "id": "H7Yjaca4xK7C"
      },
      "source": [
        "threshold = 0.5\n",
        "n_correct_answers = ((baseline.predict_proba(X_test)[:,1] >= threshold) * 1 == y_test).sum()\n",
        "print(f'test score at the threshold of {threshold}: {n_correct_answers / len(y_test):.4f}')"
      ],
      "execution_count": null,
      "outputs": []
    },
    {
      "cell_type": "markdown",
      "metadata": {
        "id": "VtaI7G6IpDgG"
      },
      "source": [
        "## 交差検証しつつ試行錯誤"
      ]
    },
    {
      "cell_type": "markdown",
      "source": [
        "* 元々の訓練データのコピーを作っておく。"
      ],
      "metadata": {
        "id": "WPxt9gkh6Ria"
      }
    },
    {
      "cell_type": "code",
      "source": [
        "X_train_original = X_train.copy()"
      ],
      "metadata": {
        "id": "0ldn3E-o6JVx"
      },
      "execution_count": null,
      "outputs": []
    },
    {
      "cell_type": "markdown",
      "metadata": {
        "id": "Vx322yZLSkTV"
      },
      "source": [
        "### 交差検証の準備"
      ]
    },
    {
      "cell_type": "code",
      "metadata": {
        "id": "2s3rL94SDW3u"
      },
      "source": [
        "skf = StratifiedKFold(n_splits=10, shuffle=True, random_state=123)"
      ],
      "execution_count": null,
      "outputs": []
    },
    {
      "cell_type": "markdown",
      "metadata": {
        "id": "WK1tqw_yQ0JM"
      },
      "source": [
        "* 交差検証のためのヘルパ関数"
      ]
    },
    {
      "cell_type": "code",
      "metadata": {
        "id": "8BdbwVSqDEkH"
      },
      "source": [
        "def cv(skf, X_train, y_train, preprocess=None, max_iter=1000, **kwargs):\n",
        "\n",
        "  # キーワード引数として、モデルの設定を指定できるようにしてある。\n",
        "  for kwarg in kwargs:\n",
        "    print(f'{kwarg} = {kwargs[kwarg]}')\n",
        "\n",
        "  # 交差検証のループ\n",
        "  scores = []\n",
        "  for train_index, valid_index in skf.split(X_train, y_train):\n",
        "\n",
        "    cv_X_train = X_train.iloc[train_index]\n",
        "    cv_y_train = y_train.iloc[train_index]\n",
        "    cv_X_valid = X_train.iloc[valid_index]\n",
        "    cv_y_valid = y_train.iloc[valid_index]\n",
        "\n",
        "    # データの前処理\n",
        "    #   その都度、関数preprocessを定義してから、この関数cvを呼び出す。\n",
        "    if preprocess:\n",
        "      cv_X_train, cv_X_valid = preprocess(cv_X_train, cv_X_valid)\n",
        "\n",
        "    # ロジスティック回帰の学習\n",
        "    model = LogisticRegression(**kwargs, max_iter=max_iter)\n",
        "    model.fit(cv_X_train, cv_y_train)\n",
        "\n",
        "    # 検証データでの評価\n",
        "    score = model.score(cv_X_valid, cv_y_valid)\n",
        "    print(f'score: {score:.4f}')\n",
        "    scores.append(score)\n",
        "\n",
        "  mean_score = np.array(scores).mean()\n",
        "  print(f'mean score: {mean_score:.4f}')\n",
        "  return mean_score"
      ],
      "execution_count": null,
      "outputs": []
    },
    {
      "cell_type": "markdown",
      "metadata": {
        "id": "DyJOj1VjRCyb"
      },
      "source": [
        "### デフォルトの設定での評価\n",
        "* 交差検証で性能評価するとどうなるかを確認している。"
      ]
    },
    {
      "cell_type": "code",
      "metadata": {
        "id": "Ybu2HlflEcEH"
      },
      "source": [
        "cv(skf, X_train, y_train);"
      ],
      "execution_count": null,
      "outputs": []
    },
    {
      "cell_type": "markdown",
      "metadata": {
        "id": "QzTgn1PzSYl6"
      },
      "source": [
        "### BloodPressureへの対応"
      ]
    },
    {
      "cell_type": "markdown",
      "metadata": {
        "id": "4uGFAoBFp9Q9"
      },
      "source": [
        "* まず、属性「BloodPressure」について、ヒストグラムを描いてよくよく眺める。\n"
      ]
    },
    {
      "cell_type": "code",
      "metadata": {
        "id": "5cv90evwFhjJ"
      },
      "source": [
        "sns.histplot(X_train['BloodPressure']);"
      ],
      "execution_count": null,
      "outputs": []
    },
    {
      "cell_type": "markdown",
      "metadata": {
        "id": "RPEAoO9CqB9m"
      },
      "source": [
        "* 0という値がけっこうあるらしい。実は、これは欠測値。\n",
        "* そこで、中央値で置き換えることにする。"
      ]
    },
    {
      "cell_type": "code",
      "metadata": {
        "id": "ITc026D4JskX"
      },
      "source": [
        "X_train_copy = X_train.copy()\n",
        "\n",
        "feature = 'BloodPressure'\n",
        "imp = SimpleImputer(missing_values=0, strategy='median')\n",
        "X_train_copy[feature] = imp.fit_transform(X_train[[feature]])\n",
        "print(f'imputation fill value for {feature}: {imp.statistics_[0]}')\n",
        "\n",
        "sns.histplot(X_train_copy[feature]);"
      ],
      "execution_count": null,
      "outputs": []
    },
    {
      "cell_type": "markdown",
      "source": [
        "* 欠測箇所を中央値で埋める関数を定義しておく。\n",
        " * これは、交差検証を実行するときに使用する。"
      ],
      "metadata": {
        "id": "6hEFNNZAIMsW"
      }
    },
    {
      "cell_type": "code",
      "metadata": {
        "id": "oOk6Lf19EuXj"
      },
      "source": [
        "def preprocess(X_train, X_valid):\n",
        "  imp = SimpleImputer(missing_values=0, strategy='median')\n",
        "\n",
        "  X_train_copy, X_valid_copy = X_train.copy(), X_valid.copy()\n",
        "\n",
        "  feature = 'BloodPressure'\n",
        "  X_train_copy[feature] = imp.fit_transform(X_train[[feature]])\n",
        "  X_valid_copy[feature] = imp.transform(X_valid[[feature]])\n",
        "  print(f'  imputation fill value for {feature}: {imp.statistics_[0]}')\n",
        "\n",
        "  return X_train_copy, X_valid_copy"
      ],
      "execution_count": null,
      "outputs": []
    },
    {
      "cell_type": "markdown",
      "metadata": {
        "id": "C0G06qlLOPaH"
      },
      "source": [
        "* 交差検証で評価する。"
      ]
    },
    {
      "cell_type": "code",
      "source": [
        "cv(skf, X_train, y_train, preprocess=preprocess);"
      ],
      "metadata": {
        "id": "cuNtB5DCuRXZ"
      },
      "execution_count": null,
      "outputs": []
    },
    {
      "cell_type": "markdown",
      "metadata": {
        "id": "ngfAvLFOS23T"
      },
      "source": [
        "### BMIへの対応"
      ]
    },
    {
      "cell_type": "markdown",
      "metadata": {
        "id": "GpRXbEREqcrN"
      },
      "source": [
        "* 次に、training dataの「BMI」のヒストグラムを描いてみる\n"
      ]
    },
    {
      "cell_type": "code",
      "metadata": {
        "id": "wC-DcEmwMQDn"
      },
      "source": [
        "sns.histplot(X_train['BMI']);"
      ],
      "execution_count": null,
      "outputs": []
    },
    {
      "cell_type": "markdown",
      "metadata": {
        "id": "xAxC2NJcqfGb"
      },
      "source": [
        "* やはり欠測部分が0とされているようなので、先ほどと同様、中央値で埋める。\n"
      ]
    },
    {
      "cell_type": "code",
      "metadata": {
        "id": "LgKJFIc9pz7n"
      },
      "source": [
        "X_train_copy = X_train.copy()\n",
        "\n",
        "feature = 'BMI'\n",
        "imp = SimpleImputer(missing_values=0, strategy='median')\n",
        "X_train_copy[feature] = imp.fit_transform(X_train[[feature]])\n",
        "print(f'imputation fill value for {feature}: {imp.statistics_[0]}')\n",
        "\n",
        "sns.histplot(X_train_copy[feature]);"
      ],
      "execution_count": null,
      "outputs": []
    },
    {
      "cell_type": "markdown",
      "source": [
        "* 交差検証で評価する。\n",
        " * 欠測箇所を埋める関数を書き換える。"
      ],
      "metadata": {
        "id": "-FZBol9gs-gr"
      }
    },
    {
      "cell_type": "code",
      "metadata": {
        "id": "nLkcjQooEz0f"
      },
      "source": [
        "def preprocess(X_train, X_valid):\n",
        "  imp = SimpleImputer(missing_values=0, strategy='median')\n",
        "\n",
        "  X_train_copy, X_valid_copy = X_train.copy(), X_valid.copy()\n",
        "\n",
        "  for feature in ['BloodPressure', 'BMI']:\n",
        "    X_train_copy[feature] = imp.fit_transform(X_train[[feature]])\n",
        "    X_valid_copy[feature] = imp.transform(X_valid[[feature]])\n",
        "    print(f'  imputation fill value for {feature}: {imp.statistics_[0]}')\n",
        "\n",
        "  return X_train_copy, X_valid_copy"
      ],
      "execution_count": null,
      "outputs": []
    },
    {
      "cell_type": "code",
      "source": [
        "cv(skf, X_train, y_train, preprocess=preprocess);"
      ],
      "metadata": {
        "id": "nF69ebaPuhby"
      },
      "execution_count": null,
      "outputs": []
    },
    {
      "cell_type": "markdown",
      "metadata": {
        "id": "FRsaNT2iTWXr"
      },
      "source": [
        "### Glucoseへの対応"
      ]
    },
    {
      "cell_type": "code",
      "metadata": {
        "id": "XYkYQJSLTKo2"
      },
      "source": [
        "sns.histplot(X_train['Glucose']);"
      ],
      "execution_count": null,
      "outputs": []
    },
    {
      "cell_type": "code",
      "metadata": {
        "id": "NYbXN-p9TZ52"
      },
      "source": [
        "X_train_copy = X_train.copy()\n",
        "\n",
        "feature = 'Glucose'\n",
        "imp = SimpleImputer(missing_values=0, strategy='median')\n",
        "X_train_copy[feature] = imp.fit_transform(X_train[[feature]])\n",
        "print(f'imputation fill value for {feature}: {imp.statistics_[0]}')\n",
        "\n",
        "sns.histplot(X_train_copy[feature]);"
      ],
      "execution_count": null,
      "outputs": []
    },
    {
      "cell_type": "markdown",
      "source": [
        "* 欠測箇所を埋める関数を書き換える。"
      ],
      "metadata": {
        "id": "JDJrnAd3IYpZ"
      }
    },
    {
      "cell_type": "code",
      "metadata": {
        "id": "OA7TcLkgTprV"
      },
      "source": [
        "def preprocess(X_train, X_valid):\n",
        "  imp = SimpleImputer(missing_values=0, strategy='median')\n",
        "\n",
        "  X_train_copy, X_valid_copy = X_train.copy(), X_valid.copy()\n",
        "\n",
        "  for feature in ['BloodPressure', 'BMI', 'Glucose']:\n",
        "    X_train_copy[feature] = imp.fit_transform(X_train[[feature]])\n",
        "    X_valid_copy[feature] = imp.transform(X_valid[[feature]])\n",
        "    print(f'imputation fill value for {feature}: {imp.statistics_[0]}')\n",
        "\n",
        "  return X_train_copy, X_valid_copy"
      ],
      "execution_count": null,
      "outputs": []
    },
    {
      "cell_type": "code",
      "source": [
        "cv(skf, X_train, y_train, preprocess=preprocess);"
      ],
      "metadata": {
        "id": "ZmbAIB_pu2P-"
      },
      "execution_count": null,
      "outputs": []
    },
    {
      "cell_type": "markdown",
      "metadata": {
        "id": "lu5aGqJZ03Ox"
      },
      "source": [
        "* ここまでの交差検証でのベスト・スコアは0.7759。"
      ]
    },
    {
      "cell_type": "markdown",
      "metadata": {
        "id": "B7hDDVnNUATp"
      },
      "source": [
        "### SkinThicknessとInsulinへの対応"
      ]
    },
    {
      "cell_type": "code",
      "metadata": {
        "id": "kvegwCbRuBIS"
      },
      "source": [
        "sns.histplot(X_train['SkinThickness'], bins=50);"
      ],
      "execution_count": null,
      "outputs": []
    },
    {
      "cell_type": "code",
      "metadata": {
        "id": "L5ffQqerbRMc"
      },
      "source": [
        "sns.histplot(X_train['Insulin'], bins=50);"
      ],
      "execution_count": null,
      "outputs": []
    },
    {
      "cell_type": "code",
      "metadata": {
        "id": "AE7hom2eVWnR"
      },
      "source": [
        "(X_train['SkinThickness'] == 0).sum()"
      ],
      "execution_count": null,
      "outputs": []
    },
    {
      "cell_type": "code",
      "metadata": {
        "id": "7l5ISkugWXmc"
      },
      "source": [
        "(X_train['Insulin'] == 0).sum()"
      ],
      "execution_count": null,
      "outputs": []
    },
    {
      "cell_type": "markdown",
      "source": [
        "* 欠測値が多すぎるので、同じ一つの値で埋めると、問題あり。"
      ],
      "metadata": {
        "id": "3rXzoWZqvMMh"
      }
    },
    {
      "cell_type": "code",
      "metadata": {
        "id": "Mg87bdcVYCT1"
      },
      "source": [
        "((X_train['SkinThickness'] == 0) & (X_train['Insulin'] == 0)).sum()"
      ],
      "execution_count": null,
      "outputs": []
    },
    {
      "cell_type": "code",
      "metadata": {
        "id": "6Y8vGCUDWeLA"
      },
      "source": [
        "for i in X_train.index[X_train['SkinThickness'] == 0]:\n",
        "  if not i in X_train.index[X_train['Insulin'] == 0]:\n",
        "    print('No')"
      ],
      "execution_count": null,
      "outputs": []
    },
    {
      "cell_type": "markdown",
      "metadata": {
        "id": "ojghc1WgXQ4h"
      },
      "source": [
        "* SkinThicknessが0の個体は、必ずInsulinも0になっているらしい。\n",
        "\n",
        " * ただし、これは訓練データだけでこうなっているだけかもしれないので、この事実に依存して何かをすることはしない。"
      ]
    },
    {
      "cell_type": "markdown",
      "source": [
        "* 線形回帰でSkinThicknessとInsulinの欠測部分を埋める。\n",
        " * 欠測部分を同じ値で埋めたくないため。"
      ],
      "metadata": {
        "id": "ZP3qt7OLvtpe"
      }
    },
    {
      "cell_type": "markdown",
      "source": [
        "* まず、前に使った前処理の関数を別の名前で定義しておく。"
      ],
      "metadata": {
        "id": "D-WfoOg-HZDK"
      }
    },
    {
      "cell_type": "code",
      "source": [
        "def preprocess_0(X_train, X_valid):\n",
        "  imp = SimpleImputer(missing_values=0, strategy='median')\n",
        "\n",
        "  X_train_copy, X_valid_copy = X_train.copy(), X_valid.copy()\n",
        "\n",
        "  for feature in ['BloodPressure', 'BMI', 'Glucose']:\n",
        "    X_train_copy[feature] = imp.fit_transform(X_train[[feature]])\n",
        "    X_valid_copy[feature] = imp.transform(X_valid[[feature]])\n",
        "    print(f'imputation fill value for {feature}: {imp.statistics_[0]}')\n",
        "\n",
        "  return X_train_copy, X_valid_copy"
      ],
      "metadata": {
        "id": "IqtQVln6HPwG"
      },
      "execution_count": null,
      "outputs": []
    },
    {
      "cell_type": "markdown",
      "source": [
        "* そして、新たに前処理の関数を定義する。\n",
        " * この関数の中で、前に使った前処理を定義した関数を呼び出すことにする。"
      ],
      "metadata": {
        "id": "0yBIFE-qHhxy"
      }
    },
    {
      "cell_type": "code",
      "source": [
        "def preprocess(X_train, X_valid):\n",
        "\n",
        "  # 前に使った前処理を定義した関数を呼び出す\n",
        "  X_train_copy, X_valid_copy = preprocess_0(X_train, X_valid)\n",
        "\n",
        "  # 欠測値を埋めるための回帰において特徴量として使う列\n",
        "  columns = X_train.columns.drop('SkinThickness').drop('Insulin')\n",
        "\n",
        "  # 線形回帰で欠測箇所を埋める\n",
        "  for feature in ['SkinThickness', 'Insulin']:\n",
        "    reg = LinearRegression()\n",
        "    indices = (X_train[feature] != 0)\n",
        "    reg.fit(X_train.loc[indices, columns], X_train.loc[indices, feature])\n",
        "    X_train_copy.loc[~ indices, feature] = reg.predict(X_train.loc[~ indices, columns])\n",
        "\n",
        "    indices = (X_valid[feature] != 0)\n",
        "    X_valid_copy.loc[~ indices, feature] = reg.predict(X_valid.loc[~ indices, columns])\n",
        "\n",
        "  return X_train_copy, X_valid_copy"
      ],
      "metadata": {
        "id": "EwmgkboY1Qdx"
      },
      "execution_count": null,
      "outputs": []
    },
    {
      "cell_type": "code",
      "metadata": {
        "id": "o1zdunK4YtZM"
      },
      "source": [
        "cv(skf, X_train, y_train, preprocess=preprocess);"
      ],
      "execution_count": null,
      "outputs": []
    },
    {
      "cell_type": "markdown",
      "metadata": {
        "id": "v2JBRGrbb8-B"
      },
      "source": [
        "* 悪くなったので不採用。"
      ]
    },
    {
      "cell_type": "markdown",
      "source": [
        "* 次は、k-NNを使って欠測値を埋める。"
      ],
      "metadata": {
        "id": "KL5yoXsZ3wmg"
      }
    },
    {
      "cell_type": "code",
      "source": [
        "# kは、関数の外で値を指定する。\n",
        "\n",
        "def preprocess(X_train, X_valid):\n",
        "  # 前に行った前処理を定義した関数を呼び出す\n",
        "  X_train_copy, X_valid_copy = preprocess_0(X_train, X_valid)\n",
        "\n",
        "  # 欠測値を埋めるための回帰において特徴量として使う列\n",
        "  columns = X_train.columns.drop('SkinThickness').drop('Insulin')\n",
        "\n",
        "  print(f'imputation k-NN k={k}')\n",
        "  for feature in ['SkinThickness', 'Insulin']:\n",
        "    reg = KNeighborsRegressor(n_neighbors=k)\n",
        "    indices = (X_train[feature] != 0)\n",
        "    reg.fit(X_train.loc[indices, columns], X_train.loc[indices, feature])\n",
        "    X_train_copy.loc[~ indices, feature] = reg.predict(X_train.loc[~ indices, columns])\n",
        "\n",
        "    indices = (X_valid[feature] != 0)\n",
        "    X_valid_copy.loc[~ indices, feature] = reg.predict(X_valid.loc[~ indices, columns])\n",
        "\n",
        "  return X_train_copy, X_valid_copy"
      ],
      "metadata": {
        "id": "_qyMKph133YO"
      },
      "execution_count": null,
      "outputs": []
    },
    {
      "cell_type": "code",
      "metadata": {
        "id": "ROSCKIUQOzMk"
      },
      "source": [
        "best_k, best_score = 1, 0.0\n",
        "\n",
        "for k in range(1, 21):\n",
        "  score = cv(skf, X_train, y_train, preprocess=preprocess)\n",
        "  print('-'*64)\n",
        "  if best_score < score:\n",
        "    best_k, best_score = k, score\n",
        "\n",
        "print(f'best score {best_score:.4f} for k = {best_k}')"
      ],
      "execution_count": null,
      "outputs": []
    },
    {
      "cell_type": "markdown",
      "metadata": {
        "id": "hRBbY9W-QAoF"
      },
      "source": [
        "* 最良の分類性能が、これまでの分類性能よりも良くなったので、採用する。"
      ]
    },
    {
      "cell_type": "markdown",
      "metadata": {
        "id": "iLd-Rg8RlUtj"
      },
      "source": [
        "### スケーラー"
      ]
    },
    {
      "cell_type": "markdown",
      "source": [
        "* k-NNで欠測箇所を埋める関数を別の名前で定義する。"
      ],
      "metadata": {
        "id": "jT4AqAIqJhcA"
      }
    },
    {
      "cell_type": "code",
      "source": [
        "# best_kは、上で値を設定したグローバル変数。\n",
        "\n",
        "def preprocess_1(X_train, X_valid):\n",
        "  # 前に行った前処理を定義した関数を呼び出す\n",
        "  X_train_copy, X_valid_copy = preprocess_0(X_train, X_valid)\n",
        "\n",
        "  # 欠測値を埋めるための回帰において特徴量として使う列\n",
        "  columns = X_train.columns.drop('SkinThickness').drop('Insulin')\n",
        "\n",
        "  k = best_k\n",
        "  print(f'imputation k-NN k={k}')\n",
        "  for feature in ['SkinThickness', 'Insulin']:\n",
        "    reg = KNeighborsRegressor(n_neighbors=k)\n",
        "    indices = (X_train[feature] != 0)\n",
        "    reg.fit(X_train.loc[indices, columns], X_train.loc[indices, feature])\n",
        "    X_train_copy.loc[~ indices, feature] = reg.predict(X_train.loc[~ indices, columns])\n",
        "\n",
        "    indices = (X_valid[feature] != 0)\n",
        "    X_valid_copy.loc[~ indices, feature] = reg.predict(X_valid.loc[~ indices, columns])\n",
        "\n",
        "  return X_train_copy, X_valid_copy"
      ],
      "metadata": {
        "id": "FqjyRzORJcXF"
      },
      "execution_count": null,
      "outputs": []
    },
    {
      "cell_type": "markdown",
      "source": [
        "* スケーリングを行う関数の中で、上の関数を呼び出す。"
      ],
      "metadata": {
        "id": "4PZ7ZYZDJ3PE"
      }
    },
    {
      "cell_type": "code",
      "source": [
        "def preprocess(X_train, X_valid):\n",
        "  X_train_copy, X_valid_copy = preprocess_1(X_train, X_valid)\n",
        "  scaler = MinMaxScaler()\n",
        "  scaler.fit(X_train_copy)\n",
        "  return scaler.transform(X_train_copy), scaler.transform(X_valid_copy)"
      ],
      "metadata": {
        "id": "Qz8PMENm_J6f"
      },
      "execution_count": null,
      "outputs": []
    },
    {
      "cell_type": "code",
      "metadata": {
        "id": "fnNi8kaXrDQP"
      },
      "source": [
        "cv(skf, X_train, y_train, preprocess=preprocess);"
      ],
      "execution_count": null,
      "outputs": []
    },
    {
      "cell_type": "code",
      "source": [
        "def preprocess(X_train, X_valid):\n",
        "  X_train_copy, X_valid_copy = preprocess_1(X_train, X_valid)\n",
        "  scaler = StandardScaler()\n",
        "  scaler.fit(X_train_copy)\n",
        "  return scaler.transform(X_train_copy), scaler.transform(X_valid_copy)"
      ],
      "metadata": {
        "id": "2bh_Rhbt_pxC"
      },
      "execution_count": null,
      "outputs": []
    },
    {
      "cell_type": "code",
      "metadata": {
        "id": "CxAI7gORc5td"
      },
      "source": [
        "cv(skf, X_train, y_train, preprocess=preprocess);"
      ],
      "execution_count": null,
      "outputs": []
    },
    {
      "cell_type": "markdown",
      "metadata": {
        "id": "l3W1GQ_34qhY"
      },
      "source": [
        "* いずれも不採用。\n",
        " * 前処理の関数としては一つ前のものを使う。"
      ]
    },
    {
      "cell_type": "markdown",
      "metadata": {
        "id": "0zFe16YjmHPf"
      },
      "source": [
        "### 正則化"
      ]
    },
    {
      "cell_type": "code",
      "metadata": {
        "id": "UhjQGKFaJiGH"
      },
      "source": [
        "best_C, best_score = 0, 0\n",
        "\n",
        "for C in np.power(10.0, np.arange(13) - 5):\n",
        "  score = cv(skf, X_train, y_train, preprocess=preprocess_1, C=C)\n",
        "  if best_score < score:\n",
        "    best_C, best_score = C, score\n",
        "  print('-' * 64)\n",
        "\n",
        "print(f'best score {best_score:.4f} for C={best_C}')"
      ],
      "execution_count": null,
      "outputs": []
    },
    {
      "cell_type": "markdown",
      "metadata": {
        "id": "72sKbveFZqAV"
      },
      "source": [
        "* 以上をまとめると・・・\n",
        " * 'BloodPressure', 'BMI', 'Glucose'の欠損値は中央値で埋める。\n",
        " * 'SkinThickness', 'Insulin'の欠損値はk-NNで埋める。\n",
        " * ロジスティック回帰はパラメータ`C=0.1`で正則化して使う。"
      ]
    },
    {
      "cell_type": "markdown",
      "metadata": {
        "id": "UNavOCyN2hZr"
      },
      "source": [
        "## テストデータで最終評価"
      ]
    },
    {
      "cell_type": "markdown",
      "source": [
        "* 訓練データの中央値を使って、テストデータの欠測値を埋める。"
      ],
      "metadata": {
        "id": "GxBvhemBTmv5"
      }
    },
    {
      "cell_type": "code",
      "source": [
        "# 訓練データについては、最初に取っておいたオリジナル X_train_original を使う。\n",
        "\n",
        "X_train_copy = X_train_original.copy()\n",
        "X_test_copy = X_test.copy()\n",
        "\n",
        "for feature in ['BloodPressure', 'BMI', 'Glucose']:\n",
        "  imp = SimpleImputer(missing_values=0, strategy='median')\n",
        "  X_train_copy[feature] = imp.fit_transform(X_train_original[[feature]])\n",
        "  X_test_copy[feature] = imp.transform(X_test[[feature]])\n",
        "  print(f'imputation fill value for {feature}: {imp.statistics_[0]}')"
      ],
      "metadata": {
        "id": "qXDt-9xMCB7P"
      },
      "execution_count": null,
      "outputs": []
    },
    {
      "cell_type": "markdown",
      "source": [
        "* ちゃんと動いたので、上書き。"
      ],
      "metadata": {
        "id": "tKHx-wIEQLuI"
      }
    },
    {
      "cell_type": "code",
      "source": [
        "X_train = X_train_copy\n",
        "X_test = X_test_copy"
      ],
      "metadata": {
        "id": "WaXQoWkVQSUp"
      },
      "execution_count": null,
      "outputs": []
    },
    {
      "cell_type": "markdown",
      "source": [
        "* k-NNでは、上で'BloodPressure', 'BMI', 'Glucose'の欠測値を埋めたデータを使う。"
      ],
      "metadata": {
        "id": "Y-w1izrJDBNX"
      }
    },
    {
      "cell_type": "code",
      "source": [
        "# 欠測値を埋めるために特徴量として使う列\n",
        "columns = X_train.columns.drop('SkinThickness').drop('Insulin')\n",
        "\n",
        "k = best_k\n",
        "\n",
        "X_train_copy = X_train.copy()\n",
        "X_test_copy = X_test.copy()\n",
        "\n",
        "for feature in ['SkinThickness', 'Insulin']:\n",
        "  reg = KNeighborsRegressor(n_neighbors=k)\n",
        "  indices = (X_train[feature] != 0)\n",
        "  reg.fit(X_train.loc[indices, columns], X_train.loc[indices, feature])\n",
        "  X_train_copy.loc[~ indices, feature] = reg.predict(X_train.loc[~ indices, columns])\n",
        "  indices = (X_test[feature] != 0)\n",
        "  X_test_copy.loc[~ indices, feature] = reg.predict(X_test.loc[~ indices, columns])"
      ],
      "metadata": {
        "id": "H3_8mSaBT_eS"
      },
      "execution_count": null,
      "outputs": []
    },
    {
      "cell_type": "markdown",
      "source": [
        "* ちゃんと動いたので上書き。"
      ],
      "metadata": {
        "id": "rg7WH9VBQ8we"
      }
    },
    {
      "cell_type": "code",
      "source": [
        "X_train = X_train_copy\n",
        "X_test = X_test_copy"
      ],
      "metadata": {
        "id": "tt9mZQ2QD0w_"
      },
      "execution_count": null,
      "outputs": []
    },
    {
      "cell_type": "code",
      "metadata": {
        "id": "H-c0X3gCJwsq"
      },
      "source": [
        "model = LogisticRegression(max_iter=1000, C=0.1, random_state=123)\n",
        "model.fit(X_train, y_train)\n",
        "print('test score: {:.4f}'.format(model.score(X_test, y_test)))"
      ],
      "execution_count": null,
      "outputs": []
    },
    {
      "cell_type": "code",
      "metadata": {
        "id": "KayAjOl5x_On"
      },
      "source": [
        "y_test_pred_proba = model.predict_proba(X_test)\n",
        "print('ROC AUC: {:.4f}'.format(roc_auc_score(y_test, y_test_pred_proba[:,1])))"
      ],
      "execution_count": null,
      "outputs": []
    },
    {
      "cell_type": "code",
      "source": [
        "fig, ax = plt.subplots(figsize=(6, 6))\n",
        "RocCurveDisplay.from_estimator(baseline, X_test, y_test, name=\"baseline\", ax=ax)\n",
        "RocCurveDisplay.from_estimator(model, X_test, y_test, name=\"my model\", ax=ax)"
      ],
      "metadata": {
        "id": "0p1_z668v99Y"
      },
      "execution_count": null,
      "outputs": []
    },
    {
      "cell_type": "code",
      "metadata": {
        "id": "WopC3aJ02PVO"
      },
      "source": [
        "fig, ax = plt.subplots(figsize=(6, 6))\n",
        "PrecisionRecallDisplay.from_estimator(baseline, X_test, y_test, name=\"baseline\", ax=ax)\n",
        "PrecisionRecallDisplay.from_estimator(model, X_test, y_test, name=\"my model\", ax=ax)"
      ],
      "execution_count": null,
      "outputs": []
    },
    {
      "cell_type": "markdown",
      "source": [
        "\n",
        "\n",
        "---\n",
        "\n",
        "\n",
        "\n",
        "---\n",
        "\n"
      ],
      "metadata": {
        "id": "MKmu55SblNBW"
      }
    },
    {
      "cell_type": "markdown",
      "source": [
        "# 課題\n",
        "* 上の結果を改良できるかどうか、試行錯誤してみてください。\n",
        "* training setとtest setへの分割は、変更しないでください。\n",
        "* training set上での試行錯誤は、どんな方法を使ってもいいです。\n",
        "  * test setは、最終的な性能評価のときに一回使うだけです。"
      ],
      "metadata": {
        "id": "sflvsPYqkflX"
      }
    },
    {
      "cell_type": "code",
      "source": [],
      "metadata": {
        "id": "zWoqZKFlkjsA"
      },
      "execution_count": null,
      "outputs": []
    }
  ]
}