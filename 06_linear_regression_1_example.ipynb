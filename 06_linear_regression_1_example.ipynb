{
  "cells": [
    {
      "cell_type": "markdown",
      "metadata": {
        "id": "view-in-github",
        "colab_type": "text"
      },
      "source": [
        "<a href=\"https://colab.research.google.com/github/tomonari-masada/course2025-sml/blob/main/06_linear_regression_1_example.ipynb\" target=\"_parent\"><img src=\"https://colab.research.google.com/assets/colab-badge.svg\" alt=\"Open In Colab\"/></a>"
      ]
    },
    {
      "cell_type": "markdown",
      "metadata": {
        "id": "gaQ8dO7PH-Ie"
      },
      "source": [
        "# プランナー課題６\n",
        "\n",
        "* RMSEによって評価される予測性能を、良くして下さい\n",
        "* test setとそれ以外の部分の分割は、変えないでください\n",
        "  * test set以外の部分をどう使うかは、自由です。\n",
        "  * training setとvalidation setをくっつけて、交差検証をしていいです。\n",
        "* その他、いろいろ試行錯誤してみてください。\n",
        "  * リッジ回帰とLassoを使ってもいいです\n",
        "  * 高次多項式特徴量を使ってもいいです（cf. `sklearn.preprocessing.PolynomialFeatures`）\n",
        "* 予測手法のチューニングを尽くした上で、最後にtest setでのRMSEによる評価を実施してください。\n",
        "  * test setでの評価結果を見て、チューニングに戻ってはいけません。"
      ]
    },
    {
      "cell_type": "markdown",
      "metadata": {
        "id": "u0BsSfpiaDsv"
      },
      "source": [
        "## 解答例"
      ]
    },
    {
      "cell_type": "code",
      "execution_count": null,
      "metadata": {
        "id": "vCYz2LlyIJUW"
      },
      "outputs": [],
      "source": [
        "from tqdm.auto import tqdm\n",
        "import numpy as np\n",
        "from scipy import stats, special\n",
        "import pandas as pd\n",
        "import matplotlib.pyplot as plt\n",
        "import seaborn as sns\n",
        "from sklearn.model_selection import train_test_split\n",
        "from sklearn.preprocessing import StandardScaler, MinMaxScaler\n",
        "from sklearn.linear_model import LinearRegression, Ridge, Lasso\n",
        "from sklearn.metrics import root_mean_squared_error\n",
        "from sklearn.model_selection import KFold\n",
        "from sklearn.preprocessing import PolynomialFeatures\n",
        "\n",
        "%config InlineBackend.figure_format = 'retina'\n",
        "\n",
        "np.random.seed(42)"
      ]
    },
    {
      "cell_type": "code",
      "execution_count": null,
      "metadata": {
        "id": "g-8ombKtQkBM"
      },
      "outputs": [],
      "source": [
        "!wget https://raw.githubusercontent.com/ageron/handson-ml/master/datasets/housing/housing.tgz\n",
        "!tar zxvf housing.tgz"
      ]
    },
    {
      "cell_type": "code",
      "execution_count": null,
      "metadata": {
        "id": "Ewm8TpCMQj4X"
      },
      "outputs": [],
      "source": [
        "df = pd.read_csv(\"housing.csv\")\n",
        "df_onehot = pd.get_dummies(df, dtype=int)\n",
        "X = df_onehot.drop('median_house_value', axis=1)\n",
        "y = df_onehot[\"median_house_value\"].copy()"
      ]
    },
    {
      "cell_type": "code",
      "execution_count": null,
      "metadata": {
        "id": "x5GI8vyKygXq"
      },
      "outputs": [],
      "source": [
        "X_train, X_test, y_train, y_test = train_test_split(X, y, test_size=0.2, random_state=1234)\n",
        "X_train, X_val, y_train, y_val = train_test_split(X_train, y_train, test_size=0.25, random_state=1234)"
      ]
    },
    {
      "cell_type": "markdown",
      "metadata": {
        "id": "qwQYkq5azsyf"
      },
      "source": [
        "### 交差検証をするために、training setとvalidation setを合併する。"
      ]
    },
    {
      "cell_type": "code",
      "execution_count": null,
      "metadata": {
        "id": "bvP1P_oFzylq"
      },
      "outputs": [],
      "source": [
        "X_train = pd.concat([X_train, X_val])\n",
        "y_train = pd.concat([y_train, y_val])"
      ]
    },
    {
      "cell_type": "markdown",
      "metadata": {
        "id": "K9Dbtjn5z8HO"
      },
      "source": [
        "### 目的変数の対数をとる。"
      ]
    },
    {
      "cell_type": "code",
      "execution_count": null,
      "metadata": {
        "id": "bieS7vJWz6up"
      },
      "outputs": [],
      "source": [
        "y_train = np.log(y_train)\n",
        "y_test = np.log(y_test)"
      ]
    },
    {
      "cell_type": "markdown",
      "metadata": {
        "id": "H31AYxYn0Jep"
      },
      "source": [
        "### 10-foldの交差検証を3回おこなう。"
      ]
    },
    {
      "cell_type": "code",
      "execution_count": null,
      "metadata": {
        "id": "4cEQjLtZ0I2z"
      },
      "outputs": [],
      "source": [
        "kfold = []\n",
        "for i in range(3):\n",
        "  kfold.append(KFold(n_splits=10, shuffle=True, random_state=np.random.randint(1, 10000)))"
      ]
    },
    {
      "cell_type": "markdown",
      "metadata": {
        "id": "jtTD1psgYjGu"
      },
      "source": [
        "### リッジ回帰＋min-maxスケーリング＋2次多項式特徴量"
      ]
    },
    {
      "cell_type": "code",
      "execution_count": null,
      "metadata": {
        "id": "CQdcTz3R0QBi"
      },
      "outputs": [],
      "source": [
        "scaler = MinMaxScaler()\n",
        "poly = PolynomialFeatures(2)\n",
        "\n",
        "for alpha in 10. ** np.arange(-6, 2):\n",
        "  reg = Ridge(alpha=alpha, random_state=123)\n",
        "  print(f\"---- Ridge regression for alpha={alpha:.2e}\")\n",
        "  rmses = []\n",
        "  for i in tqdm(range(len(kfold))):\n",
        "    for train_index, val_index in kfold[i].split(X_train):\n",
        "      _X_train, _X_val = X_train.iloc[train_index], X_train.iloc[val_index]\n",
        "      _y_train, _y_val = y_train.iloc[train_index], y_train.iloc[val_index]\n",
        "      total_bedrooms_median = _X_train[\"total_bedrooms\"].median()\n",
        "      _X_train = _X_train.fillna({'total_bedrooms': total_bedrooms_median})\n",
        "      _X_val = _X_val.fillna({'total_bedrooms': total_bedrooms_median})\n",
        "      _X_train = poly.fit_transform(scaler.fit_transform(_X_train))\n",
        "      _X_val = poly.transform(scaler.transform(_X_val))\n",
        "      reg.fit(_X_train, _y_train)\n",
        "      y_val_pred = reg.predict(_X_val)\n",
        "      y_val_pred[y_val_pred > _y_train.max()] = _y_train.max()\n",
        "      rmse = root_mean_squared_error(np.exp(_y_val), np.exp(y_val_pred))\n",
        "      rmses.append(rmse)\n",
        "  rmses = np.array(rmses)\n",
        "  print(f'mean RMSE: {rmses.mean():.1f} ({rmses.std():.1f})')"
      ]
    },
    {
      "cell_type": "markdown",
      "metadata": {
        "id": "SKcIHr1ld9e4"
      },
      "source": [
        "### リッジ回帰＋min-maxスケーリング＋3次多項式特徴量"
      ]
    },
    {
      "cell_type": "code",
      "execution_count": null,
      "metadata": {
        "id": "5mYSYiosc_lH"
      },
      "outputs": [],
      "source": [
        "scaler = MinMaxScaler()\n",
        "poly = PolynomialFeatures(3)\n",
        "\n",
        "for alpha in 10. ** np.arange(-8, -2):\n",
        "  reg = Ridge(alpha=alpha, random_state=123)\n",
        "  print(f\"---- Ridge regression for alpha={alpha:.2e}\")\n",
        "  rmses = []\n",
        "  for i in tqdm(range(len(kfold))):\n",
        "    for train_index, val_index in kfold[i].split(X_train):\n",
        "      _X_train, _X_val = X_train.iloc[train_index], X_train.iloc[val_index]\n",
        "      _y_train, _y_val = y_train.iloc[train_index], y_train.iloc[val_index]\n",
        "      total_bedrooms_median = _X_train[\"total_bedrooms\"].median()\n",
        "      _X_train = _X_train.fillna({'total_bedrooms': total_bedrooms_median})\n",
        "      _X_val = _X_val.fillna({'total_bedrooms': total_bedrooms_median})\n",
        "      _X_train = poly.fit_transform(scaler.fit_transform(_X_train))\n",
        "      _X_val = poly.transform(scaler.transform(_X_val))\n",
        "      reg.fit(_X_train, _y_train)\n",
        "      y_val_pred = reg.predict(_X_val)\n",
        "      y_val_pred[y_val_pred > _y_train.max()] = _y_train.max()\n",
        "      rmse = root_mean_squared_error(np.exp(_y_val), np.exp(y_val_pred))\n",
        "      rmses.append(rmse)\n",
        "  rmses = np.array(rmses)\n",
        "  print(f'mean RMSE: {rmses.mean():.1f} ({rmses.std():.1f})')"
      ]
    },
    {
      "cell_type": "markdown",
      "metadata": {
        "id": "pOQ9eMByV_22"
      },
      "source": [
        "### リッジ回帰＋min-maxスケーリング＋3次多項式特徴量（再）\n",
        "* データセットの分割を変えてもう一度。"
      ]
    },
    {
      "cell_type": "code",
      "execution_count": null,
      "metadata": {
        "id": "XEPHBLobf2WN"
      },
      "outputs": [],
      "source": [
        "kfold = []\n",
        "for i in range(3):\n",
        "  kfold.append(KFold(n_splits=10, shuffle=True, random_state=np.random.randint(1, 10000)))"
      ]
    },
    {
      "cell_type": "code",
      "execution_count": null,
      "metadata": {
        "id": "TktYJr1GUJB7"
      },
      "outputs": [],
      "source": [
        "scaler = MinMaxScaler()\n",
        "poly = PolynomialFeatures(3)\n",
        "\n",
        "for alpha in 10. ** np.arange(-8, -2):\n",
        "  reg = Ridge(alpha=alpha, random_state=123)\n",
        "  print(f\"---- Ridge regression for alpha={alpha:.2e}\")\n",
        "  rmses = []\n",
        "  for i in tqdm(range(len(kfold))):\n",
        "    for train_index, val_index in kfold[i].split(X_train):\n",
        "      _X_train, _X_val = X_train.iloc[train_index], X_train.iloc[val_index]\n",
        "      _y_train, _y_val = y_train.iloc[train_index], y_train.iloc[val_index]\n",
        "      total_bedrooms_median = _X_train[\"total_bedrooms\"].median()\n",
        "      _X_train = _X_train.fillna({'total_bedrooms': total_bedrooms_median})\n",
        "      _X_val = _X_val.fillna({'total_bedrooms': total_bedrooms_median})\n",
        "      _X_train = poly.fit_transform(scaler.fit_transform(_X_train))\n",
        "      _X_val = poly.transform(scaler.transform(_X_val))\n",
        "      reg.fit(_X_train, _y_train)\n",
        "      y_val_pred = reg.predict(_X_val)\n",
        "      y_val_pred[y_val_pred > _y_train.max()] = _y_train.max()\n",
        "      rmse = root_mean_squared_error(np.exp(_y_val), np.exp(y_val_pred))\n",
        "      rmses.append(rmse)\n",
        "  rmses = np.array(rmses)\n",
        "  print(f'mean RMSE: {rmses.mean():.1f} ({rmses.std():.1f})')"
      ]
    },
    {
      "cell_type": "markdown",
      "metadata": {
        "id": "3lm779wNYs4-"
      },
      "source": [
        "* `alpha=1.0e-06`で良さそう。"
      ]
    },
    {
      "cell_type": "markdown",
      "metadata": {
        "id": "QrGdLCb-4Kpw"
      },
      "source": [
        "## チューニング済みの予測手法をテストデータ上で評価"
      ]
    },
    {
      "cell_type": "code",
      "execution_count": null,
      "metadata": {
        "id": "4V7G4CR0AP2K"
      },
      "outputs": [],
      "source": [
        "scaler = MinMaxScaler()\n",
        "poly = PolynomialFeatures(3)\n",
        "\n",
        "alpha = 10. ** -6\n",
        "reg = Ridge(alpha=alpha, random_state=123)\n",
        "total_bedrooms_median = X_train[\"total_bedrooms\"].median()\n",
        "_X_train = X_train.fillna({'total_bedrooms': total_bedrooms_median})\n",
        "_X_test = X_test.fillna({'total_bedrooms': total_bedrooms_median})\n",
        "_X_train = poly.fit_transform(scaler.fit_transform(_X_train))\n",
        "_X_test = poly.transform(scaler.transform(_X_test))\n",
        "reg.fit(_X_train, y_train)\n",
        "y_test_pred = reg.predict(_X_test)\n",
        "y_test_pred[y_test_pred > y_train.max()] = y_train.max()\n",
        "rmse = root_mean_squared_error(np.exp(y_test), np.exp(y_test_pred))\n",
        "print(f'my test RMSE: {rmse:.1f}')"
      ]
    },
    {
      "cell_type": "markdown",
      "metadata": {
        "id": "CvdL8oaOVOAP"
      },
      "source": [
        "### baseline（何の工夫もない線形回帰）のテスト性能を確認しておく。"
      ]
    },
    {
      "cell_type": "code",
      "execution_count": null,
      "metadata": {
        "id": "PNeVz_IJUs9h"
      },
      "outputs": [],
      "source": [
        "df = pd.read_csv(\"housing.csv\")\n",
        "df_onehot = pd.get_dummies(df, dtype=int)\n",
        "X = df_onehot.drop('median_house_value', axis=1)\n",
        "y = df_onehot[\"median_house_value\"].copy()\n",
        "X_train, X_test, y_train, y_test = train_test_split(X, y, test_size=0.2, random_state=1234)\n",
        "\n",
        "reg = LinearRegression()\n",
        "total_bedrooms_median = X_train[\"total_bedrooms\"].median()\n",
        "_X_train = X_train.fillna({'total_bedrooms': total_bedrooms_median})\n",
        "_X_test = X_test.fillna({'total_bedrooms': total_bedrooms_median})\n",
        "reg.fit(_X_train, y_train)\n",
        "y_test_pred = reg.predict(_X_test)\n",
        "y_test_pred[y_test_pred > y_train.max()] = y_train.max()\n",
        "rmse = root_mean_squared_error(y_test, y_test_pred)\n",
        "print(f'baseline test RMSE: {rmse:.1f}')"
      ]
    },
    {
      "cell_type": "markdown",
      "metadata": {
        "id": "Rf2ntFpRih1b"
      },
      "source": [
        "* これに比べれば、かなり良くなっている。"
      ]
    }
  ],
  "metadata": {
    "colab": {
      "provenance": [],
      "include_colab_link": true
    },
    "kernelspec": {
      "display_name": ".venv",
      "language": "python",
      "name": "python3"
    },
    "language_info": {
      "codemirror_mode": {
        "name": "ipython",
        "version": 3
      },
      "file_extension": ".py",
      "mimetype": "text/x-python",
      "name": "python",
      "nbconvert_exporter": "python",
      "pygments_lexer": "ipython3",
      "version": "3.12.10"
    }
  },
  "nbformat": 4,
  "nbformat_minor": 0
}