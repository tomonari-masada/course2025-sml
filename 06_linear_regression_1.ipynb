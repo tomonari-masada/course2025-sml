{
  "nbformat": 4,
  "nbformat_minor": 0,
  "metadata": {
    "colab": {
      "provenance": [],
      "authorship_tag": "ABX9TyOssY81gfhX4kP5Omhyu1kE",
      "include_colab_link": true
    },
    "kernelspec": {
      "name": "python3",
      "display_name": "Python 3"
    }
  },
  "cells": [
    {
      "cell_type": "markdown",
      "metadata": {
        "id": "view-in-github",
        "colab_type": "text"
      },
      "source": [
        "<a href=\"https://colab.research.google.com/github/tomonari-masada/course2025-sml/blob/main/06_linear_regression_1.ipynb\" target=\"_parent\"><img src=\"https://colab.research.google.com/assets/colab-badge.svg\" alt=\"Open In Colab\"/></a>"
      ]
    },
    {
      "cell_type": "markdown",
      "metadata": {
        "id": "gaQ8dO7PH-Ie"
      },
      "source": [
        "# 重回帰による住宅価格の予測\n",
        "\n",
        "* California housing datasetという有名なデータセットを使う。\n",
        "\n",
        "  * scikit-learnからロードできるバージョンは、前処理が済んだキレイなデータ。\n",
        "  * ここでは、前処理も自分でおこなってみる。\n",
        "\n",
        "* データの前処理については、下記の本の第2章を参考にした。\n",
        "  * [Aurélien Géron. Hands-On Machine Learning with Scikit-Learn, Keras, and TensorFlow, 2nd Edition.](https://www.oreilly.com/library/view/hands-on-machine-learning/9781492032632/)"
      ]
    },
    {
      "cell_type": "markdown",
      "metadata": {
        "id": "qnhBNBAMAMWG"
      },
      "source": [
        "* 機械学習において線形回帰モデルを使うときは、予測性能が重要。\n",
        "  * 予測性能が上がるなら何でもする、という考え方。"
      ]
    },
    {
      "cell_type": "code",
      "metadata": {
        "id": "vCYz2LlyIJUW"
      },
      "source": [
        "import numpy as np\n",
        "import pandas as pd\n",
        "import matplotlib.pyplot as plt\n",
        "import seaborn as sns\n",
        "from sklearn.model_selection import train_test_split\n",
        "from sklearn.linear_model import LinearRegression, Ridge, Lasso\n",
        "from sklearn.metrics import mean_squared_error\n",
        "\n",
        "%config InlineBackend.figure_format = 'retina'"
      ],
      "execution_count": null,
      "outputs": []
    },
    {
      "cell_type": "markdown",
      "metadata": {
        "id": "B0ueH1eZQkV0"
      },
      "source": [
        "## データセットの取得"
      ]
    },
    {
      "cell_type": "code",
      "source": [
        "!wget https://raw.githubusercontent.com/ageron/handson-ml/master/datasets/housing/housing.tgz\n",
        "!tar zxvf housing.tgz"
      ],
      "metadata": {
        "id": "0f3ooc0_Fz3c",
        "outputId": "b4002d3b-70ab-4ba2-8a45-36f9aaa86ea1",
        "colab": {
          "base_uri": "https://localhost:8080/"
        }
      },
      "execution_count": null,
      "outputs": [
        {
          "output_type": "stream",
          "name": "stdout",
          "text": [
            "--2024-05-18 01:30:25--  https://raw.githubusercontent.com/ageron/handson-ml/master/datasets/housing/housing.tgz\n",
            "Resolving raw.githubusercontent.com (raw.githubusercontent.com)... 185.199.108.133, 185.199.109.133, 185.199.110.133, ...\n",
            "Connecting to raw.githubusercontent.com (raw.githubusercontent.com)|185.199.108.133|:443... connected.\n",
            "HTTP request sent, awaiting response... 200 OK\n",
            "Length: 409488 (400K) [application/octet-stream]\n",
            "Saving to: ‘housing.tgz’\n",
            "\n",
            "\rhousing.tgz           0%[                    ]       0  --.-KB/s               \rhousing.tgz         100%[===================>] 399.89K  --.-KB/s    in 0.04s   \n",
            "\n",
            "2024-05-18 01:30:25 (11.1 MB/s) - ‘housing.tgz’ saved [409488/409488]\n",
            "\n",
            "housing.csv\n"
          ]
        }
      ]
    },
    {
      "cell_type": "code",
      "metadata": {
        "id": "qybD5v56JrtS"
      },
      "source": [
        "df = pd.read_csv(\"housing.csv\")"
      ],
      "execution_count": null,
      "outputs": []
    },
    {
      "cell_type": "code",
      "metadata": {
        "id": "_L5MBp4WQjeb"
      },
      "source": [
        "df.head()"
      ],
      "execution_count": null,
      "outputs": []
    },
    {
      "cell_type": "code",
      "metadata": {
        "id": "OGJP-5qhNnoz"
      },
      "source": [
        "df.info()"
      ],
      "execution_count": null,
      "outputs": []
    },
    {
      "cell_type": "markdown",
      "metadata": {
        "id": "l9vh2konBNVb"
      },
      "source": [
        "* 数値ではない特徴量が一つだけある\n",
        "  * こういう特徴量を、カテゴリカルな特徴量と呼ぶ。"
      ]
    },
    {
      "cell_type": "code",
      "metadata": {
        "id": "UUcTzYmBNp4g"
      },
      "source": [
        "df['ocean_proximity'].value_counts()"
      ],
      "execution_count": null,
      "outputs": []
    },
    {
      "cell_type": "markdown",
      "source": [
        "* 今回は、one-hot encodingで数値化する。\n",
        "  * pandasのget_dummiesメソッドを利用する。"
      ],
      "metadata": {
        "id": "tiu2Xiztc45T"
      }
    },
    {
      "cell_type": "code",
      "source": [
        "df_onehot = pd.get_dummies(df, dtype=int)"
      ],
      "metadata": {
        "id": "2Ho2Va7NdLVe"
      },
      "execution_count": null,
      "outputs": []
    },
    {
      "cell_type": "code",
      "source": [
        "df_onehot.head()"
      ],
      "metadata": {
        "id": "bb8yw4RxdnDq"
      },
      "execution_count": null,
      "outputs": []
    },
    {
      "cell_type": "code",
      "source": [
        "df_onehot.info()"
      ],
      "metadata": {
        "id": "NghRAuxGdo1_"
      },
      "execution_count": null,
      "outputs": []
    },
    {
      "cell_type": "markdown",
      "metadata": {
        "id": "QMZwKUi2BaCY"
      },
      "source": [
        "## 問題設定\n",
        "* median_house_valueを予測する。\n",
        " * これ以外は特徴量として使う。"
      ]
    },
    {
      "cell_type": "code",
      "metadata": {
        "id": "M28tUOwREhEe"
      },
      "source": [
        "X = df_onehot.drop('median_house_value', axis=1)\n",
        "y = df_onehot[\"median_house_value\"].copy()"
      ],
      "execution_count": null,
      "outputs": []
    },
    {
      "cell_type": "code",
      "source": [
        "X.head()"
      ],
      "metadata": {
        "id": "SeCfSj5Y9vum"
      },
      "execution_count": null,
      "outputs": []
    },
    {
      "cell_type": "markdown",
      "source": [
        "## 実験のための準備"
      ],
      "metadata": {
        "id": "9M7DB2l3Z0FM"
      }
    },
    {
      "cell_type": "markdown",
      "metadata": {
        "id": "jJVevWKDFPI2"
      },
      "source": [
        "### 訓練データ/検証データ/テストデータ"
      ]
    },
    {
      "cell_type": "markdown",
      "metadata": {
        "id": "gk-69CHBBhiE"
      },
      "source": [
        "* 訓練データ、検証データ、テストデータに分ける\n",
        "  * 今回は、6:2:2になるように分ける。（この比率に深い意味はない。）\n",
        "  * 今回は、交差検証は行わない。"
      ]
    },
    {
      "cell_type": "code",
      "metadata": {
        "id": "HPLyJcSqEu6i"
      },
      "source": [
        "X_train, X_test, y_train, y_test = train_test_split(X, y, test_size=0.2, random_state=1234)\n",
        "X_train, X_valid, y_train, y_valid = train_test_split(X_train, y_train, test_size=0.25, random_state=1234)"
      ],
      "execution_count": null,
      "outputs": []
    },
    {
      "cell_type": "code",
      "metadata": {
        "id": "prhfKKrsB4cj"
      },
      "source": [
        "print(X_train.shape, X_valid.shape, X_test.shape)"
      ],
      "execution_count": null,
      "outputs": []
    },
    {
      "cell_type": "code",
      "source": [
        "X_train.info()"
      ],
      "metadata": {
        "id": "v-21qJpFH0vm"
      },
      "execution_count": null,
      "outputs": []
    },
    {
      "cell_type": "code",
      "source": [
        "X_valid.info()"
      ],
      "metadata": {
        "id": "Y3Wgy0P-IMgj"
      },
      "execution_count": null,
      "outputs": []
    },
    {
      "cell_type": "code",
      "source": [
        "X_test.info()"
      ],
      "metadata": {
        "id": "WVBvF_EsIOdm"
      },
      "execution_count": null,
      "outputs": []
    },
    {
      "cell_type": "markdown",
      "source": [
        "### 欠測値への対応"
      ],
      "metadata": {
        "id": "m138WeBbZq16"
      }
    },
    {
      "cell_type": "markdown",
      "metadata": {
        "id": "CnaQ5od7BUXk"
      },
      "source": [
        "* total_bedroomsの値が欠けているエントリがあるので・・・\n",
        "* 今回は、中央値で埋めることにする。（ここを変更してもいいです。）\n",
        "* 中央値のような統計量を得るときは、訓練データのみを使う。\n",
        "  * 検証データやテストデータで、平均値や中央値などの統計量を調べてはいけない。\n"
      ]
    },
    {
      "cell_type": "code",
      "source": [
        "X_train[\"total_bedrooms\"].hist(bins=50);"
      ],
      "metadata": {
        "id": "KsnjsGmIJR5U"
      },
      "execution_count": null,
      "outputs": []
    },
    {
      "cell_type": "code",
      "source": [
        "total_bedrooms_median = X_train[\"total_bedrooms\"].median()\n",
        "print(total_bedrooms_median)\n",
        "total_bedrooms_mean = X_train[\"total_bedrooms\"].mean()\n",
        "print(total_bedrooms_mean)"
      ],
      "metadata": {
        "id": "8jjJn6kFI3c9"
      },
      "execution_count": null,
      "outputs": []
    },
    {
      "cell_type": "markdown",
      "source": [
        "* 問題: 中央値と平均値がかなり違う。この違いは、何を意味するか。"
      ],
      "metadata": {
        "id": "nbO3mEhlaMOX"
      }
    },
    {
      "cell_type": "code",
      "metadata": {
        "id": "UfaKuLw0TsgQ"
      },
      "source": [
        "X_train = X_train.fillna({'total_bedrooms': total_bedrooms_median})"
      ],
      "execution_count": null,
      "outputs": []
    },
    {
      "cell_type": "code",
      "source": [
        "X_train.info()"
      ],
      "metadata": {
        "id": "KPpClVE2K5NR"
      },
      "execution_count": null,
      "outputs": []
    },
    {
      "cell_type": "code",
      "source": [
        "X_valid = X_valid.fillna({'total_bedrooms': total_bedrooms_median})\n",
        "X_valid.info()"
      ],
      "metadata": {
        "id": "ZqCSrCfROGeD"
      },
      "execution_count": null,
      "outputs": []
    },
    {
      "cell_type": "code",
      "source": [
        "X_test = X_test.fillna({'total_bedrooms': total_bedrooms_median})\n",
        "X_test.info()"
      ],
      "metadata": {
        "id": "FQyFlO4SOH7C"
      },
      "execution_count": null,
      "outputs": []
    },
    {
      "cell_type": "markdown",
      "metadata": {
        "id": "WfsOy4znNBHv"
      },
      "source": [
        "## 訓練データのEDA\n",
        "* EDA = exploratory data analysis"
      ]
    },
    {
      "cell_type": "code",
      "metadata": {
        "id": "iBD2kfilVG5g"
      },
      "source": [
        "X_train.describe()"
      ],
      "execution_count": null,
      "outputs": []
    },
    {
      "cell_type": "markdown",
      "metadata": {
        "id": "f8GgSP-2CASG"
      },
      "source": [
        "### ヒストグラム"
      ]
    },
    {
      "cell_type": "code",
      "metadata": {
        "id": "jcWCkbkTNwZi"
      },
      "source": [
        "X_train.hist(bins=50, figsize=(15,12));"
      ],
      "execution_count": null,
      "outputs": []
    },
    {
      "cell_type": "markdown",
      "metadata": {
        "id": "YdNl1fbICFBx"
      },
      "source": [
        "* total_roomsの値の分布に注目してみる"
      ]
    },
    {
      "cell_type": "code",
      "metadata": {
        "id": "6uA8bC7vz0da"
      },
      "source": [
        "plt.hist(X_train.total_rooms, bins=50);"
      ],
      "execution_count": null,
      "outputs": []
    },
    {
      "cell_type": "markdown",
      "metadata": {
        "id": "is4bh30qJv69"
      },
      "source": [
        "* 説明変数の値がどのように分布するかは、回帰モデルの予測性能に直接は関係しない。\n",
        "* 回帰モデルでは、誤差項が正規分布に従うという仮定はすることがある。\n",
        "* しかし、説明変数の値の分布については、何も仮定しない。\n",
        "  * 例えば、0か1かの2通りの値しかとらない説明変数もよく使う。\n",
        "* とはいえ、それで予測性能が上がるなら、説明変数の値の分布を変更してみる余地はある。"
      ]
    },
    {
      "cell_type": "markdown",
      "metadata": {
        "id": "qVjQcoNvCHgT"
      },
      "source": [
        "* total_roomsの分布を、正規分布っぽい形に近づけてみる。"
      ]
    },
    {
      "cell_type": "code",
      "source": [
        "from sklearn.preprocessing import PowerTransformer\n",
        "pt = PowerTransformer()\n",
        "pt.fit(X_train[[\"total_rooms\"]])\n",
        "X_train[\"pt_total_rooms\"] = pt.transform(X_train[[\"total_rooms\"]])"
      ],
      "metadata": {
        "id": "yhiRetgIMI-Q"
      },
      "execution_count": null,
      "outputs": []
    },
    {
      "cell_type": "code",
      "metadata": {
        "id": "eZyFsB1jLUAO"
      },
      "source": [
        "X_train[\"pt_total_rooms\"].hist(bins=50);"
      ],
      "execution_count": null,
      "outputs": []
    },
    {
      "cell_type": "markdown",
      "source": [
        "* このように分布を変えた方が予測性能は良くなるだろうか？"
      ],
      "metadata": {
        "id": "mytehA1Fao3H"
      }
    },
    {
      "cell_type": "markdown",
      "source": [
        "* とりあえず、追加した列を削除し、元に戻しておく。"
      ],
      "metadata": {
        "id": "Y27dVoioPzJg"
      }
    },
    {
      "cell_type": "code",
      "source": [
        "X_train = X_train.drop(columns=\"pt_total_rooms\")"
      ],
      "metadata": {
        "id": "Eo108T_cPx_j"
      },
      "execution_count": null,
      "outputs": []
    },
    {
      "cell_type": "markdown",
      "metadata": {
        "id": "R1rt0QPuKXPl"
      },
      "source": [
        "* housing_median_ageを見てみる\n",
        " * 最大値の頻度が妙に高い。"
      ]
    },
    {
      "cell_type": "code",
      "metadata": {
        "id": "4zCfNrUfKYvI"
      },
      "source": [
        "X_train.housing_median_age.hist(bins=50);"
      ],
      "execution_count": null,
      "outputs": []
    },
    {
      "cell_type": "code",
      "metadata": {
        "id": "1W7owdNkKgp7"
      },
      "source": [
        "X_train.housing_median_age.value_counts().sort_index(ascending=False).head()"
      ],
      "execution_count": null,
      "outputs": []
    },
    {
      "cell_type": "markdown",
      "metadata": {
        "id": "9eqA3ytTC-9N"
      },
      "source": [
        "### 相関係数\n",
        "* 予測目的で線形回帰モデルを使う場合、いわゆる多重線形性は、さほど気にしなくてよい。\n",
        "  * 検定に線形回帰モデルを使う場合は、気にしないといけない。\n",
        "  * 多重共線性 https://bellcurve.jp/statistics/glossary/1792.html"
      ]
    },
    {
      "cell_type": "markdown",
      "source": [
        "* 相関係数は、最小値-1、最大値1。"
      ],
      "metadata": {
        "id": "r8QIMsXNbbCV"
      }
    },
    {
      "cell_type": "code",
      "metadata": {
        "id": "SFMqNDQHF4TW"
      },
      "source": [
        "plt.subplots(figsize=(10,10))\n",
        "sns.heatmap(X_train.corr(), vmin=-1, vmax=1, annot=True, square=True);"
      ],
      "execution_count": null,
      "outputs": []
    },
    {
      "cell_type": "markdown",
      "metadata": {
        "id": "rkOeRx7UK_cR"
      },
      "source": [
        "### ペア・プロット"
      ]
    },
    {
      "cell_type": "markdown",
      "source": [
        "* one-hot encodingは除外してプロットする。"
      ],
      "metadata": {
        "id": "E494ts8BgvHy"
      }
    },
    {
      "cell_type": "code",
      "source": [
        "X_train.drop(columns=X_train.filter(regex=(\"ocean_*\")))"
      ],
      "metadata": {
        "id": "NZ2cQodxf_gL"
      },
      "execution_count": null,
      "outputs": []
    },
    {
      "cell_type": "code",
      "metadata": {
        "id": "l2qk7jRsGaJg"
      },
      "source": [
        "sns.pairplot(X_train.drop(columns=X_train.filter(regex=(\"ocean_*\"))), diag_kind='kde');"
      ],
      "execution_count": null,
      "outputs": []
    },
    {
      "cell_type": "markdown",
      "metadata": {
        "id": "Np16Vy-zNTva"
      },
      "source": [
        "## 線形回帰"
      ]
    },
    {
      "cell_type": "markdown",
      "metadata": {
        "id": "aou8jD7JDpUP"
      },
      "source": [
        "* training setでモデルのパラメータを推定する\n"
      ]
    },
    {
      "cell_type": "code",
      "metadata": {
        "id": "fPy58KHFXJR-"
      },
      "source": [
        "reg = LinearRegression()\n",
        "reg.fit(X_train, y_train)"
      ],
      "execution_count": null,
      "outputs": []
    },
    {
      "cell_type": "markdown",
      "metadata": {
        "id": "y_ZTclVrDsyb"
      },
      "source": [
        "* validation set上で評価する\n"
      ]
    },
    {
      "cell_type": "code",
      "metadata": {
        "id": "vzYQcUGiVJCY"
      },
      "source": [
        "y_valid_pred = reg.predict(X_valid)\n",
        "rmse = mean_squared_error(y_valid, y_valid_pred, squared=False)\n",
        "print(f'RMSE: {rmse:f}')"
      ],
      "execution_count": null,
      "outputs": []
    },
    {
      "cell_type": "markdown",
      "source": [
        "* ここで、訓練データのターゲット（目的変数）の値の分布を見てみる"
      ],
      "metadata": {
        "id": "V6A8oKijc2r0"
      }
    },
    {
      "cell_type": "code",
      "metadata": {
        "id": "0oZX85X2VJ_Y"
      },
      "source": [
        "y_train.hist(bins=50);"
      ],
      "execution_count": null,
      "outputs": []
    },
    {
      "cell_type": "code",
      "metadata": {
        "id": "rbc7czuEVNTh"
      },
      "source": [
        "y_train.value_counts().head()"
      ],
      "execution_count": null,
      "outputs": []
    },
    {
      "cell_type": "markdown",
      "source": [
        "* 予測値が、訓練データ内でのターゲットの最大値を超えないようにして、再び評価する"
      ],
      "metadata": {
        "id": "XtpxZCsic8VH"
      }
    },
    {
      "cell_type": "code",
      "metadata": {
        "id": "EFreSbKFXMHY"
      },
      "source": [
        "y_valid_pred = reg.predict(X_valid)\n",
        "y_valid_pred[y_valid_pred > y_train.max()] = y_train.max()\n",
        "rmse = mean_squared_error(y_valid, y_valid_pred, squared=False)\n",
        "print(f'RMSE: {rmse:f}')"
      ],
      "execution_count": null,
      "outputs": []
    },
    {
      "cell_type": "markdown",
      "metadata": {
        "id": "AdPEFth-LbiL"
      },
      "source": [
        "## リッジ回帰\n",
        "* 係数の二乗の和を抑える正則化を含む。"
      ]
    },
    {
      "cell_type": "code",
      "metadata": {
        "id": "nu1sm4sJLlbm"
      },
      "source": [
        "reg = Ridge(alpha=1.0)\n",
        "reg.fit(X_train, y_train)\n",
        "y_valid_pred = reg.predict(X_valid)\n",
        "y_valid_pred[y_valid_pred > y_train.max()] = y_train.max()\n",
        "print('RMSE: {:f}'.format(mean_squared_error(y_valid, y_valid_pred, squared=False)))"
      ],
      "execution_count": null,
      "outputs": []
    },
    {
      "cell_type": "markdown",
      "metadata": {
        "id": "2nNFzWyXL4Yu"
      },
      "source": [
        "## Lasso\n",
        "* 係数の絶対値の和を抑える正則化を含む。"
      ]
    },
    {
      "cell_type": "code",
      "metadata": {
        "id": "DBR6ESY5L9Jg"
      },
      "source": [
        "reg = Lasso(alpha=1.0, max_iter=5000)\n",
        "reg.fit(X_train, y_train)\n",
        "y_valid_pred = reg.predict(X_valid)\n",
        "y_valid_pred[y_valid_pred > y_train.max()] = y_train.max()\n",
        "print('RMSE: {:f}'.format(mean_squared_error(y_valid, y_valid_pred, squared=False)))"
      ],
      "execution_count": null,
      "outputs": []
    },
    {
      "cell_type": "markdown",
      "metadata": {
        "id": "WJakf176FYLY"
      },
      "source": [
        "## 試行錯誤するための選択肢"
      ]
    },
    {
      "cell_type": "markdown",
      "metadata": {
        "id": "pK8V2VKcDxWi"
      },
      "source": [
        "### 説明変数の値を加工"
      ]
    },
    {
      "cell_type": "markdown",
      "source": [
        "* スケーラのfitは訓練データのみで行う"
      ],
      "metadata": {
        "id": "IvTFo-DJSFyz"
      }
    },
    {
      "cell_type": "code",
      "metadata": {
        "id": "YCSIYz576DTX"
      },
      "source": [
        "from sklearn.preprocessing import MinMaxScaler\n",
        "\n",
        "# スケーラのfitは訓練データのみで行う\n",
        "scaler = MinMaxScaler()\n",
        "scaler.fit(X_train)\n",
        "\n",
        "X_train_scaled = X_train.copy()\n",
        "X_train_scaled[X_train.columns] = scaler.transform(X_train)\n",
        "\n",
        "X_valid_scaled = X_valid.copy()\n",
        "X_valid_scaled[X_valid.columns] = scaler.transform(X_valid) # 検証データに同じスケーリングを適用\n",
        "\n",
        "X_test_scaled = X_test.copy()\n",
        "X_test_scaled[X_test.columns] = scaler.transform(X_test) # 検証データに同じスケーリングを適用"
      ],
      "execution_count": null,
      "outputs": []
    },
    {
      "cell_type": "code",
      "metadata": {
        "id": "_-RD6_9SQbNi"
      },
      "source": [
        "X_train_scaled.describe()"
      ],
      "execution_count": null,
      "outputs": []
    },
    {
      "cell_type": "markdown",
      "metadata": {
        "id": "cvWvYfjKD0JU"
      },
      "source": [
        "### 正則化パラメータをチューニング"
      ]
    },
    {
      "cell_type": "code",
      "metadata": {
        "id": "5-4udMmu4mBg"
      },
      "source": [
        "for alpha in 10. ** np.arange(-6, 7):\n",
        "  reg = Ridge(alpha=alpha, random_state=123)\n",
        "  reg.fit(X_train_scaled, y_train)\n",
        "  y_valid_pred = reg.predict(X_valid_scaled)\n",
        "  y_valid_pred[y_valid_pred > y_train.max()] = y_train.max()\n",
        "  rmse = mean_squared_error(y_valid, y_valid_pred, squared=False)\n",
        "  print(f'alpha: {alpha:f}; RMSE: {rmse:f}')"
      ],
      "execution_count": null,
      "outputs": []
    },
    {
      "cell_type": "code",
      "metadata": {
        "id": "KYwYfK-9VxO1"
      },
      "source": [
        "reg = LinearRegression()\n",
        "reg.fit(X_train_scaled, y_train)\n",
        "y_valid_pred = reg.predict(X_valid_scaled)\n",
        "y_valid_pred[y_valid_pred > y_train.max()] = y_train.max()\n",
        "rmse = mean_squared_error(y_valid, y_valid_pred, squared=False)\n",
        "print(f'RMSE: {rmse:f}')"
      ],
      "execution_count": null,
      "outputs": []
    },
    {
      "cell_type": "markdown",
      "metadata": {
        "id": "FfMHMvwgGBu5"
      },
      "source": [
        "### 試行錯誤の例：新しい説明変数を作成"
      ]
    },
    {
      "cell_type": "markdown",
      "source": [
        "* 下の例では、何をしているだろうか？"
      ],
      "metadata": {
        "id": "BDQmZ6Ft2NyI"
      }
    },
    {
      "cell_type": "code",
      "metadata": {
        "id": "SRZOGvZiGQjR"
      },
      "source": [
        "print(X_train.longitude.median(), X_train.latitude.median())"
      ],
      "execution_count": null,
      "outputs": []
    },
    {
      "cell_type": "code",
      "metadata": {
        "id": "bjGM387qKDie"
      },
      "source": [
        "med_lon = X_train.longitude.median()\n",
        "med_lat = X_train.latitude.median()"
      ],
      "execution_count": null,
      "outputs": []
    },
    {
      "cell_type": "code",
      "metadata": {
        "id": "lOSJEp_FHEsH"
      },
      "source": [
        "flag_lon = (X_train.longitude < med_lon) * 1\n",
        "flag_lat = (X_train.latitude < med_lat) * 1\n",
        "\n",
        "X_train['lon'] = flag_lon\n",
        "X_train['lat'] = flag_lat"
      ],
      "execution_count": null,
      "outputs": []
    },
    {
      "cell_type": "code",
      "metadata": {
        "id": "adxEk0tQIGKh"
      },
      "source": [
        "X_train.describe()"
      ],
      "execution_count": null,
      "outputs": []
    },
    {
      "cell_type": "code",
      "metadata": {
        "id": "z3EJZ1qEIs3O"
      },
      "source": [
        "flag_lon = (X_valid.longitude < med_lon) * 1\n",
        "flag_lat = (X_valid.latitude < med_lat) * 1\n",
        "\n",
        "X_valid['lon'] = flag_lon\n",
        "X_valid['lat'] = flag_lat"
      ],
      "execution_count": null,
      "outputs": []
    },
    {
      "cell_type": "code",
      "metadata": {
        "id": "9uWayz4RJIMT"
      },
      "source": [
        "scaler = MinMaxScaler()\n",
        "scaler.fit(X_train) # スケーラのfitは訓練データのみで行う\n",
        "X_train_scaled = X_train.copy()\n",
        "X_train_scaled[X_train.columns] = scaler.transform(X_train)\n",
        "X_valid_scaled = X_valid.copy()\n",
        "X_valid_scaled[X_valid.columns] = scaler.transform(X_valid) # 検証データに同じスケーリングを適用"
      ],
      "execution_count": null,
      "outputs": []
    },
    {
      "cell_type": "code",
      "metadata": {
        "id": "ppsk0w0lUV9L"
      },
      "source": [
        "reg = LinearRegression()\n",
        "reg.fit(X_train_scaled, y_train)\n",
        "y_valid_pred = reg.predict(X_valid_scaled)\n",
        "y_valid_pred[y_valid_pred > y_train.max()] = y_train.max()\n",
        "rmse = mean_squared_error(y_valid, y_valid_pred, squared=False)\n",
        "print(f'RMSE: {rmse:f}')"
      ],
      "execution_count": null,
      "outputs": []
    },
    {
      "cell_type": "markdown",
      "metadata": {
        "id": "2PT_IGbQLCis"
      },
      "source": [
        "# 課題\n",
        "\n",
        "* RMSEによって評価される予測性能を、良くして下さい\n",
        "* test setとそれ以外の部分の分割は、変えないでください\n",
        "  * test set以外の部分をどう使うかは、自由です。\n",
        "  * training setとvalidation setをくっつけて、交差検証をしていいです。\n",
        "* その他、いろいろ試行錯誤してみてください。\n",
        "  * リッジ回帰とLassoを使ってもいいです\n",
        "  * 高次多項式特徴量を使ってもいいです（cf. `sklearn.preprocessing.PolynomialFeatures`）\n",
        "* 予測手法のチューニングを尽くした上で、最後にtest setでのRMSEによる評価を実施してください。\n",
        "  * test setでの評価結果を見て、チューニングに戻ってはいけません。"
      ]
    },
    {
      "cell_type": "code",
      "metadata": {
        "id": "imAREvP4TQK7"
      },
      "source": [],
      "execution_count": null,
      "outputs": []
    }
  ]
}